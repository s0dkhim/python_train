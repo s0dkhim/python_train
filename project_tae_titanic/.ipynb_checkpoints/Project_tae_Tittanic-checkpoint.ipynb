{
 "cells": [
  {
   "cell_type": "markdown",
   "metadata": {
    "_cell_guid": "2f790bbf-1719-4d91-977c-c0890ac78192",
    "_uuid": "d078acf4cc246329c1107222b8ba73761a9b42b5"
   },
   "source": [
    "# Project Titanic\n",
    "\n",
    "\n",
    "### Part1 : Indtroduction\n",
    "### Part2 : Load and check data\n",
    "    1) load data\n",
    "\n",
    "    2) Outlier detection\n",
    "\n",
    "    3) joining train and test set\n",
    "\n",
    "    4) check for null and missing values\n",
    "### Part3 : Feature analysis\n",
    "    1) Numerical values\n",
    "\n",
    "    2) Categorical values\n",
    "### Part4 : Filling missing Values\n",
    "    1) Age\n",
    "\n",
    "### Part5 : Feature engineering\n",
    "    1) Name/Title\n",
    "\n",
    "    2) Family Size\n",
    "\n",
    "    3) Cabin\n",
    "\n",
    "    4) Ticket\n",
    "### Part6 : Modeling\n",
    "    1) StatsModels Logistic Regression: 8883/10,435 [85%]\n",
    "    2) TensorFlow: 7772/10435 [74.5%]\n",
    "    3) Decision Tree: 7644/10435[73%]\n",
    "    4) Random Forest: 1174/10435[11%]"
   ]
  },
  {
   "cell_type": "markdown",
   "metadata": {
    "_cell_guid": "c91b1111-1727-4fb4-97cf-e1f69d470be5",
    "_uuid": "d13b45efd0801651027dec292d097dea37e8da6f"
   },
   "source": [
    "## 1. Introduction\n",
    "분류 문제를 다루기위한 데이터 분석으로 가장 기본적인 타이타닉 생존률 예측 문제를 선택하였음.\n",
    "\n",
    "아래 3개의 Parts를 중심으로 데이터 탐색 및 모델링을 진행\n",
    "* **Feature analysis**\n",
    "* **Feature engineering**\n",
    "* **Modeling**"
   ]
  },
  {
   "cell_type": "code",
   "execution_count": 1,
   "metadata": {
    "_cell_guid": "67300bad-eafb-4a8e-82f6-e955a6ca070a",
    "_execution_state": "idle",
    "_uuid": "01844bfc7df2c62c1057f31e582fc1ebba9ca8f4"
   },
   "outputs": [],
   "source": [
    "import pandas as pd\n",
    "import numpy as np\n",
    "import matplotlib.pyplot as plt\n",
    "import seaborn as sns\n",
    "%matplotlib inline\n",
    "from sklearn.preprocessing import Binarizer\n",
    "\n",
    "from scipy import stats\n",
    "from collections import Counter\n",
    "import tensorflow as tf\n",
    "\n",
    "import warnings\n",
    "warnings.filterwarnings('ignore')\n",
    "\n",
    "sns.set(style='white', context='notebook', palette='deep')\n",
    "import statsmodels.api as sm\n",
    "from sklearn.linear_model import LogisticRegression\n",
    "import matplotlib as mpl"
   ]
  },
  {
   "cell_type": "markdown",
   "metadata": {
    "_cell_guid": "1f17e4f5-20f3-4e9c-8a56-adad76047552",
    "_uuid": "8c97f422f7970e77a1aa73e3d868e59db9b0861f"
   },
   "source": [
    "## 2. Load and check data\n",
    "### 2.1 train set 과 test set 불러오기"
   ]
  },
  {
   "cell_type": "code",
   "execution_count": 2,
   "metadata": {
    "_cell_guid": "fd53a1e8-0c79-4d00-823b-0988fd16b635",
    "_execution_state": "idle",
    "_uuid": "fdfaaf9242d609bb64403efe237876b435668c52"
   },
   "outputs": [],
   "source": [
    "# Load train and Test set\n",
    "train = pd.read_csv(\"./data/train.csv\")\n",
    "test = pd.read_csv(\"./data/test.csv\")\n",
    "IDtest = test[\"PassengerId\"]       "
   ]
  },
  {
   "cell_type": "code",
   "execution_count": 3,
   "metadata": {},
   "outputs": [
    {
     "name": "stdout",
     "output_type": "stream",
     "text": [
      "<class 'pandas.core.frame.DataFrame'>\n",
      "RangeIndex: 418 entries, 0 to 417\n",
      "Data columns (total 11 columns):\n",
      "PassengerId    418 non-null int64\n",
      "Pclass         418 non-null int64\n",
      "Name           418 non-null object\n",
      "Sex            418 non-null object\n",
      "Age            332 non-null float64\n",
      "SibSp          418 non-null int64\n",
      "Parch          418 non-null int64\n",
      "Ticket         418 non-null object\n",
      "Fare           417 non-null float64\n",
      "Cabin          91 non-null object\n",
      "Embarked       418 non-null object\n",
      "dtypes: float64(2), int64(4), object(5)\n",
      "memory usage: 36.0+ KB\n"
     ]
    }
   ],
   "source": [
    "test.info()"
   ]
  },
  {
   "cell_type": "code",
   "execution_count": 4,
   "metadata": {},
   "outputs": [
    {
     "name": "stdout",
     "output_type": "stream",
     "text": [
      "Train data :  (891, 12)\n",
      "Test  data :  (418, 11)\n"
     ]
    }
   ],
   "source": [
    "# Check the data set\n",
    "print(\"Train data : \", train.shape)\n",
    "print(\"Test  data : \", test.shape)"
   ]
  },
  {
   "cell_type": "code",
   "execution_count": 5,
   "metadata": {},
   "outputs": [
    {
     "name": "stdout",
     "output_type": "stream",
     "text": [
      "Train data columns Qty : 12 \n",
      "\n",
      "Train data columns : Index(['PassengerId', 'Survived', 'Pclass', 'Name', 'Sex', 'Age', 'SibSp',\n",
      "       'Parch', 'Ticket', 'Fare', 'Cabin', 'Embarked'],\n",
      "      dtype='object')\n"
     ]
    }
   ],
   "source": [
    "# Check the train data set's columns\n",
    "print(\"Train data columns Qty :\", len(train.columns), \"\\n\")\n",
    "print(\"Train data columns :\", train.columns)"
   ]
  },
  {
   "cell_type": "code",
   "execution_count": 6,
   "metadata": {},
   "outputs": [
    {
     "data": {
      "text/html": [
       "<div>\n",
       "<style scoped>\n",
       "    .dataframe tbody tr th:only-of-type {\n",
       "        vertical-align: middle;\n",
       "    }\n",
       "\n",
       "    .dataframe tbody tr th {\n",
       "        vertical-align: top;\n",
       "    }\n",
       "\n",
       "    .dataframe thead th {\n",
       "        text-align: right;\n",
       "    }\n",
       "</style>\n",
       "<table border=\"1\" class=\"dataframe\">\n",
       "  <thead>\n",
       "    <tr style=\"text-align: right;\">\n",
       "      <th></th>\n",
       "      <th>PassengerId</th>\n",
       "      <th>Survived</th>\n",
       "      <th>Pclass</th>\n",
       "      <th>Age</th>\n",
       "      <th>SibSp</th>\n",
       "      <th>Parch</th>\n",
       "      <th>Fare</th>\n",
       "    </tr>\n",
       "  </thead>\n",
       "  <tbody>\n",
       "    <tr>\n",
       "      <th>count</th>\n",
       "      <td>891.000000</td>\n",
       "      <td>891.000000</td>\n",
       "      <td>891.000000</td>\n",
       "      <td>714.000000</td>\n",
       "      <td>891.000000</td>\n",
       "      <td>891.000000</td>\n",
       "      <td>891.000000</td>\n",
       "    </tr>\n",
       "    <tr>\n",
       "      <th>mean</th>\n",
       "      <td>446.000000</td>\n",
       "      <td>0.383838</td>\n",
       "      <td>2.308642</td>\n",
       "      <td>29.699118</td>\n",
       "      <td>0.523008</td>\n",
       "      <td>0.381594</td>\n",
       "      <td>32.204208</td>\n",
       "    </tr>\n",
       "    <tr>\n",
       "      <th>std</th>\n",
       "      <td>257.353842</td>\n",
       "      <td>0.486592</td>\n",
       "      <td>0.836071</td>\n",
       "      <td>14.526497</td>\n",
       "      <td>1.102743</td>\n",
       "      <td>0.806057</td>\n",
       "      <td>49.693429</td>\n",
       "    </tr>\n",
       "    <tr>\n",
       "      <th>min</th>\n",
       "      <td>1.000000</td>\n",
       "      <td>0.000000</td>\n",
       "      <td>1.000000</td>\n",
       "      <td>0.420000</td>\n",
       "      <td>0.000000</td>\n",
       "      <td>0.000000</td>\n",
       "      <td>0.000000</td>\n",
       "    </tr>\n",
       "    <tr>\n",
       "      <th>25%</th>\n",
       "      <td>223.500000</td>\n",
       "      <td>0.000000</td>\n",
       "      <td>2.000000</td>\n",
       "      <td>20.125000</td>\n",
       "      <td>0.000000</td>\n",
       "      <td>0.000000</td>\n",
       "      <td>7.910400</td>\n",
       "    </tr>\n",
       "    <tr>\n",
       "      <th>50%</th>\n",
       "      <td>446.000000</td>\n",
       "      <td>0.000000</td>\n",
       "      <td>3.000000</td>\n",
       "      <td>28.000000</td>\n",
       "      <td>0.000000</td>\n",
       "      <td>0.000000</td>\n",
       "      <td>14.454200</td>\n",
       "    </tr>\n",
       "    <tr>\n",
       "      <th>75%</th>\n",
       "      <td>668.500000</td>\n",
       "      <td>1.000000</td>\n",
       "      <td>3.000000</td>\n",
       "      <td>38.000000</td>\n",
       "      <td>1.000000</td>\n",
       "      <td>0.000000</td>\n",
       "      <td>31.000000</td>\n",
       "    </tr>\n",
       "    <tr>\n",
       "      <th>max</th>\n",
       "      <td>891.000000</td>\n",
       "      <td>1.000000</td>\n",
       "      <td>3.000000</td>\n",
       "      <td>80.000000</td>\n",
       "      <td>8.000000</td>\n",
       "      <td>6.000000</td>\n",
       "      <td>512.329200</td>\n",
       "    </tr>\n",
       "  </tbody>\n",
       "</table>\n",
       "</div>"
      ],
      "text/plain": [
       "       PassengerId    Survived      Pclass         Age       SibSp  \\\n",
       "count   891.000000  891.000000  891.000000  714.000000  891.000000   \n",
       "mean    446.000000    0.383838    2.308642   29.699118    0.523008   \n",
       "std     257.353842    0.486592    0.836071   14.526497    1.102743   \n",
       "min       1.000000    0.000000    1.000000    0.420000    0.000000   \n",
       "25%     223.500000    0.000000    2.000000   20.125000    0.000000   \n",
       "50%     446.000000    0.000000    3.000000   28.000000    0.000000   \n",
       "75%     668.500000    1.000000    3.000000   38.000000    1.000000   \n",
       "max     891.000000    1.000000    3.000000   80.000000    8.000000   \n",
       "\n",
       "            Parch        Fare  \n",
       "count  891.000000  891.000000  \n",
       "mean     0.381594   32.204208  \n",
       "std      0.806057   49.693429  \n",
       "min      0.000000    0.000000  \n",
       "25%      0.000000    7.910400  \n",
       "50%      0.000000   14.454200  \n",
       "75%      0.000000   31.000000  \n",
       "max      6.000000  512.329200  "
      ]
     },
     "execution_count": 6,
     "metadata": {},
     "output_type": "execute_result"
    }
   ],
   "source": [
    "# states of train data set\n",
    "# describe the train\n",
    "train.describe()"
   ]
  },
  {
   "cell_type": "markdown",
   "metadata": {},
   "source": [
    "### Comments: Data set을 요약하여 살펴보면 Age, Cabin, Embarked에 null값이 존재함을 알 수 있음"
   ]
  },
  {
   "cell_type": "code",
   "execution_count": 7,
   "metadata": {
    "scrolled": true
   },
   "outputs": [
    {
     "data": {
      "text/html": [
       "<div>\n",
       "<style scoped>\n",
       "    .dataframe tbody tr th:only-of-type {\n",
       "        vertical-align: middle;\n",
       "    }\n",
       "\n",
       "    .dataframe tbody tr th {\n",
       "        vertical-align: top;\n",
       "    }\n",
       "\n",
       "    .dataframe thead th {\n",
       "        text-align: right;\n",
       "    }\n",
       "</style>\n",
       "<table border=\"1\" class=\"dataframe\">\n",
       "  <thead>\n",
       "    <tr style=\"text-align: right;\">\n",
       "      <th></th>\n",
       "      <th></th>\n",
       "      <th>actual_value_percent(%)</th>\n",
       "      <th>actual_value_qty</th>\n",
       "      <th>null_qty</th>\n",
       "      <th>unique_values_qty</th>\n",
       "    </tr>\n",
       "    <tr>\n",
       "      <th>dtype</th>\n",
       "      <th>column_name</th>\n",
       "      <th></th>\n",
       "      <th></th>\n",
       "      <th></th>\n",
       "      <th></th>\n",
       "    </tr>\n",
       "  </thead>\n",
       "  <tbody>\n",
       "    <tr>\n",
       "      <th rowspan=\"5\" valign=\"top\">int64</th>\n",
       "      <th>Parch</th>\n",
       "      <td>100.0</td>\n",
       "      <td>891.0</td>\n",
       "      <td>0.0</td>\n",
       "      <td>7.0</td>\n",
       "    </tr>\n",
       "    <tr>\n",
       "      <th>PassengerId</th>\n",
       "      <td>100.0</td>\n",
       "      <td>891.0</td>\n",
       "      <td>0.0</td>\n",
       "      <td>891.0</td>\n",
       "    </tr>\n",
       "    <tr>\n",
       "      <th>Pclass</th>\n",
       "      <td>100.0</td>\n",
       "      <td>891.0</td>\n",
       "      <td>0.0</td>\n",
       "      <td>3.0</td>\n",
       "    </tr>\n",
       "    <tr>\n",
       "      <th>SibSp</th>\n",
       "      <td>100.0</td>\n",
       "      <td>891.0</td>\n",
       "      <td>0.0</td>\n",
       "      <td>7.0</td>\n",
       "    </tr>\n",
       "    <tr>\n",
       "      <th>Survived</th>\n",
       "      <td>100.0</td>\n",
       "      <td>891.0</td>\n",
       "      <td>0.0</td>\n",
       "      <td>2.0</td>\n",
       "    </tr>\n",
       "    <tr>\n",
       "      <th rowspan=\"2\" valign=\"top\">float64</th>\n",
       "      <th>Age</th>\n",
       "      <td>80.1</td>\n",
       "      <td>714.0</td>\n",
       "      <td>177.0</td>\n",
       "      <td>89.0</td>\n",
       "    </tr>\n",
       "    <tr>\n",
       "      <th>Fare</th>\n",
       "      <td>100.0</td>\n",
       "      <td>891.0</td>\n",
       "      <td>0.0</td>\n",
       "      <td>248.0</td>\n",
       "    </tr>\n",
       "    <tr>\n",
       "      <th rowspan=\"5\" valign=\"top\">object</th>\n",
       "      <th>Cabin</th>\n",
       "      <td>22.9</td>\n",
       "      <td>204.0</td>\n",
       "      <td>687.0</td>\n",
       "      <td>148.0</td>\n",
       "    </tr>\n",
       "    <tr>\n",
       "      <th>Embarked</th>\n",
       "      <td>99.8</td>\n",
       "      <td>889.0</td>\n",
       "      <td>2.0</td>\n",
       "      <td>4.0</td>\n",
       "    </tr>\n",
       "    <tr>\n",
       "      <th>Name</th>\n",
       "      <td>100.0</td>\n",
       "      <td>891.0</td>\n",
       "      <td>0.0</td>\n",
       "      <td>891.0</td>\n",
       "    </tr>\n",
       "    <tr>\n",
       "      <th>Sex</th>\n",
       "      <td>100.0</td>\n",
       "      <td>891.0</td>\n",
       "      <td>0.0</td>\n",
       "      <td>2.0</td>\n",
       "    </tr>\n",
       "    <tr>\n",
       "      <th>Ticket</th>\n",
       "      <td>100.0</td>\n",
       "      <td>891.0</td>\n",
       "      <td>0.0</td>\n",
       "      <td>681.0</td>\n",
       "    </tr>\n",
       "  </tbody>\n",
       "</table>\n",
       "</div>"
      ],
      "text/plain": [
       "                     actual_value_percent(%)  actual_value_qty  null_qty  \\\n",
       "dtype   column_name                                                        \n",
       "int64   Parch                          100.0             891.0       0.0   \n",
       "        PassengerId                    100.0             891.0       0.0   \n",
       "        Pclass                         100.0             891.0       0.0   \n",
       "        SibSp                          100.0             891.0       0.0   \n",
       "        Survived                       100.0             891.0       0.0   \n",
       "float64 Age                             80.1             714.0     177.0   \n",
       "        Fare                           100.0             891.0       0.0   \n",
       "object  Cabin                           22.9             204.0     687.0   \n",
       "        Embarked                        99.8             889.0       2.0   \n",
       "        Name                           100.0             891.0       0.0   \n",
       "        Sex                            100.0             891.0       0.0   \n",
       "        Ticket                         100.0             891.0       0.0   \n",
       "\n",
       "                     unique_values_qty  \n",
       "dtype   column_name                     \n",
       "int64   Parch                      7.0  \n",
       "        PassengerId              891.0  \n",
       "        Pclass                     3.0  \n",
       "        SibSp                      7.0  \n",
       "        Survived                   2.0  \n",
       "float64 Age                       89.0  \n",
       "        Fare                     248.0  \n",
       "object  Cabin                    148.0  \n",
       "        Embarked                   4.0  \n",
       "        Name                     891.0  \n",
       "        Sex                        2.0  \n",
       "        Ticket                   681.0  "
      ]
     },
     "execution_count": 7,
     "metadata": {},
     "output_type": "execute_result"
    }
   ],
   "source": [
    "# states of train data set\n",
    "# describe the data by dtype\n",
    "\n",
    "summary_train = pd.DataFrame()\n",
    "for col in train.columns:\n",
    "    \n",
    "    # column's name\n",
    "    column_name = col\n",
    "    \n",
    "    # check column's type\n",
    "    dtype = train[column_name].dtype\n",
    "    \n",
    "    # check the qty of not null data per each column\n",
    "    actual_value_qty = len(train.loc[train[column_name].notnull()])\n",
    " \n",
    "    # length of each columns\n",
    "    rows = len(train[column_name])\n",
    "    \n",
    "    # percent of not null values per columns\n",
    "    actual_value_percent = round((actual_value_qty / rows)*100,1)\n",
    "    \n",
    "    # count the unique values per columns\n",
    "    unique_values = len(train[column_name].unique())\n",
    "    \n",
    "    # sum up the null values per columns\n",
    "    null_qty = train[column_name].isnull().sum()\n",
    "    \n",
    "    # make the dataframe\n",
    "    data = {'column_name' : column_name, 'dtype' : dtype, 'actual_value_qty' : actual_value_qty,'null_qty' : null_qty, \\\n",
    "            'actual_value_percent(%)' : actual_value_percent  ,'unique_values_qty' : unique_values}\n",
    "    \n",
    "    summary_train = summary_train.append(data, ignore_index = True)\n",
    "    \n",
    "\n",
    "summary_train.pivot_table(index = ['dtype', 'column_name'])"
   ]
  },
  {
   "cell_type": "markdown",
   "metadata": {},
   "source": [
    "### 2-2 Analysis the univaiance"
   ]
  },
  {
   "cell_type": "markdown",
   "metadata": {},
   "source": [
    "    1) 정량적 변수와 정성적 변수를 나누어 구분"
   ]
  },
  {
   "cell_type": "code",
   "execution_count": 8,
   "metadata": {},
   "outputs": [],
   "source": [
    "# Pclass의 경우 카테고리 범주이기 때문에 int에서 string으로 데이터 타입을 변경 \n",
    "train[\"Pclass\"] = train[\"Pclass\"].astype(\"str\")\n",
    "test[\"Pclass\"] = test[\"Pclass\"].astype(\"str\")"
   ]
  },
  {
   "cell_type": "code",
   "execution_count": 9,
   "metadata": {},
   "outputs": [],
   "source": [
    "numerical_features = []\n",
    "categorical_features = []\n",
    "for f in train.columns:\n",
    "    if train.dtypes[f] != 'object':\n",
    "        numerical_features.append(f)\n",
    "    else:\n",
    "        categorical_features.append(f)"
   ]
  },
  {
   "cell_type": "code",
   "execution_count": 10,
   "metadata": {},
   "outputs": [
    {
     "name": "stdout",
     "output_type": "stream",
     "text": [
      "Numerical Features Qty : 6 \n",
      "\n",
      "Numerical Features :  ['PassengerId', 'Survived', 'Age', 'SibSp', 'Parch', 'Fare'] \n",
      "\n",
      "Categorical Features Qty : 6 \n",
      "\n",
      "Categorical Features : ['Pclass', 'Name', 'Sex', 'Ticket', 'Cabin', 'Embarked']\n"
     ]
    }
   ],
   "source": [
    "print(\"Numerical Features Qty :\", len(numerical_features),\"\\n\")\n",
    "print(\"Numerical Features : \", numerical_features, \"\\n\")\n",
    "print(\"Categorical Features Qty :\", len(categorical_features),\"\\n\")\n",
    "print(\"Categorical Features :\", categorical_features)"
   ]
  },
  {
   "cell_type": "markdown",
   "metadata": {
    "_cell_guid": "06c79bd7-6180-4c42-baef-8632bd1b27a1",
    "_uuid": "f927619c2c668bb1004aa0cce909a9732b2626fd"
   },
   "source": [
    "### 2.3 Outlier detection"
   ]
  },
  {
   "cell_type": "markdown",
   "metadata": {},
   "source": [
    "    1) box-and-whisker IQR 방법을 통해 아웃라이어를 제거"
   ]
  },
  {
   "cell_type": "code",
   "execution_count": 11,
   "metadata": {
    "_cell_guid": "6fde3971-ffa0-423c-991f-15f8502fe5bb",
    "_execution_state": "idle",
    "_uuid": "85a3c96713afbc48fbe2489d6872917743b220d8"
   },
   "outputs": [],
   "source": [
    "# Outlier detection by Box plot \n",
    "\n",
    "def detect_outliers(data, features):\n",
    "    \n",
    "    outlier_indices = []\n",
    "    # iterate over features(columns)\n",
    "    for feature in features:\n",
    "        # 1st quartile (25%)\n",
    "        Q1 = np.percentile(data[feature], 25)\n",
    "         # 3rd quartile (75%)\n",
    "        Q3 = np.percentile(data[feature], 75)\n",
    "        # Interquartile range (IQR)\n",
    "        IQR = Q3 - Q1\n",
    "        \n",
    "         # outlier step\n",
    "        outlier_step = 1.5 * IQR\n",
    "        \n",
    "        # determine a list of indices of outliers for feature col\n",
    "        outliers = data[(data[feature] < Q1 - outlier_step) | (data[feature] > Q3 + outlier_step )].index\n",
    "        \n",
    "        # append the found outlier indices for col to the list of outlier indices \n",
    "        outlier_indices.extend(outliers)\n",
    "        \n",
    "    outlier_indices = Counter(outlier_indices)\n",
    "    outliers = list( num for num, qty in outlier_indices.items() if qty > 2 )\n",
    "        \n",
    "    return outliers   "
   ]
  },
  {
   "cell_type": "code",
   "execution_count": 12,
   "metadata": {
    "_cell_guid": "6fde3971-ffa0-423c-991f-15f8502fe5bb",
    "_execution_state": "idle",
    "_uuid": "85a3c96713afbc48fbe2489d6872917743b220d8",
    "scrolled": true
   },
   "outputs": [],
   "source": [
    "# detect outliers from Age, SibSp , Parch and Fare\n",
    "Outliers_numerical_features = detect_outliers(train,[\"Age\", \"SibSp\",\"Parch\", \"Fare\"])\n"
   ]
  },
  {
   "cell_type": "markdown",
   "metadata": {},
   "source": [
    "* Comments : 10개의 아웃라이어 제거"
   ]
  },
  {
   "cell_type": "code",
   "execution_count": 13,
   "metadata": {},
   "outputs": [
    {
     "data": {
      "text/html": [
       "<div>\n",
       "<style scoped>\n",
       "    .dataframe tbody tr th:only-of-type {\n",
       "        vertical-align: middle;\n",
       "    }\n",
       "\n",
       "    .dataframe tbody tr th {\n",
       "        vertical-align: top;\n",
       "    }\n",
       "\n",
       "    .dataframe thead th {\n",
       "        text-align: right;\n",
       "    }\n",
       "</style>\n",
       "<table border=\"1\" class=\"dataframe\">\n",
       "  <thead>\n",
       "    <tr style=\"text-align: right;\">\n",
       "      <th></th>\n",
       "      <th>PassengerId</th>\n",
       "      <th>Survived</th>\n",
       "      <th>Pclass</th>\n",
       "      <th>Name</th>\n",
       "      <th>Sex</th>\n",
       "      <th>Age</th>\n",
       "      <th>SibSp</th>\n",
       "      <th>Parch</th>\n",
       "      <th>Ticket</th>\n",
       "      <th>Fare</th>\n",
       "      <th>Cabin</th>\n",
       "      <th>Embarked</th>\n",
       "    </tr>\n",
       "  </thead>\n",
       "  <tbody>\n",
       "    <tr>\n",
       "      <th>27</th>\n",
       "      <td>28</td>\n",
       "      <td>0</td>\n",
       "      <td>1</td>\n",
       "      <td>Fortune, Mr. Charles Alexander</td>\n",
       "      <td>male</td>\n",
       "      <td>19.0</td>\n",
       "      <td>3</td>\n",
       "      <td>2</td>\n",
       "      <td>19950</td>\n",
       "      <td>263.00</td>\n",
       "      <td>C23 C25 C27</td>\n",
       "      <td>S</td>\n",
       "    </tr>\n",
       "    <tr>\n",
       "      <th>88</th>\n",
       "      <td>89</td>\n",
       "      <td>1</td>\n",
       "      <td>1</td>\n",
       "      <td>Fortune, Miss. Mabel Helen</td>\n",
       "      <td>female</td>\n",
       "      <td>23.0</td>\n",
       "      <td>3</td>\n",
       "      <td>2</td>\n",
       "      <td>19950</td>\n",
       "      <td>263.00</td>\n",
       "      <td>C23 C25 C27</td>\n",
       "      <td>S</td>\n",
       "    </tr>\n",
       "    <tr>\n",
       "      <th>159</th>\n",
       "      <td>160</td>\n",
       "      <td>0</td>\n",
       "      <td>3</td>\n",
       "      <td>Sage, Master. Thomas Henry</td>\n",
       "      <td>male</td>\n",
       "      <td>NaN</td>\n",
       "      <td>8</td>\n",
       "      <td>2</td>\n",
       "      <td>CA. 2343</td>\n",
       "      <td>69.55</td>\n",
       "      <td>NaN</td>\n",
       "      <td>S</td>\n",
       "    </tr>\n",
       "    <tr>\n",
       "      <th>180</th>\n",
       "      <td>181</td>\n",
       "      <td>0</td>\n",
       "      <td>3</td>\n",
       "      <td>Sage, Miss. Constance Gladys</td>\n",
       "      <td>female</td>\n",
       "      <td>NaN</td>\n",
       "      <td>8</td>\n",
       "      <td>2</td>\n",
       "      <td>CA. 2343</td>\n",
       "      <td>69.55</td>\n",
       "      <td>NaN</td>\n",
       "      <td>S</td>\n",
       "    </tr>\n",
       "    <tr>\n",
       "      <th>201</th>\n",
       "      <td>202</td>\n",
       "      <td>0</td>\n",
       "      <td>3</td>\n",
       "      <td>Sage, Mr. Frederick</td>\n",
       "      <td>male</td>\n",
       "      <td>NaN</td>\n",
       "      <td>8</td>\n",
       "      <td>2</td>\n",
       "      <td>CA. 2343</td>\n",
       "      <td>69.55</td>\n",
       "      <td>NaN</td>\n",
       "      <td>S</td>\n",
       "    </tr>\n",
       "    <tr>\n",
       "      <th>324</th>\n",
       "      <td>325</td>\n",
       "      <td>0</td>\n",
       "      <td>3</td>\n",
       "      <td>Sage, Mr. George John Jr</td>\n",
       "      <td>male</td>\n",
       "      <td>NaN</td>\n",
       "      <td>8</td>\n",
       "      <td>2</td>\n",
       "      <td>CA. 2343</td>\n",
       "      <td>69.55</td>\n",
       "      <td>NaN</td>\n",
       "      <td>S</td>\n",
       "    </tr>\n",
       "    <tr>\n",
       "      <th>341</th>\n",
       "      <td>342</td>\n",
       "      <td>1</td>\n",
       "      <td>1</td>\n",
       "      <td>Fortune, Miss. Alice Elizabeth</td>\n",
       "      <td>female</td>\n",
       "      <td>24.0</td>\n",
       "      <td>3</td>\n",
       "      <td>2</td>\n",
       "      <td>19950</td>\n",
       "      <td>263.00</td>\n",
       "      <td>C23 C25 C27</td>\n",
       "      <td>S</td>\n",
       "    </tr>\n",
       "    <tr>\n",
       "      <th>792</th>\n",
       "      <td>793</td>\n",
       "      <td>0</td>\n",
       "      <td>3</td>\n",
       "      <td>Sage, Miss. Stella Anna</td>\n",
       "      <td>female</td>\n",
       "      <td>NaN</td>\n",
       "      <td>8</td>\n",
       "      <td>2</td>\n",
       "      <td>CA. 2343</td>\n",
       "      <td>69.55</td>\n",
       "      <td>NaN</td>\n",
       "      <td>S</td>\n",
       "    </tr>\n",
       "    <tr>\n",
       "      <th>846</th>\n",
       "      <td>847</td>\n",
       "      <td>0</td>\n",
       "      <td>3</td>\n",
       "      <td>Sage, Mr. Douglas Bullen</td>\n",
       "      <td>male</td>\n",
       "      <td>NaN</td>\n",
       "      <td>8</td>\n",
       "      <td>2</td>\n",
       "      <td>CA. 2343</td>\n",
       "      <td>69.55</td>\n",
       "      <td>NaN</td>\n",
       "      <td>S</td>\n",
       "    </tr>\n",
       "    <tr>\n",
       "      <th>863</th>\n",
       "      <td>864</td>\n",
       "      <td>0</td>\n",
       "      <td>3</td>\n",
       "      <td>Sage, Miss. Dorothy Edith \"Dolly\"</td>\n",
       "      <td>female</td>\n",
       "      <td>NaN</td>\n",
       "      <td>8</td>\n",
       "      <td>2</td>\n",
       "      <td>CA. 2343</td>\n",
       "      <td>69.55</td>\n",
       "      <td>NaN</td>\n",
       "      <td>S</td>\n",
       "    </tr>\n",
       "  </tbody>\n",
       "</table>\n",
       "</div>"
      ],
      "text/plain": [
       "     PassengerId  Survived Pclass                               Name     Sex  \\\n",
       "27            28         0      1     Fortune, Mr. Charles Alexander    male   \n",
       "88            89         1      1         Fortune, Miss. Mabel Helen  female   \n",
       "159          160         0      3         Sage, Master. Thomas Henry    male   \n",
       "180          181         0      3       Sage, Miss. Constance Gladys  female   \n",
       "201          202         0      3                Sage, Mr. Frederick    male   \n",
       "324          325         0      3           Sage, Mr. George John Jr    male   \n",
       "341          342         1      1     Fortune, Miss. Alice Elizabeth  female   \n",
       "792          793         0      3            Sage, Miss. Stella Anna  female   \n",
       "846          847         0      3           Sage, Mr. Douglas Bullen    male   \n",
       "863          864         0      3  Sage, Miss. Dorothy Edith \"Dolly\"  female   \n",
       "\n",
       "      Age  SibSp  Parch    Ticket    Fare        Cabin Embarked  \n",
       "27   19.0      3      2     19950  263.00  C23 C25 C27        S  \n",
       "88   23.0      3      2     19950  263.00  C23 C25 C27        S  \n",
       "159   NaN      8      2  CA. 2343   69.55          NaN        S  \n",
       "180   NaN      8      2  CA. 2343   69.55          NaN        S  \n",
       "201   NaN      8      2  CA. 2343   69.55          NaN        S  \n",
       "324   NaN      8      2  CA. 2343   69.55          NaN        S  \n",
       "341  24.0      3      2     19950  263.00  C23 C25 C27        S  \n",
       "792   NaN      8      2  CA. 2343   69.55          NaN        S  \n",
       "846   NaN      8      2  CA. 2343   69.55          NaN        S  \n",
       "863   NaN      8      2  CA. 2343   69.55          NaN        S  "
      ]
     },
     "execution_count": 13,
     "metadata": {},
     "output_type": "execute_result"
    }
   ],
   "source": [
    "train.loc[Outliers_numerical_features]"
   ]
  },
  {
   "cell_type": "code",
   "execution_count": 14,
   "metadata": {},
   "outputs": [],
   "source": [
    "# drop outliers\n",
    "train = train.drop(Outliers_numerical_features, axis = 0).reset_index(drop=True)"
   ]
  },
  {
   "cell_type": "markdown",
   "metadata": {},
   "source": [
    "### 2.4 Handle missing data"
   ]
  },
  {
   "cell_type": "markdown",
   "metadata": {},
   "source": [
    "    1) train set과 test set join\n",
    "        : 추후 EDA를 통해 데이터 타입 및 Missing Value 처리시 일관성을 유지하기 위해서임"
   ]
  },
  {
   "cell_type": "code",
   "execution_count": 15,
   "metadata": {},
   "outputs": [],
   "source": [
    "train_len = len(train)\n",
    "all_data =  pd.concat([train, test], axis=0).reset_index(drop=True)"
   ]
  },
  {
   "cell_type": "markdown",
   "metadata": {},
   "source": [
    "    2) null and missing value 확인"
   ]
  },
  {
   "cell_type": "code",
   "execution_count": 16,
   "metadata": {},
   "outputs": [],
   "source": [
    "# Fill empty and NaNs values with NaN\n",
    "all_data = all_data.fillna(np.nan)\n",
    "\n",
    "# Copy all_data\n",
    "all_data_cp = all_data.copy()\n",
    "\n",
    "# check for null values\n",
    "all_data_null = all_data_cp.isnull().sum()\n",
    "all_data_null = all_data_null.drop(all_data_null[all_data_null == 0].index).sort_values(ascending=False)\n",
    "\n",
    "# drop the null values of Survived because Survived missing values correspond to the join testing dataset\n",
    "del all_data_null['Survived']"
   ]
  },
  {
   "cell_type": "markdown",
   "metadata": {},
   "source": [
    "* Misiing Value의 비중을 살펴본 결과 Cabin과 Age가 많은 비중을 차지하고 있음"
   ]
  },
  {
   "cell_type": "code",
   "execution_count": 17,
   "metadata": {},
   "outputs": [
    {
     "name": "stdout",
     "output_type": "stream",
     "text": [
      "Missing Data Features's Qty :  [4]\n",
      "Total Missing Data's Qty :  [1266]\n"
     ]
    },
    {
     "data": {
      "image/png": "[encoded data removed]",
      "text/plain": [
       "<matplotlib.figure.Figure at 0x10dbc82e8>"
      ]
     },
     "metadata": {},
     "output_type": "display_data"
    }
   ],
   "source": [
    "# make missing dataframe\n",
    "all_data_missing = pd.DataFrame({'Missing Numbers' :all_data_null})\n",
    "all_data_null =  all_data_null / len(all_data_cp)*100\n",
    "\n",
    "# draw the graph for missing data \n",
    "f, ax = plt.subplots(figsize=(10, 3))\n",
    "plt.xticks(rotation='90')\n",
    "sns.barplot(x=all_data_null.index, y=all_data_null)\n",
    "plt.xlabel('Features', fontsize=15)\n",
    "plt.ylabel('Percent of missing values', fontsize=15)\n",
    "plt.title('Percent missing data by feature', fontsize=15)\n",
    "\n",
    "print(\"Missing Data Features's Qty : \" , all_data_missing.count().values)\n",
    "print(\"Total Missing Data's Qty : \" , all_data_missing.sum().values)"
   ]
  },
  {
   "cell_type": "markdown",
   "metadata": {
    "_cell_guid": "7ffe56c3-62ea-4b79-8e56-ed11e6d25142",
    "_uuid": "218f6ebf257b55bcf3266f74b958679ccdc9bbf0"
   },
   "source": [
    "## 3. Feature analysis\n",
    "### 3.1 정성적 변수"
   ]
  },
  {
   "cell_type": "markdown",
   "metadata": {},
   "source": [
    "* 아래 heatmap을 통해 살펴본 결과, Fare만이 유의미한 관계를 지니고 있는 것으로 보임.\n",
    "* 하지만 더 정확한 관계를 파악하기 위해 Feature별로 자세히 분석해볼 필요가 있음"
   ]
  },
  {
   "cell_type": "code",
   "execution_count": 18,
   "metadata": {
    "_cell_guid": "fde3ce29-4d9c-4e08-88fa-da5a8b549299",
    "_execution_state": "idle",
    "_uuid": "a5218179856b08c053c2548618b57267eccb4126"
   },
   "outputs": [
    {
     "data": {
      "image/png": "[encoded data removed]",
      "text/plain": [
       "<matplotlib.figure.Figure at 0x10dc6be10>"
      ]
     },
     "metadata": {},
     "output_type": "display_data"
    }
   ],
   "source": [
    "# Correlation matrix between numerical values (SibSp Parch Age and Fare values) and Survived \n",
    "ls_numeric = [\"Survived\",\"SibSp\",\"Parch\",\"Age\",\"Fare\"]\n",
    "corr = train[ls_numeric].corr()\n",
    "mask = np.zeros_like(corr)\n",
    "mask[np.triu_indices_from(mask)] = True\n",
    "with sns.axes_style(\"white\"):\n",
    "    ax = sns.heatmap(corr, mask = mask, annot=True, fmt = \".2f\", cmap = \"YlGnBu\")"
   ]
  },
  {
   "cell_type": "markdown",
   "metadata": {
    "_cell_guid": "11fd0afb-2433-420c-94f8-c2fac051e1a3",
    "_uuid": "e41320df234bfc830faa9352d6211b0253fcb9aa"
   },
   "source": [
    "#### SibSP\n",
    "* 함께 탄 가족(그 중에서도 배우자, 형제자매)이 많을수록 생존률이 낮음을 알 수 있음\n",
    "* 혼자(0) 타거나 가족이 1~2명인 경우 생존률이 높음"
   ]
  },
  {
   "cell_type": "code",
   "execution_count": 19,
   "metadata": {
    "_cell_guid": "c15217da-0db5-4386-aa8a-da06cd0bfc1c",
    "_execution_state": "idle",
    "_uuid": "b4418a9f2447787aca13b17898d52d8c1cd59b1b",
    "scrolled": true
   },
   "outputs": [
    {
     "data": {
      "image/png": "[encoded data removed]",
      "text/plain": [
       "<matplotlib.figure.Figure at 0x10dd33cc0>"
      ]
     },
     "metadata": {},
     "output_type": "display_data"
    }
   ],
   "source": [
    "g = sns.factorplot(x=\"SibSp\",y=\"Survived\",data=train,kind=\"bar\", size = 5 , palette = \"muted\")\n",
    "g.despine(left=True)\n",
    "g = g.set_ylabels(\"survival probability\")"
   ]
  },
  {
   "cell_type": "markdown",
   "metadata": {
    "_cell_guid": "131a75ea-f5a4-436a-9c16-c2ce24348c2b",
    "_uuid": "26ceb23758e2faebf3aac0ba072114a493ebf52c"
   },
   "source": [
    "#### Parch\n",
    "* 부모님이나 자식과 함께 탄 경우 혼자(0)인 경우보다 생존률이 높음"
   ]
  },
  {
   "cell_type": "code",
   "execution_count": 20,
   "metadata": {
    "_cell_guid": "7aac2377-8199-4afb-9cb2-b397c240f6c1",
    "_execution_state": "idle",
    "_uuid": "04b13f92bcdae2fbc4519a1f060d494510d34b87"
   },
   "outputs": [
    {
     "data": {
      "image/png": "[encoded data removed]",
      "text/plain": [
       "<matplotlib.figure.Figure at 0x10dd656d8>"
      ]
     },
     "metadata": {},
     "output_type": "display_data"
    }
   ],
   "source": [
    "# Explore Parch feature vs Survived\n",
    "g  = sns.factorplot(x=\"Parch\",y=\"Survived\",data=train,kind=\"bar\", size = 5 , palette = \"muted\")\n",
    "g.despine(left=True)\n",
    "g = g.set_ylabels(\"survival probability\")"
   ]
  },
  {
   "cell_type": "markdown",
   "metadata": {
    "_cell_guid": "dd2fe3e5-9e86-4277-9072-1c85cb966018",
    "_uuid": "a8b30fcc2716cd17669ede9420f9d39f5b4d4b80"
   },
   "source": [
    "#### Age\n",
    "* 생존한 경우(Survived = 1), 생존하지 않은 경우(Survived = 0)을 구분해서 분포를 살펴 봤을 때,나이가 어린 사람들이 생존을 많이 했음을 알 수 있음\n",
    "* 두 번째 그래프에서 보시다시피, 생존&생존하지 않은 경우를 포개어 봤을때 그 차이가 명확함"
   ]
  },
  {
   "cell_type": "code",
   "execution_count": 21,
   "metadata": {
    "_cell_guid": "a4309d84-63a9-4e26-a718-6f78d1225963",
    "_execution_state": "idle",
    "_uuid": "ed8b275b34f15bb14b971dbb66a53f72dfff224c"
   },
   "outputs": [
    {
     "data": {
      "image/png": "[encoded data removed]",
      "text/plain": [
       "<matplotlib.figure.Figure at 0x10db63a58>"
      ]
     },
     "metadata": {},
     "output_type": "display_data"
    }
   ],
   "source": [
    "# Explore Age vs Survived\n",
    "g = sns.FacetGrid(train, col='Survived')\n",
    "g = g.map(sns.distplot, \"Age\")"
   ]
  },
  {
   "cell_type": "code",
   "execution_count": 22,
   "metadata": {
    "_cell_guid": "c379f4eb-ee82-44d8-8e65-06abbc86e9b5",
    "_execution_state": "idle",
    "_uuid": "4a5369826101a978d15c94f93bdedd2b17fd8c1d"
   },
   "outputs": [
    {
     "data": {
      "image/png": "[encoded data removed]",
      "text/plain": [
       "<matplotlib.figure.Figure at 0x10df04940>"
      ]
     },
     "metadata": {},
     "output_type": "display_data"
    }
   ],
   "source": [
    "# Explore Age distibution \n",
    "g = sns.kdeplot(train[\"Age\"][(train[\"Survived\"] == 0) & (train[\"Age\"].notnull())], color=\"Red\", shade = True)\n",
    "g = sns.kdeplot(train[\"Age\"][(train[\"Survived\"] == 1) & (train[\"Age\"].notnull())], ax =g, color=\"Blue\", shade= True)\n",
    "g.set_xlabel(\"Age\")\n",
    "g.set_ylabel(\"Frequency\")\n",
    "g = g.legend([\"Not Survived\",\"Survived\"])"
   ]
  },
  {
   "cell_type": "markdown",
   "metadata": {
    "_cell_guid": "760abd84-1f67-4e94-acd1-884565c51f22",
    "_uuid": "a1928defede25526b073cdea62bf22f0889b619e"
   },
   "source": [
    "#### Fare\n",
    "* 하나의 Missing Value가 존재하기 때문에 평균으로 처리 하였음"
   ]
  },
  {
   "cell_type": "code",
   "execution_count": 23,
   "metadata": {
    "_cell_guid": "15f0186d-e558-4699-8870-e9e5f3870c28",
    "_execution_state": "idle",
    "_uuid": "996872cb6ba14f9d05b1cc2cf20db7234d575aa5"
   },
   "outputs": [
    {
     "data": {
      "text/plain": [
       "1"
      ]
     },
     "execution_count": 23,
     "metadata": {},
     "output_type": "execute_result"
    }
   ],
   "source": [
    "# check how many missing values on Fare\n",
    "all_data[\"Fare\"].isnull().sum()"
   ]
  },
  {
   "cell_type": "code",
   "execution_count": 24,
   "metadata": {
    "_cell_guid": "90c3f7d2-c9ee-4946-94b1-201078f09f07",
    "_execution_state": "idle",
    "_uuid": "f5c6d105729429193b02519bfac8596d190aa561"
   },
   "outputs": [],
   "source": [
    "#Fill Fare missing values with the median value\n",
    "all_data[\"Fare\"] = all_data[\"Fare\"].fillna(all_data[\"Fare\"].median())"
   ]
  },
  {
   "cell_type": "markdown",
   "metadata": {},
   "source": [
    "* 아래 그래프에서 보시다시피, 분포가 왼쪽으로 너무 치우쳤기 때문에 log를 통해 정규화를 진행 하였음"
   ]
  },
  {
   "cell_type": "code",
   "execution_count": 25,
   "metadata": {
    "_cell_guid": "1454fa14-9456-4539-a59a-f16cc75cdc69",
    "_execution_state": "idle",
    "_uuid": "2462ac5ccc31009f6cbf40ece06949b192f0a4e9",
    "scrolled": true
   },
   "outputs": [
    {
     "data": {
      "image/png": "[encoded data removed]",
      "text/plain": [
       "<matplotlib.figure.Figure at 0x10df83438>"
      ]
     },
     "metadata": {},
     "output_type": "display_data"
    },
    {
     "name": "stdout",
     "output_type": "stream",
     "text": [
      "Skewness: 4.511862\n",
      "Kurtosis: 29.183273\n"
     ]
    }
   ],
   "source": [
    "# Explore Fare distribution \n",
    "plt.figure(figsize=(12,5))\n",
    "\n",
    "plt.subplot(131)\n",
    "sns.distplot(all_data[\"Fare\"])\n",
    "\n",
    "plt.subplot(132)\n",
    "stats.probplot(all_data[\"Fare\"], plot=plt)\n",
    "\n",
    "plt.subplot(133)\n",
    "sns.boxplot(all_data[\"Fare\"])\n",
    "plt.tight_layout()\n",
    "plt.show()\n",
    "\n",
    "print(\"Skewness: %f\" % all_data['Fare'].skew())\n",
    "print(\"Kurtosis: %f\" % all_data['Fare'].kurt())"
   ]
  },
  {
   "cell_type": "code",
   "execution_count": 26,
   "metadata": {},
   "outputs": [
    {
     "data": {
      "image/png": "[encoded data removed]",
      "text/plain": [
       "<matplotlib.figure.Figure at 0x10df83048>"
      ]
     },
     "metadata": {},
     "output_type": "display_data"
    },
    {
     "name": "stdout",
     "output_type": "stream",
     "text": [
      "Skewness: 0.544004\n",
      "Kurtosis: 0.921062\n"
     ]
    }
   ],
   "source": [
    "all_data[\"Fare\"] = np.log1p(all_data[\"Fare\"])\n",
    "\n",
    "# Explore Fare distribution \n",
    "plt.figure(figsize=(12,5))\n",
    "\n",
    "plt.subplot(131)\n",
    "sns.distplot(all_data[\"Fare\"])\n",
    "\n",
    "plt.subplot(132)\n",
    "stats.probplot(all_data[\"Fare\"], plot=plt)\n",
    "\n",
    "plt.subplot(133)\n",
    "sns.boxplot(all_data[\"Fare\"])\n",
    "plt.tight_layout()\n",
    "plt.show()\n",
    "\n",
    "print(\"Skewness: %f\" % all_data['Fare'].skew())\n",
    "print(\"Kurtosis: %f\" % all_data['Fare'].kurt())"
   ]
  },
  {
   "cell_type": "markdown",
   "metadata": {
    "_cell_guid": "2056cac5-8405-432c-8026-f4fb6a895fb9",
    "_uuid": "a6545d5a0816088a56dab37ba10ae93e26375068"
   },
   "source": [
    "### 3.2 Categorical values\n",
    "#### Sex\n",
    "* 남성보다 여성의 생존률이 훨씬 높음"
   ]
  },
  {
   "cell_type": "code",
   "execution_count": 27,
   "metadata": {
    "_cell_guid": "2cf795ef-abad-474e-a75b-e6eaac6c4881",
    "_execution_state": "idle",
    "_uuid": "08798e4e7aec09c85f1c678eea529ef4bbea3335"
   },
   "outputs": [
    {
     "data": {
      "image/png": "[encoded data removed]",
      "text/plain": [
       "<matplotlib.figure.Figure at 0x10e08bf98>"
      ]
     },
     "metadata": {},
     "output_type": "display_data"
    }
   ],
   "source": [
    "g = sns.barplot(x=\"Sex\",y=\"Survived\",data=train)\n",
    "g = g.set_ylabel(\"Survival Probability\")"
   ]
  },
  {
   "cell_type": "markdown",
   "metadata": {
    "_cell_guid": "fc62793d-b0fe-47f1-8a60-0fc10974d916",
    "_uuid": "25bda5a815d2789c5ea5b6fbd153bc3c4751ea66"
   },
   "source": [
    "#### Pclass\n",
    "* First class가 가장 생존률이 높음을 알 수 있음.\n",
    "* 각 클래스에서도 남성보다 여성이 생존률이 높음."
   ]
  },
  {
   "cell_type": "code",
   "execution_count": 28,
   "metadata": {
    "_cell_guid": "acab5827-4690-4d8a-934c-f8e4bf1a9265",
    "_execution_state": "idle",
    "_uuid": "33cf4a5f3018a7cd955048c57cfd7ff884d31fd4"
   },
   "outputs": [
    {
     "data": {
      "image/png": "[encoded data removed]",
      "text/plain": [
       "<matplotlib.figure.Figure at 0x10dde1da0>"
      ]
     },
     "metadata": {},
     "output_type": "display_data"
    }
   ],
   "source": [
    "# Explore Pclass vs Survived\n",
    "plt.figure(figsize=(15,6))\n",
    "\n",
    "ax1 = plt.subplot(1,2,1)\n",
    "sns.barplot(x=\"Pclass\",y=\"Survived\",data=train, palette = \"muted\", ax=ax1)\n",
    "\n",
    "\n",
    "# Explore Pclass vs Survived by Sex\n",
    "ax2 = plt.subplot(1,2,2)\n",
    "sns.barplot(x=\"Pclass\", y=\"Survived\", hue=\"Sex\", data=train, palette=\"muted\", ax=ax2)\n",
    "\n",
    "plt.show()"
   ]
  },
  {
   "cell_type": "markdown",
   "metadata": {
    "_cell_guid": "bd9a2e84-de2f-4d22-8a8a-d9b77153914a",
    "_uuid": "c33615408606b88ac50ea2596574030cafe6ca56"
   },
   "source": [
    "#### Embarked\n",
    "- 2개의 Missing Value에 대해 가장 빈도수가 높은 S로 처리하였음.\n",
    "- Cherbourg(C)에서 탑승한 승객이 생존률이 높았으며, first Class가 많은 비중을 차지하였음."
   ]
  },
  {
   "cell_type": "code",
   "execution_count": 29,
   "metadata": {
    "_cell_guid": "25335bd6-f586-4e80-9424-52d5391c7d90",
    "_execution_state": "idle",
    "_uuid": "6c62328f8ed218a94ad20d68179890d2b7e26c54"
   },
   "outputs": [
    {
     "data": {
      "text/plain": [
       "2"
      ]
     },
     "execution_count": 29,
     "metadata": {},
     "output_type": "execute_result"
    }
   ],
   "source": [
    "all_data[\"Embarked\"].isnull().sum()"
   ]
  },
  {
   "cell_type": "code",
   "execution_count": 30,
   "metadata": {},
   "outputs": [
    {
     "data": {
      "text/plain": [
       "S    904\n",
       "C    270\n",
       "Q    123\n",
       "Name: Embarked, dtype: int64"
      ]
     },
     "execution_count": 30,
     "metadata": {},
     "output_type": "execute_result"
    }
   ],
   "source": [
    "all_data.Embarked.value_counts()"
   ]
  },
  {
   "cell_type": "code",
   "execution_count": 31,
   "metadata": {
    "_cell_guid": "369b4640-1f93-464f-9668-c128dee6ce8f",
    "_execution_state": "idle",
    "_uuid": "12606e718a36c7743e313d5b511f824525fa758c"
   },
   "outputs": [],
   "source": [
    "#Fill Embarked nan values of dataset set with 'S' most frequent value\n",
    "all_data[\"Embarked\"] = all_data[\"Embarked\"].fillna(\"S\")"
   ]
  },
  {
   "cell_type": "code",
   "execution_count": 32,
   "metadata": {
    "_cell_guid": "562a0ddb-6dcc-4def-a73d-405e4ccd12e8",
    "_execution_state": "idle",
    "_uuid": "3bbb9f7fcbae67b9c12f021e3a3b71a031b8d882"
   },
   "outputs": [
    {
     "data": {
      "image/png": "[encoded data removed]",
      "text/plain": [
       "<matplotlib.figure.Figure at 0x10df26f28>"
      ]
     },
     "metadata": {},
     "output_type": "display_data"
    }
   ],
   "source": [
    "# Explore Embarked vs Survived \n",
    "g = sns.barplot(x=\"Embarked\", y=\"Survived\",  data=train)"
   ]
  },
  {
   "cell_type": "code",
   "execution_count": 33,
   "metadata": {
    "_cell_guid": "bff15a05-8876-474b-a727-7b7fe64e379d",
    "_execution_state": "idle",
    "_uuid": "dc440987e63199b551fa5d2d3d7b473cd1e5aaa8"
   },
   "outputs": [
    {
     "data": {
      "image/png": "[encoded data removed]",
      "text/plain": [
       "<matplotlib.figure.Figure at 0x10e650390>"
      ]
     },
     "metadata": {},
     "output_type": "display_data"
    }
   ],
   "source": [
    "# Explore Pclass vs Embarked \n",
    "g = sns.factorplot(\"Pclass\", col=\"Embarked\",  data=train,\n",
    "                   size=6, kind=\"count\", palette=\"RdYlGn_r\")\n",
    "g.despine(left=True)\n",
    "g = g.set_ylabels(\"Count\")"
   ]
  },
  {
   "cell_type": "markdown",
   "metadata": {
    "_cell_guid": "9811fd36-b4dd-4f4b-8698-2d9b4b0d5e23",
    "_uuid": "e932c14aaeb9a4acbaecc73e985e50b140d3812e"
   },
   "source": [
    "## 4. Filling Missing Values\n",
    "### 4.1 Age\n",
    "- 256개의 Missing values를 처리하고자 함\n",
    "- 성별의 경우 비슷한 비중을 차지하기 때문에 연령에 영향이 없는 것으로 판단(아래 그래프 참조).\n",
    "- 각 클래스나 가족별로 연령이 달랐던 점을 고려하여, 해당 범주의 평균으로 처리 하였음."
   ]
  },
  {
   "cell_type": "code",
   "execution_count": 34,
   "metadata": {},
   "outputs": [
    {
     "data": {
      "text/plain": [
       "256"
      ]
     },
     "execution_count": 34,
     "metadata": {},
     "output_type": "execute_result"
    }
   ],
   "source": [
    "all_data[\"Age\"].isnull().sum()"
   ]
  },
  {
   "cell_type": "code",
   "execution_count": 35,
   "metadata": {
    "_cell_guid": "bb2ce3ea-7519-40ac-b999-1a027888db27",
    "_execution_state": "idle",
    "_uuid": "785d0f035819eb3ad6c68c6ca19857d2b9affef5"
   },
   "outputs": [
    {
     "data": {
      "image/png": "[encoded data removed]",
      "text/plain": [
       "<matplotlib.figure.Figure at 0x10e6d3cc0>"
      ]
     },
     "metadata": {},
     "output_type": "display_data"
    }
   ],
   "source": [
    "# Explore Age vs Sex, Parch , Pclass and SibSP\n",
    "plt.figure(figsize=(20,10))\n",
    "\n",
    "ax1 = plt.subplot(2,2,1)\n",
    "sns.boxplot(y=\"Age\",x=\"Sex\",data=all_data, ax=ax1)\n",
    "\n",
    "ax2 = plt.subplot(2,2,2)\n",
    "sns.boxplot(y=\"Age\",x=\"Sex\",hue=\"Pclass\", data=all_data, ax=ax2)\n",
    "\n",
    "ax3 = plt.subplot(2,2,3)\n",
    "sns.boxplot(y=\"Age\",x=\"Parch\", data=all_data, ax=ax3)\n",
    "\n",
    "ax4 = plt.subplot(2,2,4)\n",
    "sns.boxplot(y=\"Age\",x=\"SibSp\", data=all_data, ax=ax4)\n",
    "\n",
    "plt.show()"
   ]
  },
  {
   "cell_type": "code",
   "execution_count": 36,
   "metadata": {},
   "outputs": [],
   "source": [
    "# convert Sex into categorical value 0 for male and 1 for female\n",
    "all_data[\"Sex\"] = all_data[\"Sex\"].map({\"male\": 0, \"female\":1})"
   ]
  },
  {
   "cell_type": "markdown",
   "metadata": {},
   "source": [
    "* Pclass 와 SibSp 에서 음의 상관관계를 가짐."
   ]
  },
  {
   "cell_type": "code",
   "execution_count": 37,
   "metadata": {},
   "outputs": [
    {
     "data": {
      "image/png": "[encoded data removed]",
      "text/plain": [
       "<matplotlib.figure.Figure at 0x10e7899b0>"
      ]
     },
     "metadata": {},
     "output_type": "display_data"
    }
   ],
   "source": [
    "numeric = [\"Sex\",\"SibSp\",\"Parch\",\"Pclass\",\"Fare\",\"Age\"]\n",
    "corr = all_data[numeric].corr()\n",
    "mask = np.zeros_like(corr)\n",
    "mask[np.triu_indices_from(mask)] = True\n",
    "with sns.axes_style(\"white\"):\n",
    "    ax = sns.heatmap(corr, mask = mask, annot=True, fmt = \".2f\", cmap = \"YlGnBu\")"
   ]
  },
  {
   "cell_type": "code",
   "execution_count": 38,
   "metadata": {},
   "outputs": [],
   "source": [
    "# fill Age with the median age of similar rows according to Pclass and SibSp\n",
    "\n",
    "age_nan = list(all_data[\"Age\"][all_data[\"Age\"].isnull()].index)\n",
    "\n",
    "for i in age_nan:\n",
    "    age_median = all_data[\"Age\"].median()\n",
    "    age_pred = all_data[\"Age\"][((all_data['SibSp'] == all_data.iloc[i]['SibSp']) & (all_data['Pclass'] == all_data.iloc[i]['Pclass']))].median()\n",
    "    if not np.isnan(age_pred) :\n",
    "        all_data['Age'].iloc[i] = age_pred\n",
    "    else :\n",
    "        all_data['Age'].iloc[i] = age_median"
   ]
  },
  {
   "cell_type": "markdown",
   "metadata": {},
   "source": [
    "## 5. Feature engineering\n",
    "### 5.1 Name/Title\n",
    "- 아래 그래프와 같이 이름의 Title도 생존률에 영향을 미쳤음을 알 수 있음."
   ]
  },
  {
   "cell_type": "code",
   "execution_count": 39,
   "metadata": {
    "scrolled": true
   },
   "outputs": [
    {
     "data": {
      "text/plain": [
       "0                              Braund, Mr. Owen Harris\n",
       "1    Cumings, Mrs. John Bradley (Florence Briggs Th...\n",
       "2                               Heikkinen, Miss. Laina\n",
       "3         Futrelle, Mrs. Jacques Heath (Lily May Peel)\n",
       "4                             Allen, Mr. William Henry\n",
       "Name: Name, dtype: object"
      ]
     },
     "execution_count": 39,
     "metadata": {},
     "output_type": "execute_result"
    }
   ],
   "source": [
    "all_data[\"Name\"].head()"
   ]
  },
  {
   "cell_type": "code",
   "execution_count": 40,
   "metadata": {},
   "outputs": [
    {
     "data": {
      "image/png": "[encoded data removed]",
      "text/plain": [
       "<matplotlib.figure.Figure at 0x10e7b80b8>"
      ]
     },
     "metadata": {},
     "output_type": "display_data"
    }
   ],
   "source": [
    "# Get Title from Name\n",
    "dataset_title = [i.split(\",\")[1].split(\".\")[0].strip() for i in all_data[\"Name\"]]\n",
    "all_data[\"Title\"] = pd.Series(dataset_title)\n",
    "\n",
    "g = sns.countplot(x=\"Title\",data=all_data)\n",
    "g = plt.setp(g.get_xticklabels(), rotation=40) "
   ]
  },
  {
   "cell_type": "code",
   "execution_count": 41,
   "metadata": {},
   "outputs": [],
   "source": [
    "# Convert to categorical values Title \n",
    "all_data[\"Title\"] = all_data[\"Title\"].replace(['Lady', 'the Countess','Countess','Capt', 'Col','Don', 'Dr', 'Major', 'Rev', 'Sir', 'Jonkheer', 'Dona'], 'Rare')\n",
    "all_data[\"Title\"] = all_data[\"Title\"].map({\"Master\":0, \"Miss\":1, \"Ms\" : 1 , \"Mme\":1, \"Mlle\":1, \"Mrs\":1, \"Mr\":2, \"Rare\":3})\n",
    "all_data[\"Title\"] = all_data[\"Title\"].astype(int)"
   ]
  },
  {
   "cell_type": "code",
   "execution_count": 42,
   "metadata": {},
   "outputs": [
    {
     "data": {
      "image/png": "[encoded data removed]",
      "text/plain": [
       "<matplotlib.figure.Figure at 0x10ea4c780>"
      ]
     },
     "metadata": {},
     "output_type": "display_data"
    }
   ],
   "source": [
    "g = sns.countplot(all_data[\"Title\"])\n",
    "g = g.set_xticklabels([\"Master\",\"Miss/Ms/Mme/Mlle/Mrs\",\"Mr\",\"Rare\"])"
   ]
  },
  {
   "cell_type": "code",
   "execution_count": 43,
   "metadata": {
    "scrolled": true
   },
   "outputs": [
    {
     "data": {
      "image/png": "[encoded data removed]",
      "text/plain": [
       "<matplotlib.figure.Figure at 0x10deaa080>"
      ]
     },
     "metadata": {},
     "output_type": "display_data"
    }
   ],
   "source": [
    "h = sns.factorplot(x=\"Title\",y=\"Survived\",data=all_data,kind=\"bar\")\n",
    "h.set_xticklabels([\"Master\",\"Miss-Mrs\",\"Mr\",\"Rare\"])\n",
    "h.set_ylabels(\"survival probability\")\n",
    "h.fig.set_size_inches(6,5)"
   ]
  },
  {
   "cell_type": "code",
   "execution_count": 44,
   "metadata": {},
   "outputs": [],
   "source": [
    "# Drop Name variable\n",
    "all_data.drop(labels = [\"Name\"], axis = 1, inplace = True)"
   ]
  },
  {
   "cell_type": "code",
   "execution_count": 45,
   "metadata": {},
   "outputs": [],
   "source": [
    "# convert to indicator values Title \n",
    "all_data = pd.get_dummies(all_data, columns = [\"Title\"], prefix = \"Title\")"
   ]
  },
  {
   "cell_type": "markdown",
   "metadata": {},
   "source": [
    "### 5.2 Family size\n",
    "- Sibsp, parch에 따른 생존률로 살펴보건데, 자신을 포함한 가족의 수(Family size)에 따라 생존률을 살펴보는 것이 의미가 있을 것으로 판단됨.\n",
    "- Sibsp + parch + 1(자기자신)을 통해 Family_size 라는 변수를 생성하였음.\n",
    "- 각 가족 수별 생존률을 기반으로 4개의 카테고리를 형성하였음."
   ]
  },
  {
   "cell_type": "code",
   "execution_count": 46,
   "metadata": {},
   "outputs": [],
   "source": [
    "# Create a family size descriptor from SibSp and Parch\n",
    "all_data[\"Family_size\"] = all_data[\"SibSp\"] + all_data[\"Parch\"] + 1"
   ]
  },
  {
   "cell_type": "code",
   "execution_count": 47,
   "metadata": {},
   "outputs": [
    {
     "data": {
      "image/png": "[encoded data removed]",
      "text/plain": [
       "<matplotlib.figure.Figure at 0x10df335c0>"
      ]
     },
     "metadata": {},
     "output_type": "display_data"
    }
   ],
   "source": [
    "g = sns.barplot(x=\"Family_size\",y=\"Survived\",data = all_data)"
   ]
  },
  {
   "cell_type": "code",
   "execution_count": 48,
   "metadata": {},
   "outputs": [],
   "source": [
    "# Create new feature of family size\n",
    "all_data['Single'] = all_data['Family_size'].map(lambda s: 1 if s == 1 else 0)\n",
    "all_data['Small_F'] = all_data['Family_size'].map(lambda s: 1 if  s == 2  else 0)\n",
    "all_data['Med_F'] = all_data['Family_size'].map(lambda s: 1 if 3 <= s <= 4 else 0)\n",
    "all_data['Large_F'] = all_data['Family_size'].map(lambda s: 1 if s >= 5 else 0)\n",
    "\n",
    "# Drop Family_size variable\n",
    "all_data.drop(labels = [\"Family_size\"], axis = 1, inplace = True)"
   ]
  },
  {
   "cell_type": "code",
   "execution_count": 49,
   "metadata": {},
   "outputs": [
    {
     "data": {
      "image/png": "[encoded data removed]",
      "text/plain": [
       "<matplotlib.figure.Figure at 0x10f3f4c18>"
      ]
     },
     "metadata": {},
     "output_type": "display_data"
    }
   ],
   "source": [
    "plt.figure(figsize=(15,12))\n",
    "\n",
    "ax1 = plt.subplot(2,2,1)\n",
    "sns.barplot(x=\"Single\",y=\"Survived\",data=all_data,ax=ax1)\n",
    "\n",
    "ax2 = plt.subplot(2,2,2)\n",
    "sns.barplot(x=\"Small_F\",y=\"Survived\",data=all_data,ax=ax2)\n",
    "\n",
    "ax3 = plt.subplot(2,2,3)\n",
    "sns.barplot(x=\"Med_F\",y=\"Survived\",data=all_data,ax=ax3)\n",
    "\n",
    "ax4 = plt.subplot(2,2,4)\n",
    "sns.barplot(x=\"Large_F\",y=\"Survived\",data=all_data,ax=ax4)\n",
    "\n",
    "plt.show()"
   ]
  },
  {
   "cell_type": "markdown",
   "metadata": {},
   "source": [
    "### 5.3 Cabin"
   ]
  },
  {
   "cell_type": "code",
   "execution_count": 50,
   "metadata": {
    "scrolled": true
   },
   "outputs": [
    {
     "data": {
      "text/plain": [
       "0     NaN\n",
       "1     C85\n",
       "2     NaN\n",
       "3    C123\n",
       "4     NaN\n",
       "Name: Cabin, dtype: object"
      ]
     },
     "execution_count": 50,
     "metadata": {},
     "output_type": "execute_result"
    }
   ],
   "source": [
    "all_data[\"Cabin\"].head()"
   ]
  },
  {
   "cell_type": "code",
   "execution_count": 51,
   "metadata": {},
   "outputs": [
    {
     "data": {
      "text/plain": [
       "array([nan, 'C85', 'C123', 'E46', 'G6', 'C103', 'D56', 'A6', 'B78', 'D33',\n",
       "       'B30', 'C52', 'B28', 'C83', 'F33', 'F G73', 'E31', 'A5', 'D10 D12',\n",
       "       'D26', 'C110', 'B58 B60', 'E101', 'F E69', 'D47', 'B86', 'F2',\n",
       "       'C2', 'E33', 'B19', 'A7', 'C49', 'F4', 'A32', 'B4', 'B80', 'A31',\n",
       "       'D36', 'D15', 'C93', 'C78', 'D35', 'C87', 'B77', 'E67', 'B94',\n",
       "       'C125', 'C99', 'C118', 'D7', 'A19', 'B49', 'D', 'C22 C26', 'C106',\n",
       "       'C65', 'E36', 'C54', 'B57 B59 B63 B66', 'C7', 'E34', 'C32', 'B18',\n",
       "       'C124', 'C91', 'E40', 'T', 'C128', 'D37', 'B35', 'E50', 'C82',\n",
       "       'B96 B98', 'E10', 'E44', 'C23 C25 C27', 'A34', 'C104', 'C111',\n",
       "       'C92', 'E38', 'D21', 'E12', 'E63', 'A14', 'B37', 'C30', 'D20',\n",
       "       'B79', 'E25', 'D46', 'B73', 'C95', 'B38', 'B39', 'B22', 'C86',\n",
       "       'C70', 'A16', 'C101', 'C68', 'A10', 'E68', 'B41', 'A20', 'D19',\n",
       "       'D50', 'D9', 'A23', 'B50', 'A26', 'D48', 'E58', 'C126', 'B71',\n",
       "       'B51 B53 B55', 'D49', 'B5', 'B20', 'F G63', 'C62 C64', 'E24',\n",
       "       'C90', 'C45', 'E8', 'B101', 'D45', 'C46', 'D30', 'E121', 'D11',\n",
       "       'E77', 'F38', 'B3', 'D6', 'B82 B84', 'D17', 'A36', 'B102', 'B69',\n",
       "       'E49', 'C47', 'D28', 'E17', 'A24', 'C50', 'B42', 'C148', 'B45',\n",
       "       'B36', 'A21', 'D34', 'A9', 'C31', 'B61', 'C53', 'D43', 'C130',\n",
       "       'C132', 'C55 C57', 'C116', 'F', 'A29', 'C6', 'C28', 'C51', 'C97',\n",
       "       'D22', 'B10', 'E45', 'E52', 'A11', 'B11', 'C80', 'C89', 'F E46',\n",
       "       'B26', 'F E57', 'A18', 'E60', 'E39 E41', 'B52 B54 B56', 'C39',\n",
       "       'B24', 'D40', 'D38', 'C105'], dtype=object)"
      ]
     },
     "execution_count": 51,
     "metadata": {},
     "output_type": "execute_result"
    }
   ],
   "source": [
    "all_data.Cabin.unique()"
   ]
  },
  {
   "cell_type": "code",
   "execution_count": 52,
   "metadata": {},
   "outputs": [
    {
     "data": {
      "text/plain": [
       "1007"
      ]
     },
     "execution_count": 52,
     "metadata": {},
     "output_type": "execute_result"
    }
   ],
   "source": [
    "all_data['Cabin'].isnull().sum()"
   ]
  },
  {
   "cell_type": "code",
   "execution_count": 53,
   "metadata": {},
   "outputs": [
    {
     "data": {
      "text/plain": [
       "1      C85\n",
       "3     C123\n",
       "6      E46\n",
       "10      G6\n",
       "11    C103\n",
       "Name: Cabin, dtype: object"
      ]
     },
     "execution_count": 53,
     "metadata": {},
     "output_type": "execute_result"
    }
   ],
   "source": [
    "all_data[\"Cabin\"][all_data[\"Cabin\"].notnull()].head()"
   ]
  },
  {
   "cell_type": "code",
   "execution_count": 54,
   "metadata": {},
   "outputs": [],
   "source": [
    "# Replace the Cabin number by the type of cabin 'X' if not\n",
    "all_data[\"Cabin\"] = pd.Series([i[0] if not pd.isnull(i) else 'X' for i in all_data['Cabin'] ])"
   ]
  },
  {
   "cell_type": "code",
   "execution_count": 55,
   "metadata": {},
   "outputs": [
    {
     "data": {
      "image/png": "[encoded data removed]",
      "text/plain": [
       "<matplotlib.figure.Figure at 0x10dd15a20>"
      ]
     },
     "metadata": {},
     "output_type": "display_data"
    }
   ],
   "source": [
    "g = sns.countplot(all_data[\"Cabin\"],order=['A','B','C','D','E','F','G','T','X'])"
   ]
  },
  {
   "cell_type": "code",
   "execution_count": 56,
   "metadata": {},
   "outputs": [
    {
     "data": {
      "image/png": "[encoded data removed]",
      "text/plain": [
       "<matplotlib.figure.Figure at 0x10df0d588>"
      ]
     },
     "metadata": {},
     "output_type": "display_data"
    }
   ],
   "source": [
    "g = sns.factorplot(y=\"Survived\",x=\"Cabin\",data=all_data,kind=\"bar\",order=['A','B','C','D','E','F','G','T','X'])\n",
    "g = g.set_ylabels(\"Survival Probability\")"
   ]
  },
  {
   "cell_type": "code",
   "execution_count": 57,
   "metadata": {},
   "outputs": [],
   "source": [
    "# convert to indicator values Cabin \n",
    "all_data = pd.get_dummies(all_data, columns = [\"Cabin\"],prefix=\"Cabin\")"
   ]
  },
  {
   "cell_type": "markdown",
   "metadata": {},
   "source": [
    "### 5.4 Ticket"
   ]
  },
  {
   "cell_type": "code",
   "execution_count": 58,
   "metadata": {},
   "outputs": [
    {
     "data": {
      "text/plain": [
       "0           A/5 21171\n",
       "1            PC 17599\n",
       "2    STON/O2. 3101282\n",
       "3              113803\n",
       "4              373450\n",
       "Name: Ticket, dtype: object"
      ]
     },
     "execution_count": 58,
     "metadata": {},
     "output_type": "execute_result"
    }
   ],
   "source": [
    "all_data[\"Ticket\"].head()"
   ]
  },
  {
   "cell_type": "code",
   "execution_count": 59,
   "metadata": {},
   "outputs": [
    {
     "data": {
      "text/plain": [
       "0        A5\n",
       "1        PC\n",
       "2    STONO2\n",
       "3         X\n",
       "4         X\n",
       "Name: Ticket, dtype: object"
      ]
     },
     "execution_count": 59,
     "metadata": {},
     "output_type": "execute_result"
    }
   ],
   "source": [
    "Ticket = []\n",
    "\n",
    "for i in list(all_data.Ticket):\n",
    "    if not i.isdigit():\n",
    "        #Take prefix\n",
    "        Ticket.append(i.replace(\".\", \"\").replace(\"/\",\"\").strip().split(' ')[0])\n",
    "    else:\n",
    "        Ticket.append('X')\n",
    "                      \n",
    "all_data['Ticket'] = Ticket\n",
    "all_data['Ticket'].head()\n"
   ]
  },
  {
   "cell_type": "code",
   "execution_count": 60,
   "metadata": {
    "scrolled": true
   },
   "outputs": [],
   "source": [
    "all_data = pd.get_dummies(all_data, columns = [\"Ticket\"], prefix=\"Ticket\")\n",
    "all_data = pd.get_dummies(all_data, columns = [\"Pclass\"],prefix=\"Pclass\")\n",
    "all_data = pd.get_dummies(all_data, columns = [\"Embarked\"],prefix=\"Embarked\")\n",
    "\n",
    "# Drop useless variables \n",
    "all_data.drop(labels = [\"PassengerId\"], axis = 1, inplace = True)"
   ]
  },
  {
   "cell_type": "code",
   "execution_count": 61,
   "metadata": {},
   "outputs": [],
   "source": [
    "numerical_features = []\n",
    "categorical_features = []\n",
    "for f in all_data.columns:\n",
    "    if all_data.dtypes[f] != 'object':\n",
    "        numerical_features.append(f)\n",
    "    else:\n",
    "        categorical_features.append(f)"
   ]
  },
  {
   "cell_type": "markdown",
   "metadata": {},
   "source": [
    "## 6. Modeling\n",
    "- 모델링은 StatModels를 활용한 모델링과 Tensorflow를 활용한 모델을 적용해 보았음."
   ]
  },
  {
   "cell_type": "markdown",
   "metadata": {},
   "source": [
    "### 6-1 StatModels Logistic Regression"
   ]
  },
  {
   "cell_type": "code",
   "execution_count": 62,
   "metadata": {},
   "outputs": [],
   "source": [
    "all_data = all_data.drop(labels=[\"Ticket_SCA3\", \"Ticket_STONOQ\", \"Ticket_AQ4\", \"Ticket_AQ3\", \"Ticket_A\", \"Ticket_LP\"], axis=1)"
   ]
  },
  {
   "cell_type": "markdown",
   "metadata": {},
   "source": [
    "* 모델링에 앞서 정량적 변수인 Age와 Fare를 스케일링 해주었음."
   ]
  },
  {
   "cell_type": "code",
   "execution_count": 63,
   "metadata": {},
   "outputs": [],
   "source": [
    "from sklearn.preprocessing import StandardScaler\n",
    "\n",
    "def normalize_age(data):\n",
    "    scaler = StandardScaler()\n",
    "    data[\"Age\"] = scaler.fit_transform(data[\"Age\"].values.reshape(-1,1))\n",
    "    return data\n",
    "\n",
    "\n",
    "def normalize_fare(data):\n",
    "    scaler = StandardScaler()\n",
    "    data[\"Fare\"] = scaler.fit_transform(data[\"Fare\"].values.reshape(-1,1))\n",
    "    return data\n",
    "\n",
    "all_data = normalize_age(all_data)\n",
    "all_data = normalize_fare(all_data)"
   ]
  },
  {
   "cell_type": "code",
   "execution_count": 64,
   "metadata": {},
   "outputs": [],
   "source": [
    "# from sklearn.preprocessing import MinMaxScaler\n",
    "\n",
    "# def normalize_age(data):\n",
    "#     scaler = MinMaxScaler()\n",
    "#     data[\"Age\"] = scaler.fit_transform(data[\"Age\"].values.reshape(-1,1))\n",
    "#     return data\n",
    "\n",
    "\n",
    "# def normalize_fare(data):\n",
    "#     scaler = MinMaxScaler()\n",
    "#     data[\"Fare\"] = scaler.fit_transform(data[\"Fare\"].values.reshape(-1,1))\n",
    "#     return data\n",
    "\n",
    "# all_data = normalize_age(all_data)\n",
    "# all_data = normalize_fare(all_data)"
   ]
  },
  {
   "cell_type": "markdown",
   "metadata": {},
   "source": [
    "* train data set 과 test data set을 분리 하였음"
   ]
  },
  {
   "cell_type": "code",
   "execution_count": 65,
   "metadata": {},
   "outputs": [],
   "source": [
    "# Separate train dataset and test dataset\n",
    "train = all_data[:train_len]\n",
    "X_test = all_data[train_len:]\n",
    "X_test.drop(labels=[\"Survived\"],axis = 1,inplace=True)"
   ]
  },
  {
   "cell_type": "markdown",
   "metadata": {},
   "source": [
    "* 분석 대상인 Survived 테이블을 y_train으로 별도 생성하고, x 값에서 Survived를 제외한 X_train을 생성하였음."
   ]
  },
  {
   "cell_type": "code",
   "execution_count": 66,
   "metadata": {},
   "outputs": [],
   "source": [
    "# Separate train features and label \n",
    "train[\"Survived\"] = train[\"Survived\"].astype(int)\n",
    "y_train = train[\"Survived\"]\n",
    "X_train = train.drop(labels = [\"Survived\"],axis = 1)\n",
    "# X_train = sm.add_constant(X_train_0)"
   ]
  },
  {
   "cell_type": "code",
   "execution_count": 67,
   "metadata": {},
   "outputs": [
    {
     "data": {
      "text/plain": [
       "((881, 59), (881, 1))"
      ]
     },
     "execution_count": 67,
     "metadata": {},
     "output_type": "execute_result"
    }
   ],
   "source": [
    "y_train = y_train[:,np.newaxis]\n",
    "X_train.shape, y_train.shape"
   ]
  },
  {
   "cell_type": "markdown",
   "metadata": {},
   "source": [
    "* statsmodels의 logstic regression 모델을 적용 하였음"
   ]
  },
  {
   "cell_type": "code",
   "execution_count": 68,
   "metadata": {
    "scrolled": false
   },
   "outputs": [
    {
     "name": "stderr",
     "output_type": "stream",
     "text": [
      "/usr/local/Cellar/python3/3.6.4_2/Frameworks/Python.framework/Versions/3.6/lib/python3.6/site-packages/statsmodels/base/model.py:496: ConvergenceWarning: Maximum Likelihood optimization failed to converge. Check mle_retvals\n",
      "  \"Check mle_retvals\", ConvergenceWarning)\n"
     ]
    }
   ],
   "source": [
    "logit_mod = sm.Logit(y_train, X_train)\n",
    "logit_res = logit_mod.fit(disp=0)"
   ]
  },
  {
   "cell_type": "code",
   "execution_count": 69,
   "metadata": {},
   "outputs": [
    {
     "data": {
      "text/html": [
       "<table class=\"simpletable\">\n",
       "<tr>\n",
       "        <td>Model:</td>              <td>Logit</td>       <td>No. Iterations:</td>   <td>35.0000</td> \n",
       "</tr>\n",
       "<tr>\n",
       "  <td>Dependent Variable:</td>         <td>y</td>        <td>Pseudo R-squared:</td>   <td>0.447</td>  \n",
       "</tr>\n",
       "<tr>\n",
       "         <td>Date:</td>        <td>2018-04-04 11:08</td>       <td>AIC:</td>        <td>757.5104</td> \n",
       "</tr>\n",
       "<tr>\n",
       "   <td>No. Observations:</td>         <td>881</td>             <td>BIC:</td>        <td>1015.6875</td>\n",
       "</tr>\n",
       "<tr>\n",
       "       <td>Df Model:</td>             <td>53</td>         <td>Log-Likelihood:</td>   <td>-324.76</td> \n",
       "</tr>\n",
       "<tr>\n",
       "     <td>Df Residuals:</td>           <td>827</td>           <td>LL-Null:</td>       <td>-587.53</td> \n",
       "</tr>\n",
       "<tr>\n",
       "      <td>Converged:</td>           <td>0.0000</td>           <td>Scale:</td>        <td>1.0000</td>  \n",
       "</tr>\n",
       "</table>\n",
       "<table class=\"simpletable\">\n",
       "<tr>\n",
       "         <td></td>          <th>Coef.</th>     <th>Std.Err.</th>        <th>z</th>     <th>P>|z|</th>      <th>[0.025</th>          <th>0.975]</th>     \n",
       "</tr>\n",
       "<tr>\n",
       "  <th>Age</th>             <td>-0.3152</td>     <td>0.1313</td>      <td>-2.4006</td> <td>0.0164</td>      <td>-0.5725</td>         <td>-0.0578</td>    \n",
       "</tr>\n",
       "<tr>\n",
       "  <th>Fare</th>            <td>0.5534</td>      <td>0.2172</td>      <td>2.5478</td>  <td>0.0108</td>      <td>0.1277</td>          <td>0.9792</td>     \n",
       "</tr>\n",
       "<tr>\n",
       "  <th>Parch</th>           <td>0.2234</td>      <td>0.4154</td>      <td>0.5377</td>  <td>0.5908</td>      <td>-0.5908</td>         <td>1.0375</td>     \n",
       "</tr>\n",
       "<tr>\n",
       "  <th>Sex</th>             <td>25.1212</td>   <td>174191.3975</td>   <td>0.0001</td>  <td>0.9999</td>   <td>-341383.7443</td>     <td>341433.9867</td>  \n",
       "</tr>\n",
       "<tr>\n",
       "  <th>SibSp</th>           <td>0.0817</td>      <td>0.3933</td>      <td>0.2077</td>  <td>0.8354</td>      <td>-0.6891</td>         <td>0.8525</td>     \n",
       "</tr>\n",
       "<tr>\n",
       "  <th>Title_0</th>         <td>5.6892</td>   <td>4652417.5862</td>   <td>0.0000</td>  <td>1.0000</td>   <td>-9118565.2208</td>   <td>9118576.5992</td>  \n",
       "</tr>\n",
       "<tr>\n",
       "  <th>Title_1</th>        <td>-19.7617</td>  <td>4167642.0556</td>   <td>-0.0000</td> <td>1.0000</td>   <td>-8168448.0911</td>   <td>8168408.5678</td>  \n",
       "</tr>\n",
       "<tr>\n",
       "  <th>Title_2</th>         <td>2.0092</td>   <td>4442055.8920</td>   <td>0.0000</td>  <td>1.0000</td>   <td>-8706267.5565</td>   <td>8706271.5749</td>  \n",
       "</tr>\n",
       "<tr>\n",
       "  <th>Title_3</th>         <td>2.3282</td>   <td>3988182.9009</td>   <td>0.0000</td>  <td>1.0000</td>   <td>-7816692.5212</td>   <td>7816697.1777</td>  \n",
       "</tr>\n",
       "<tr>\n",
       "  <th>Single</th>          <td>-1.0057</td>       <td>nan</td>         <td>nan</td>     <td>nan</td>         <td>nan</td>             <td>nan</td>      \n",
       "</tr>\n",
       "<tr>\n",
       "  <th>Small_F</th>         <td>-1.6728</td>       <td>nan</td>         <td>nan</td>     <td>nan</td>         <td>nan</td>             <td>nan</td>      \n",
       "</tr>\n",
       "<tr>\n",
       "  <th>Med_F</th>           <td>-1.8075</td>       <td>nan</td>         <td>nan</td>     <td>nan</td>         <td>nan</td>             <td>nan</td>      \n",
       "</tr>\n",
       "<tr>\n",
       "  <th>Large_F</th>         <td>-5.2490</td>       <td>nan</td>         <td>nan</td>     <td>nan</td>         <td>nan</td>             <td>nan</td>      \n",
       "</tr>\n",
       "<tr>\n",
       "  <th>Cabin_A</th>         <td>1.2051</td>        <td>nan</td>         <td>nan</td>     <td>nan</td>         <td>nan</td>             <td>nan</td>      \n",
       "</tr>\n",
       "<tr>\n",
       "  <th>Cabin_B</th>         <td>1.4116</td>        <td>nan</td>         <td>nan</td>     <td>nan</td>         <td>nan</td>             <td>nan</td>      \n",
       "</tr>\n",
       "<tr>\n",
       "  <th>Cabin_C</th>         <td>0.6027</td>        <td>nan</td>         <td>nan</td>     <td>nan</td>         <td>nan</td>             <td>nan</td>      \n",
       "</tr>\n",
       "<tr>\n",
       "  <th>Cabin_D</th>         <td>1.7288</td>        <td>nan</td>         <td>nan</td>     <td>nan</td>         <td>nan</td>             <td>nan</td>      \n",
       "</tr>\n",
       "<tr>\n",
       "  <th>Cabin_E</th>         <td>2.4887</td>        <td>nan</td>         <td>nan</td>     <td>nan</td>         <td>nan</td>             <td>nan</td>      \n",
       "</tr>\n",
       "<tr>\n",
       "  <th>Cabin_F</th>         <td>0.8954</td>        <td>nan</td>         <td>nan</td>     <td>nan</td>         <td>nan</td>             <td>nan</td>      \n",
       "</tr>\n",
       "<tr>\n",
       "  <th>Cabin_G</th>         <td>-1.4737</td>       <td>nan</td>         <td>nan</td>     <td>nan</td>         <td>nan</td>             <td>nan</td>      \n",
       "</tr>\n",
       "<tr>\n",
       "  <th>Cabin_T</th>        <td>-16.9488</td>       <td>nan</td>         <td>nan</td>     <td>nan</td>         <td>nan</td>             <td>nan</td>      \n",
       "</tr>\n",
       "<tr>\n",
       "  <th>Cabin_X</th>         <td>0.3552</td>        <td>nan</td>         <td>nan</td>     <td>nan</td>         <td>nan</td>             <td>nan</td>      \n",
       "</tr>\n",
       "<tr>\n",
       "  <th>Ticket_A4</th>      <td>-17.4270</td>       <td>nan</td>         <td>nan</td>     <td>nan</td>         <td>nan</td>             <td>nan</td>      \n",
       "</tr>\n",
       "<tr>\n",
       "  <th>Ticket_A5</th>       <td>3.9632</td>        <td>nan</td>         <td>nan</td>     <td>nan</td>         <td>nan</td>             <td>nan</td>      \n",
       "</tr>\n",
       "<tr>\n",
       "  <th>Ticket_AS</th>       <td>-6.8208</td>       <td>nan</td>         <td>nan</td>     <td>nan</td>         <td>nan</td>             <td>nan</td>      \n",
       "</tr>\n",
       "<tr>\n",
       "  <th>Ticket_C</th>        <td>5.8120</td>        <td>nan</td>         <td>nan</td>     <td>nan</td>         <td>nan</td>             <td>nan</td>      \n",
       "</tr>\n",
       "<tr>\n",
       "  <th>Ticket_CA</th>       <td>3.9369</td>        <td>nan</td>         <td>nan</td>     <td>nan</td>         <td>nan</td>             <td>nan</td>      \n",
       "</tr>\n",
       "<tr>\n",
       "  <th>Ticket_CASOTON</th>  <td>-7.9286</td>       <td>nan</td>         <td>nan</td>     <td>nan</td>         <td>nan</td>             <td>nan</td>      \n",
       "</tr>\n",
       "<tr>\n",
       "  <th>Ticket_FC</th>       <td>-9.4129</td>       <td>nan</td>         <td>nan</td>     <td>nan</td>         <td>nan</td>             <td>nan</td>      \n",
       "</tr>\n",
       "<tr>\n",
       "  <th>Ticket_FCC</th>      <td>5.1001</td>        <td>nan</td>         <td>nan</td>     <td>nan</td>         <td>nan</td>             <td>nan</td>      \n",
       "</tr>\n",
       "<tr>\n",
       "  <th>Ticket_Fa</th>       <td>-6.7633</td>       <td>nan</td>         <td>nan</td>     <td>nan</td>         <td>nan</td>             <td>nan</td>      \n",
       "</tr>\n",
       "<tr>\n",
       "  <th>Ticket_LINE</th>     <td>7.0929</td>        <td>nan</td>         <td>nan</td>     <td>nan</td>         <td>nan</td>             <td>nan</td>      \n",
       "</tr>\n",
       "<tr>\n",
       "  <th>Ticket_PC</th>       <td>3.4311</td>        <td>nan</td>         <td>nan</td>     <td>nan</td>         <td>nan</td>             <td>nan</td>      \n",
       "</tr>\n",
       "<tr>\n",
       "  <th>Ticket_PP</th>       <td>6.3288</td>        <td>nan</td>         <td>nan</td>     <td>nan</td>         <td>nan</td>             <td>nan</td>      \n",
       "</tr>\n",
       "<tr>\n",
       "  <th>Ticket_PPP</th>      <td>3.7125</td>        <td>nan</td>         <td>nan</td>     <td>nan</td>         <td>nan</td>             <td>nan</td>      \n",
       "</tr>\n",
       "<tr>\n",
       "  <th>Ticket_SC</th>       <td>21.8961</td>       <td>nan</td>         <td>nan</td>     <td>nan</td>         <td>nan</td>             <td>nan</td>      \n",
       "</tr>\n",
       "<tr>\n",
       "  <th>Ticket_SCA4</th>     <td>-6.8272</td>       <td>nan</td>         <td>nan</td>     <td>nan</td>         <td>nan</td>             <td>nan</td>      \n",
       "</tr>\n",
       "<tr>\n",
       "  <th>Ticket_SCAH</th>     <td>4.4681</td>        <td>nan</td>         <td>nan</td>     <td>nan</td>         <td>nan</td>             <td>nan</td>      \n",
       "</tr>\n",
       "<tr>\n",
       "  <th>Ticket_SCOW</th>     <td>-7.8837</td>       <td>nan</td>         <td>nan</td>     <td>nan</td>         <td>nan</td>             <td>nan</td>      \n",
       "</tr>\n",
       "<tr>\n",
       "  <th>Ticket_SCPARIS</th>  <td>3.9354</td>        <td>nan</td>         <td>nan</td>     <td>nan</td>         <td>nan</td>             <td>nan</td>      \n",
       "</tr>\n",
       "<tr>\n",
       "  <th>Ticket_SCParis</th>  <td>2.6502</td>        <td>nan</td>         <td>nan</td>     <td>nan</td>         <td>nan</td>             <td>nan</td>      \n",
       "</tr>\n",
       "<tr>\n",
       "  <th>Ticket_SOC</th>      <td>2.4498</td>        <td>nan</td>         <td>nan</td>     <td>nan</td>         <td>nan</td>             <td>nan</td>      \n",
       "</tr>\n",
       "<tr>\n",
       "  <th>Ticket_SOP</th>      <td>-7.8004</td>       <td>nan</td>         <td>nan</td>     <td>nan</td>         <td>nan</td>             <td>nan</td>      \n",
       "</tr>\n",
       "<tr>\n",
       "  <th>Ticket_SOPP</th>    <td>-41.8947</td> <td>2127429430.6395</td> <td>-0.0000</td> <td>1.0000</td> <td>-4169685105.5987</td> <td>4169685021.8092</td>\n",
       "</tr>\n",
       "<tr>\n",
       "  <th>Ticket_SOTONO2</th> <td>-13.1221</td>       <td>nan</td>         <td>nan</td>     <td>nan</td>         <td>nan</td>             <td>nan</td>      \n",
       "</tr>\n",
       "<tr>\n",
       "  <th>Ticket_SOTONOQ</th>  <td>4.2558</td>        <td>nan</td>         <td>nan</td>     <td>nan</td>         <td>nan</td>             <td>nan</td>      \n",
       "</tr>\n",
       "<tr>\n",
       "  <th>Ticket_SP</th>       <td>-6.9781</td>       <td>nan</td>         <td>nan</td>     <td>nan</td>         <td>nan</td>             <td>nan</td>      \n",
       "</tr>\n",
       "<tr>\n",
       "  <th>Ticket_STONO</th>    <td>6.5880</td>        <td>nan</td>         <td>nan</td>     <td>nan</td>         <td>nan</td>             <td>nan</td>      \n",
       "</tr>\n",
       "<tr>\n",
       "  <th>Ticket_STONO2</th>   <td>3.9581</td>        <td>nan</td>         <td>nan</td>     <td>nan</td>         <td>nan</td>             <td>nan</td>      \n",
       "</tr>\n",
       "<tr>\n",
       "  <th>Ticket_SWPP</th>     <td>15.4309</td>       <td>nan</td>         <td>nan</td>     <td>nan</td>         <td>nan</td>             <td>nan</td>      \n",
       "</tr>\n",
       "<tr>\n",
       "  <th>Ticket_WC</th>       <td>2.2401</td>        <td>nan</td>         <td>nan</td>     <td>nan</td>         <td>nan</td>             <td>nan</td>      \n",
       "</tr>\n",
       "<tr>\n",
       "  <th>Ticket_WEP</th>      <td>1.9278</td>        <td>nan</td>         <td>nan</td>     <td>nan</td>         <td>nan</td>             <td>nan</td>      \n",
       "</tr>\n",
       "<tr>\n",
       "  <th>Ticket_X</th>        <td>4.0175</td>        <td>nan</td>         <td>nan</td>     <td>nan</td>         <td>nan</td>             <td>nan</td>      \n",
       "</tr>\n",
       "<tr>\n",
       "  <th>Pclass_1</th>        <td>-3.0184</td>  <td>10228785.9095</td>  <td>-0.0000</td> <td>1.0000</td>  <td>-20048055.0065</td>   <td>20048048.9698</td> \n",
       "</tr>\n",
       "<tr>\n",
       "  <th>Pclass_2</th>        <td>-3.1197</td>  <td>10228785.9095</td>  <td>-0.0000</td> <td>1.0000</td>  <td>-20048055.1079</td>   <td>20048048.8685</td> \n",
       "</tr>\n",
       "<tr>\n",
       "  <th>Pclass_3</th>        <td>-4.0948</td>  <td>10228785.9095</td>  <td>-0.0000</td> <td>1.0000</td>  <td>-20048056.0830</td>   <td>20048047.8934</td> \n",
       "</tr>\n",
       "<tr>\n",
       "  <th>Embarked_C</th>      <td>-3.1933</td>  <td>7359030.7087</td>   <td>-0.0000</td> <td>1.0000</td>  <td>-14423438.3435</td>   <td>14423431.9568</td> \n",
       "</tr>\n",
       "<tr>\n",
       "  <th>Embarked_Q</th>      <td>-3.3484</td>  <td>7359030.7087</td>   <td>-0.0000</td> <td>1.0000</td>  <td>-14423438.4986</td>   <td>14423431.8017</td> \n",
       "</tr>\n",
       "<tr>\n",
       "  <th>Embarked_S</th>      <td>-3.6911</td>  <td>7359030.7087</td>   <td>-0.0000</td> <td>1.0000</td>  <td>-14423438.8412</td>   <td>14423431.4591</td> \n",
       "</tr>\n",
       "</table>"
      ],
      "text/plain": [
       "<class 'statsmodels.iolib.summary2.Summary'>\n",
       "\"\"\"\n",
       "                                    Results: Logit\n",
       "=======================================================================================\n",
       "Model:                       Logit                   No. Iterations:          35.0000  \n",
       "Dependent Variable:          y                       Pseudo R-squared:        0.447    \n",
       "Date:                        2018-04-04 11:08        AIC:                     757.5104 \n",
       "No. Observations:            881                     BIC:                     1015.6875\n",
       "Df Model:                    53                      Log-Likelihood:          -324.76  \n",
       "Df Residuals:                827                     LL-Null:                 -587.53  \n",
       "Converged:                   0.0000                  Scale:                   1.0000   \n",
       "---------------------------------------------------------------------------------------\n",
       "                Coef.       Std.Err.       z    P>|z|       [0.025           0.975]    \n",
       "---------------------------------------------------------------------------------------\n",
       "Age             -0.3152          0.1313 -2.4006 0.0164          -0.5725         -0.0578\n",
       "Fare             0.5534          0.2172  2.5478 0.0108           0.1277          0.9792\n",
       "Parch            0.2234          0.4154  0.5377 0.5908          -0.5908          1.0375\n",
       "Sex             25.1212     174191.3975  0.0001 0.9999     -341383.7443     341433.9867\n",
       "SibSp            0.0817          0.3933  0.2077 0.8354          -0.6891          0.8525\n",
       "Title_0          5.6892    4652417.5862  0.0000 1.0000    -9118565.2208    9118576.5992\n",
       "Title_1        -19.7617    4167642.0556 -0.0000 1.0000    -8168448.0911    8168408.5678\n",
       "Title_2          2.0092    4442055.8920  0.0000 1.0000    -8706267.5565    8706271.5749\n",
       "Title_3          2.3282    3988182.9009  0.0000 1.0000    -7816692.5212    7816697.1777\n",
       "Single          -1.0057             nan     nan    nan              nan             nan\n",
       "Small_F         -1.6728             nan     nan    nan              nan             nan\n",
       "Med_F           -1.8075             nan     nan    nan              nan             nan\n",
       "Large_F         -5.2490             nan     nan    nan              nan             nan\n",
       "Cabin_A          1.2051             nan     nan    nan              nan             nan\n",
       "Cabin_B          1.4116             nan     nan    nan              nan             nan\n",
       "Cabin_C          0.6027             nan     nan    nan              nan             nan\n",
       "Cabin_D          1.7288             nan     nan    nan              nan             nan\n",
       "Cabin_E          2.4887             nan     nan    nan              nan             nan\n",
       "Cabin_F          0.8954             nan     nan    nan              nan             nan\n",
       "Cabin_G         -1.4737             nan     nan    nan              nan             nan\n",
       "Cabin_T        -16.9488             nan     nan    nan              nan             nan\n",
       "Cabin_X          0.3552             nan     nan    nan              nan             nan\n",
       "Ticket_A4      -17.4270             nan     nan    nan              nan             nan\n",
       "Ticket_A5        3.9632             nan     nan    nan              nan             nan\n",
       "Ticket_AS       -6.8208             nan     nan    nan              nan             nan\n",
       "Ticket_C         5.8120             nan     nan    nan              nan             nan\n",
       "Ticket_CA        3.9369             nan     nan    nan              nan             nan\n",
       "Ticket_CASOTON  -7.9286             nan     nan    nan              nan             nan\n",
       "Ticket_FC       -9.4129             nan     nan    nan              nan             nan\n",
       "Ticket_FCC       5.1001             nan     nan    nan              nan             nan\n",
       "Ticket_Fa       -6.7633             nan     nan    nan              nan             nan\n",
       "Ticket_LINE      7.0929             nan     nan    nan              nan             nan\n",
       "Ticket_PC        3.4311             nan     nan    nan              nan             nan\n",
       "Ticket_PP        6.3288             nan     nan    nan              nan             nan\n",
       "Ticket_PPP       3.7125             nan     nan    nan              nan             nan\n",
       "Ticket_SC       21.8961             nan     nan    nan              nan             nan\n",
       "Ticket_SCA4     -6.8272             nan     nan    nan              nan             nan\n",
       "Ticket_SCAH      4.4681             nan     nan    nan              nan             nan\n",
       "Ticket_SCOW     -7.8837             nan     nan    nan              nan             nan\n",
       "Ticket_SCPARIS   3.9354             nan     nan    nan              nan             nan\n",
       "Ticket_SCParis   2.6502             nan     nan    nan              nan             nan\n",
       "Ticket_SOC       2.4498             nan     nan    nan              nan             nan\n",
       "Ticket_SOP      -7.8004             nan     nan    nan              nan             nan\n",
       "Ticket_SOPP    -41.8947 2127429430.6395 -0.0000 1.0000 -4169685105.5987 4169685021.8092\n",
       "Ticket_SOTONO2 -13.1221             nan     nan    nan              nan             nan\n",
       "Ticket_SOTONOQ   4.2558             nan     nan    nan              nan             nan\n",
       "Ticket_SP       -6.9781             nan     nan    nan              nan             nan\n",
       "Ticket_STONO     6.5880             nan     nan    nan              nan             nan\n",
       "Ticket_STONO2    3.9581             nan     nan    nan              nan             nan\n",
       "Ticket_SWPP     15.4309             nan     nan    nan              nan             nan\n",
       "Ticket_WC        2.2401             nan     nan    nan              nan             nan\n",
       "Ticket_WEP       1.9278             nan     nan    nan              nan             nan\n",
       "Ticket_X         4.0175             nan     nan    nan              nan             nan\n",
       "Pclass_1        -3.0184   10228785.9095 -0.0000 1.0000   -20048055.0065   20048048.9698\n",
       "Pclass_2        -3.1197   10228785.9095 -0.0000 1.0000   -20048055.1079   20048048.8685\n",
       "Pclass_3        -4.0948   10228785.9095 -0.0000 1.0000   -20048056.0830   20048047.8934\n",
       "Embarked_C      -3.1933    7359030.7087 -0.0000 1.0000   -14423438.3435   14423431.9568\n",
       "Embarked_Q      -3.3484    7359030.7087 -0.0000 1.0000   -14423438.4986   14423431.8017\n",
       "Embarked_S      -3.6911    7359030.7087 -0.0000 1.0000   -14423438.8412   14423431.4591\n",
       "=======================================================================================\n",
       "\n",
       "\"\"\""
      ]
     },
     "execution_count": 69,
     "metadata": {},
     "output_type": "execute_result"
    }
   ],
   "source": [
    "logit_res.summary2()"
   ]
  },
  {
   "cell_type": "code",
   "execution_count": 70,
   "metadata": {},
   "outputs": [],
   "source": [
    "predTest_l = logit_res.predict(X_test)\n",
    "predTest_ll = np.array(predTest_l)\n",
    "binarizer = Binarizer(0.5)\n",
    "predTest_ll = predTest_ll[:,np.newaxis]\n",
    "predTest_b = binarizer.fit_transform(predTest_ll)\n",
    "predTest = predTest_b.astype(np.int32)"
   ]
  },
  {
   "cell_type": "code",
   "execution_count": 71,
   "metadata": {},
   "outputs": [
    {
     "data": {
      "text/plain": [
       "<matplotlib.axes._subplots.AxesSubplot at 0x10f064128>"
      ]
     },
     "execution_count": 71,
     "metadata": {},
     "output_type": "execute_result"
    },
    {
     "data": {
      "image/png": "[encoded data removed]",
      "text/plain": [
       "<matplotlib.figure.Figure at 0x10ebd8f98>"
      ]
     },
     "metadata": {},
     "output_type": "display_data"
    }
   ],
   "source": [
    "fig,(ax1,ax2)= plt.subplots(ncols=2)\n",
    "fig.set_size_inches(12,5)\n",
    "sns.distplot(y_train,ax=ax1,bins=50)\n",
    "sns.distplot(predTest,ax=ax2,bins=50)"
   ]
  },
  {
   "cell_type": "code",
   "execution_count": 72,
   "metadata": {},
   "outputs": [
    {
     "name": "stdout",
     "output_type": "stream",
     "text": [
      "(418, 2)\n"
     ]
    },
    {
     "data": {
      "text/html": [
       "<div>\n",
       "<style scoped>\n",
       "    .dataframe tbody tr th:only-of-type {\n",
       "        vertical-align: middle;\n",
       "    }\n",
       "\n",
       "    .dataframe tbody tr th {\n",
       "        vertical-align: top;\n",
       "    }\n",
       "\n",
       "    .dataframe thead th {\n",
       "        text-align: right;\n",
       "    }\n",
       "</style>\n",
       "<table border=\"1\" class=\"dataframe\">\n",
       "  <thead>\n",
       "    <tr style=\"text-align: right;\">\n",
       "      <th></th>\n",
       "      <th>PassengerId</th>\n",
       "      <th>Survived</th>\n",
       "    </tr>\n",
       "  </thead>\n",
       "  <tbody>\n",
       "    <tr>\n",
       "      <th>0</th>\n",
       "      <td>892</td>\n",
       "      <td>0</td>\n",
       "    </tr>\n",
       "    <tr>\n",
       "      <th>1</th>\n",
       "      <td>893</td>\n",
       "      <td>0</td>\n",
       "    </tr>\n",
       "    <tr>\n",
       "      <th>2</th>\n",
       "      <td>894</td>\n",
       "      <td>0</td>\n",
       "    </tr>\n",
       "    <tr>\n",
       "      <th>3</th>\n",
       "      <td>895</td>\n",
       "      <td>0</td>\n",
       "    </tr>\n",
       "    <tr>\n",
       "      <th>4</th>\n",
       "      <td>896</td>\n",
       "      <td>1</td>\n",
       "    </tr>\n",
       "  </tbody>\n",
       "</table>\n",
       "</div>"
      ],
      "text/plain": [
       "   PassengerId  Survived\n",
       "0          892         0\n",
       "1          893         0\n",
       "2          894         0\n",
       "3          895         0\n",
       "4          896         1"
      ]
     },
     "execution_count": 72,
     "metadata": {},
     "output_type": "execute_result"
    }
   ],
   "source": [
    "submission = pd.read_csv(\"Submit/gender_submission.csv\")\n",
    "submission\n",
    "\n",
    "submission[\"Survived\"] = predTest\n",
    "\n",
    "\n",
    "print(submission.shape)\n",
    "submission.head()"
   ]
  },
  {
   "cell_type": "code",
   "execution_count": 73,
   "metadata": {},
   "outputs": [],
   "source": [
    "submission.to_csv(\"logistics_submission_1.csv\", index=False)"
   ]
  },
  {
   "attachments": {
    "image.png": {
     "image/png": "[encoded data removed]"
    }
   },
   "cell_type": "markdown",
   "metadata": {},
   "source": [
    "### 예상 결과 아래와 같이 총 10,435 명중 8,883 수준의 결과를 얻었음.\n",
    "score: 0.75119  8883/10,435 [85%]\n",
    "![image.png](attachment:image.png)"
   ]
  },
  {
   "cell_type": "markdown",
   "metadata": {},
   "source": [
    "### 6-2 Tensorflow: StatsModel 보다 정확(상향)한 모델을 도출 하였음."
   ]
  },
  {
   "cell_type": "code",
   "execution_count": 74,
   "metadata": {},
   "outputs": [
    {
     "name": "stdout",
     "output_type": "stream",
     "text": [
      "one_hot Tensor(\"one_hot:0\", shape=(?, 1, 2), dtype=float32)\n",
      "reshape Tensor(\"Reshape:0\", shape=(?, 2), dtype=float32)\n"
     ]
    }
   ],
   "source": [
    "nb_classes = 2  # 0 ~ 1\n",
    "\n",
    "X = tf.placeholder(tf.float32, [None, X_train.shape[1]])\n",
    "Y = tf.placeholder(tf.int32, [None, 1])  # 0 ~ 1\n",
    "Y_one_hot = tf.one_hot(Y, nb_classes)  # one hot\n",
    "print(\"one_hot\", Y_one_hot)\n",
    "Y_one_hot = tf.reshape(Y_one_hot, [-1, nb_classes])\n",
    "print(\"reshape\", Y_one_hot)"
   ]
  },
  {
   "cell_type": "code",
   "execution_count": 75,
   "metadata": {},
   "outputs": [
    {
     "name": "stdout",
     "output_type": "stream",
     "text": [
      "WARNING:tensorflow:From <ipython-input-75-b5e8634dbc36>:11: softmax_cross_entropy_with_logits (from tensorflow.python.ops.nn_ops) is deprecated and will be removed in a future version.\n",
      "Instructions for updating:\n",
      "\n",
      "Future major versions of TensorFlow will allow gradients to flow\n",
      "into the labels input on backprop by default.\n",
      "\n",
      "See tf.nn.softmax_cross_entropy_with_logits_v2.\n",
      "\n"
     ]
    }
   ],
   "source": [
    "W = tf.Variable(tf.random_normal([X_train.shape[1], nb_classes]), name='weight')\n",
    "b = tf.Variable(tf.random_normal([nb_classes]), name='bias')\n",
    "\n",
    "# tf.nn.softmax computes softmax activations\n",
    "# softmax = exp(logits) / reduce_sum(exp(logits), dim)\n",
    "logits = tf.matmul(X, W) + b\n",
    "hypothesis = tf.nn.softmax(logits)\n",
    "\n",
    "# Cross entropy cost/loss\n",
    "cost_i = tf.nn.softmax_cross_entropy_with_logits(logits=logits,\n",
    "                                                 labels=Y_one_hot)\n",
    "cost = tf.reduce_mean(cost_i)\n",
    "optimizer = tf.train.GradientDescentOptimizer(learning_rate=0.1).minimize(cost)\n",
    "\n",
    "prediction = tf.argmax(hypothesis, 1)\n",
    "correct_prediction = tf.equal(prediction, tf.argmax(Y_one_hot, 1))\n",
    "accuracy = tf.reduce_mean(tf.cast(correct_prediction, tf.float32))"
   ]
  },
  {
   "cell_type": "code",
   "execution_count": 76,
   "metadata": {},
   "outputs": [],
   "source": [
    "import statsmodels.api as sm\n",
    "from sklearn.linear_model import LogisticRegression\n",
    "import tensorflow as tf\n",
    "from sklearn.model_selection import train_test_split"
   ]
  },
  {
   "cell_type": "markdown",
   "metadata": {},
   "source": [
    "* 총 3만번의 학습을 통해 예상 모델을 도출\n",
    "* 스텝이 증가함에 따라 정확도(ACC)가 상승하는 것을 볼 수 있음(아래 Output 및 그래프 참조)"
   ]
  },
  {
   "cell_type": "code",
   "execution_count": 77,
   "metadata": {},
   "outputs": [
    {
     "name": "stdout",
     "output_type": "stream",
     "text": [
      "Step:     0\tLoss: 1.132\tAcc: 55.73%\n",
      "Step:   100\tLoss: 0.545\tAcc: 79.00%\n",
      "Step:   200\tLoss: 0.494\tAcc: 80.82%\n",
      "Step:   300\tLoss: 0.472\tAcc: 80.70%\n",
      "Step:   400\tLoss: 0.458\tAcc: 80.59%\n",
      "Step:   500\tLoss: 0.449\tAcc: 80.70%\n",
      "Step:   600\tLoss: 0.442\tAcc: 81.16%\n",
      "Step:   700\tLoss: 0.437\tAcc: 81.38%\n",
      "Step:   800\tLoss: 0.432\tAcc: 81.73%\n",
      "Step:   900\tLoss: 0.429\tAcc: 82.07%\n",
      "Step:  1000\tLoss: 0.426\tAcc: 82.29%\n",
      "Step:  1100\tLoss: 0.423\tAcc: 82.41%\n",
      "Step:  1200\tLoss: 0.421\tAcc: 82.41%\n",
      "Step:  1300\tLoss: 0.419\tAcc: 82.41%\n",
      "Step:  1400\tLoss: 0.417\tAcc: 82.29%\n",
      "Step:  1500\tLoss: 0.415\tAcc: 82.52%\n",
      "Step:  1600\tLoss: 0.414\tAcc: 82.52%\n",
      "Step:  1700\tLoss: 0.412\tAcc: 82.75%\n",
      "Step:  1800\tLoss: 0.411\tAcc: 82.75%\n",
      "Step:  1900\tLoss: 0.409\tAcc: 82.86%\n",
      "Step:  2000\tLoss: 0.408\tAcc: 82.86%\n",
      "Step:  2100\tLoss: 0.407\tAcc: 82.86%\n",
      "Step:  2200\tLoss: 0.406\tAcc: 82.97%\n",
      "Step:  2300\tLoss: 0.405\tAcc: 83.09%\n",
      "Step:  2400\tLoss: 0.404\tAcc: 82.97%\n",
      "Step:  2500\tLoss: 0.403\tAcc: 82.97%\n",
      "Step:  2600\tLoss: 0.402\tAcc: 82.97%\n",
      "Step:  2700\tLoss: 0.401\tAcc: 82.97%\n",
      "Step:  2800\tLoss: 0.400\tAcc: 82.97%\n",
      "Step:  2900\tLoss: 0.400\tAcc: 83.09%\n",
      "Step:  3000\tLoss: 0.399\tAcc: 83.20%\n",
      "Step:  3100\tLoss: 0.398\tAcc: 83.31%\n",
      "Step:  3200\tLoss: 0.398\tAcc: 83.31%\n",
      "Step:  3300\tLoss: 0.397\tAcc: 83.43%\n",
      "Step:  3400\tLoss: 0.396\tAcc: 83.43%\n",
      "Step:  3500\tLoss: 0.396\tAcc: 83.43%\n",
      "Step:  3600\tLoss: 0.395\tAcc: 83.43%\n",
      "Step:  3700\tLoss: 0.394\tAcc: 83.54%\n",
      "Step:  3800\tLoss: 0.394\tAcc: 83.54%\n",
      "Step:  3900\tLoss: 0.393\tAcc: 83.54%\n",
      "Step:  4000\tLoss: 0.393\tAcc: 83.54%\n",
      "Step:  4100\tLoss: 0.392\tAcc: 83.54%\n",
      "Step:  4200\tLoss: 0.392\tAcc: 83.65%\n",
      "Step:  4300\tLoss: 0.391\tAcc: 83.65%\n",
      "Step:  4400\tLoss: 0.391\tAcc: 83.65%\n",
      "Step:  4500\tLoss: 0.391\tAcc: 83.54%\n",
      "Step:  4600\tLoss: 0.390\tAcc: 83.54%\n",
      "Step:  4700\tLoss: 0.390\tAcc: 83.54%\n",
      "Step:  4800\tLoss: 0.389\tAcc: 83.54%\n",
      "Step:  4900\tLoss: 0.389\tAcc: 83.65%\n",
      "Step:  5000\tLoss: 0.389\tAcc: 83.65%\n",
      "Step:  5100\tLoss: 0.388\tAcc: 83.65%\n",
      "Step:  5200\tLoss: 0.388\tAcc: 83.65%\n",
      "Step:  5300\tLoss: 0.387\tAcc: 83.77%\n",
      "Step:  5400\tLoss: 0.387\tAcc: 83.77%\n",
      "Step:  5500\tLoss: 0.387\tAcc: 83.77%\n",
      "Step:  5600\tLoss: 0.386\tAcc: 83.65%\n",
      "Step:  5700\tLoss: 0.386\tAcc: 83.65%\n",
      "Step:  5800\tLoss: 0.386\tAcc: 83.65%\n",
      "Step:  5900\tLoss: 0.386\tAcc: 83.77%\n",
      "Step:  6000\tLoss: 0.385\tAcc: 83.88%\n",
      "Step:  6100\tLoss: 0.385\tAcc: 84.00%\n",
      "Step:  6200\tLoss: 0.385\tAcc: 84.11%\n",
      "Step:  6300\tLoss: 0.384\tAcc: 84.11%\n",
      "Step:  6400\tLoss: 0.384\tAcc: 84.11%\n",
      "Step:  6500\tLoss: 0.384\tAcc: 84.11%\n",
      "Step:  6600\tLoss: 0.384\tAcc: 84.11%\n",
      "Step:  6700\tLoss: 0.383\tAcc: 84.22%\n",
      "Step:  6800\tLoss: 0.383\tAcc: 84.22%\n",
      "Step:  6900\tLoss: 0.383\tAcc: 84.22%\n",
      "Step:  7000\tLoss: 0.383\tAcc: 84.34%\n",
      "Step:  7100\tLoss: 0.382\tAcc: 84.22%\n",
      "Step:  7200\tLoss: 0.382\tAcc: 84.22%\n",
      "Step:  7300\tLoss: 0.382\tAcc: 84.22%\n",
      "Step:  7400\tLoss: 0.382\tAcc: 84.22%\n",
      "Step:  7500\tLoss: 0.382\tAcc: 84.22%\n",
      "Step:  7600\tLoss: 0.381\tAcc: 84.11%\n",
      "Step:  7700\tLoss: 0.381\tAcc: 84.11%\n",
      "Step:  7800\tLoss: 0.381\tAcc: 84.00%\n",
      "Step:  7900\tLoss: 0.381\tAcc: 84.00%\n",
      "Step:  8000\tLoss: 0.381\tAcc: 84.00%\n",
      "Step:  8100\tLoss: 0.380\tAcc: 84.00%\n",
      "Step:  8200\tLoss: 0.380\tAcc: 84.00%\n",
      "Step:  8300\tLoss: 0.380\tAcc: 84.00%\n",
      "Step:  8400\tLoss: 0.380\tAcc: 84.11%\n",
      "Step:  8500\tLoss: 0.380\tAcc: 84.11%\n",
      "Step:  8600\tLoss: 0.380\tAcc: 84.11%\n",
      "Step:  8700\tLoss: 0.379\tAcc: 84.11%\n",
      "Step:  8800\tLoss: 0.379\tAcc: 84.11%\n",
      "Step:  8900\tLoss: 0.379\tAcc: 84.11%\n",
      "Step:  9000\tLoss: 0.379\tAcc: 84.11%\n",
      "Step:  9100\tLoss: 0.379\tAcc: 84.11%\n",
      "Step:  9200\tLoss: 0.379\tAcc: 84.11%\n",
      "Step:  9300\tLoss: 0.379\tAcc: 84.11%\n",
      "Step:  9400\tLoss: 0.378\tAcc: 84.11%\n",
      "Step:  9500\tLoss: 0.378\tAcc: 84.11%\n",
      "Step:  9600\tLoss: 0.378\tAcc: 84.11%\n",
      "Step:  9700\tLoss: 0.378\tAcc: 84.11%\n",
      "Step:  9800\tLoss: 0.378\tAcc: 84.11%\n",
      "Step:  9900\tLoss: 0.378\tAcc: 84.11%\n",
      "Step: 10000\tLoss: 0.378\tAcc: 84.11%\n",
      "Step: 10100\tLoss: 0.378\tAcc: 84.11%\n",
      "Step: 10200\tLoss: 0.377\tAcc: 84.11%\n",
      "Step: 10300\tLoss: 0.377\tAcc: 84.11%\n",
      "Step: 10400\tLoss: 0.377\tAcc: 84.11%\n",
      "Step: 10500\tLoss: 0.377\tAcc: 84.11%\n",
      "Step: 10600\tLoss: 0.377\tAcc: 84.11%\n",
      "Step: 10700\tLoss: 0.377\tAcc: 84.22%\n",
      "Step: 10800\tLoss: 0.377\tAcc: 84.22%\n",
      "Step: 10900\tLoss: 0.377\tAcc: 84.22%\n",
      "Step: 11000\tLoss: 0.377\tAcc: 84.34%\n",
      "Step: 11100\tLoss: 0.377\tAcc: 84.34%\n",
      "Step: 11200\tLoss: 0.376\tAcc: 84.34%\n",
      "Step: 11300\tLoss: 0.376\tAcc: 84.34%\n",
      "Step: 11400\tLoss: 0.376\tAcc: 84.34%\n",
      "Step: 11500\tLoss: 0.376\tAcc: 84.34%\n",
      "Step: 11600\tLoss: 0.376\tAcc: 84.34%\n",
      "Step: 11700\tLoss: 0.376\tAcc: 84.34%\n",
      "Step: 11800\tLoss: 0.376\tAcc: 84.34%\n",
      "Step: 11900\tLoss: 0.376\tAcc: 84.34%\n",
      "Step: 12000\tLoss: 0.376\tAcc: 84.34%\n",
      "Step: 12100\tLoss: 0.376\tAcc: 84.34%\n",
      "Step: 12200\tLoss: 0.376\tAcc: 84.34%\n",
      "Step: 12300\tLoss: 0.375\tAcc: 84.34%\n",
      "Step: 12400\tLoss: 0.375\tAcc: 84.34%\n",
      "Step: 12500\tLoss: 0.375\tAcc: 84.34%\n",
      "Step: 12600\tLoss: 0.375\tAcc: 84.34%\n",
      "Step: 12700\tLoss: 0.375\tAcc: 84.34%\n",
      "Step: 12800\tLoss: 0.375\tAcc: 84.34%\n",
      "Step: 12900\tLoss: 0.375\tAcc: 84.34%\n",
      "Step: 13000\tLoss: 0.375\tAcc: 84.34%\n",
      "Step: 13100\tLoss: 0.375\tAcc: 84.34%\n",
      "Step: 13200\tLoss: 0.375\tAcc: 84.34%\n",
      "Step: 13300\tLoss: 0.375\tAcc: 84.34%\n",
      "Step: 13400\tLoss: 0.375\tAcc: 84.34%\n",
      "Step: 13500\tLoss: 0.375\tAcc: 84.34%\n",
      "Step: 13600\tLoss: 0.375\tAcc: 84.34%\n",
      "Step: 13700\tLoss: 0.375\tAcc: 84.34%\n",
      "Step: 13800\tLoss: 0.374\tAcc: 84.34%\n",
      "Step: 13900\tLoss: 0.374\tAcc: 84.34%\n",
      "Step: 14000\tLoss: 0.374\tAcc: 84.34%\n",
      "Step: 14100\tLoss: 0.374\tAcc: 84.34%\n",
      "Step: 14200\tLoss: 0.374\tAcc: 84.34%\n",
      "Step: 14300\tLoss: 0.374\tAcc: 84.34%\n",
      "Step: 14400\tLoss: 0.374\tAcc: 84.34%\n",
      "Step: 14500\tLoss: 0.374\tAcc: 84.34%\n",
      "Step: 14600\tLoss: 0.374\tAcc: 84.45%\n",
      "Step: 14700\tLoss: 0.374\tAcc: 84.45%\n",
      "Step: 14800\tLoss: 0.374\tAcc: 84.45%\n",
      "Step: 14900\tLoss: 0.374\tAcc: 84.45%\n",
      "Step: 15000\tLoss: 0.374\tAcc: 84.45%\n",
      "Step: 15100\tLoss: 0.374\tAcc: 84.45%\n",
      "Step: 15200\tLoss: 0.374\tAcc: 84.45%\n",
      "Step: 15300\tLoss: 0.374\tAcc: 84.45%\n",
      "Step: 15400\tLoss: 0.374\tAcc: 84.45%\n",
      "Step: 15500\tLoss: 0.374\tAcc: 84.45%\n",
      "Step: 15600\tLoss: 0.374\tAcc: 84.45%\n",
      "Step: 15700\tLoss: 0.373\tAcc: 84.45%\n",
      "Step: 15800\tLoss: 0.373\tAcc: 84.56%\n",
      "Step: 15900\tLoss: 0.373\tAcc: 84.56%\n",
      "Step: 16000\tLoss: 0.373\tAcc: 84.56%\n",
      "Step: 16100\tLoss: 0.373\tAcc: 84.56%\n",
      "Step: 16200\tLoss: 0.373\tAcc: 84.56%\n",
      "Step: 16300\tLoss: 0.373\tAcc: 84.68%\n",
      "Step: 16400\tLoss: 0.373\tAcc: 84.68%\n",
      "Step: 16500\tLoss: 0.373\tAcc: 84.68%\n",
      "Step: 16600\tLoss: 0.373\tAcc: 84.68%\n",
      "Step: 16700\tLoss: 0.373\tAcc: 84.68%\n",
      "Step: 16800\tLoss: 0.373\tAcc: 84.68%\n",
      "Step: 16900\tLoss: 0.373\tAcc: 84.56%\n",
      "Step: 17000\tLoss: 0.373\tAcc: 84.56%\n",
      "Step: 17100\tLoss: 0.373\tAcc: 84.56%\n",
      "Step: 17200\tLoss: 0.373\tAcc: 84.56%\n",
      "Step: 17300\tLoss: 0.373\tAcc: 84.56%\n",
      "Step: 17400\tLoss: 0.373\tAcc: 84.56%\n",
      "Step: 17500\tLoss: 0.373\tAcc: 84.56%\n",
      "Step: 17600\tLoss: 0.373\tAcc: 84.56%\n",
      "Step: 17700\tLoss: 0.373\tAcc: 84.56%\n",
      "Step: 17800\tLoss: 0.373\tAcc: 84.56%\n",
      "Step: 17900\tLoss: 0.373\tAcc: 84.56%\n",
      "Step: 18000\tLoss: 0.373\tAcc: 84.56%\n",
      "Step: 18100\tLoss: 0.373\tAcc: 84.56%\n",
      "Step: 18200\tLoss: 0.373\tAcc: 84.56%\n",
      "Step: 18300\tLoss: 0.372\tAcc: 84.56%\n",
      "Step: 18400\tLoss: 0.372\tAcc: 84.56%\n",
      "Step: 18500\tLoss: 0.372\tAcc: 84.56%\n",
      "Step: 18600\tLoss: 0.372\tAcc: 84.56%\n",
      "Step: 18700\tLoss: 0.372\tAcc: 84.56%\n",
      "Step: 18800\tLoss: 0.372\tAcc: 84.56%\n",
      "Step: 18900\tLoss: 0.372\tAcc: 84.56%\n",
      "Step: 19000\tLoss: 0.372\tAcc: 84.56%\n",
      "Step: 19100\tLoss: 0.372\tAcc: 84.56%\n",
      "Step: 19200\tLoss: 0.372\tAcc: 84.56%\n",
      "Step: 19300\tLoss: 0.372\tAcc: 84.68%\n",
      "Step: 19400\tLoss: 0.372\tAcc: 84.68%\n",
      "Step: 19500\tLoss: 0.372\tAcc: 84.68%\n",
      "Step: 19600\tLoss: 0.372\tAcc: 84.68%\n",
      "Step: 19700\tLoss: 0.372\tAcc: 84.68%\n",
      "Step: 19800\tLoss: 0.372\tAcc: 84.68%\n",
      "Step: 19900\tLoss: 0.372\tAcc: 84.68%\n",
      "Step: 20000\tLoss: 0.372\tAcc: 84.56%\n",
      "Step: 20100\tLoss: 0.372\tAcc: 84.56%\n",
      "Step: 20200\tLoss: 0.372\tAcc: 84.56%\n",
      "Step: 20300\tLoss: 0.372\tAcc: 84.56%\n",
      "Step: 20400\tLoss: 0.372\tAcc: 84.56%\n",
      "Step: 20500\tLoss: 0.372\tAcc: 84.56%\n",
      "Step: 20600\tLoss: 0.372\tAcc: 84.45%\n",
      "Step: 20700\tLoss: 0.372\tAcc: 84.45%\n",
      "Step: 20800\tLoss: 0.372\tAcc: 84.45%\n",
      "Step: 20900\tLoss: 0.372\tAcc: 84.45%\n",
      "Step: 21000\tLoss: 0.372\tAcc: 84.45%\n",
      "Step: 21100\tLoss: 0.372\tAcc: 84.45%\n",
      "Step: 21200\tLoss: 0.372\tAcc: 84.45%\n",
      "Step: 21300\tLoss: 0.372\tAcc: 84.45%\n",
      "Step: 21400\tLoss: 0.372\tAcc: 84.45%\n",
      "Step: 21500\tLoss: 0.372\tAcc: 84.45%\n",
      "Step: 21600\tLoss: 0.372\tAcc: 84.45%\n",
      "Step: 21700\tLoss: 0.372\tAcc: 84.45%\n",
      "Step: 21800\tLoss: 0.372\tAcc: 84.45%\n",
      "Step: 21900\tLoss: 0.372\tAcc: 84.45%\n",
      "Step: 22000\tLoss: 0.372\tAcc: 84.45%\n",
      "Step: 22100\tLoss: 0.372\tAcc: 84.45%\n",
      "Step: 22200\tLoss: 0.372\tAcc: 84.45%\n",
      "Step: 22300\tLoss: 0.372\tAcc: 84.45%\n",
      "Step: 22400\tLoss: 0.372\tAcc: 84.45%\n",
      "Step: 22500\tLoss: 0.372\tAcc: 84.45%\n",
      "Step: 22600\tLoss: 0.371\tAcc: 84.45%\n",
      "Step: 22700\tLoss: 0.371\tAcc: 84.45%\n",
      "Step: 22800\tLoss: 0.371\tAcc: 84.45%\n",
      "Step: 22900\tLoss: 0.371\tAcc: 84.45%\n"
     ]
    },
    {
     "name": "stdout",
     "output_type": "stream",
     "text": [
      "Step: 23000\tLoss: 0.371\tAcc: 84.45%\n",
      "Step: 23100\tLoss: 0.371\tAcc: 84.45%\n",
      "Step: 23200\tLoss: 0.371\tAcc: 84.45%\n",
      "Step: 23300\tLoss: 0.371\tAcc: 84.45%\n",
      "Step: 23400\tLoss: 0.371\tAcc: 84.45%\n",
      "Step: 23500\tLoss: 0.371\tAcc: 84.45%\n",
      "Step: 23600\tLoss: 0.371\tAcc: 84.45%\n",
      "Step: 23700\tLoss: 0.371\tAcc: 84.45%\n",
      "Step: 23800\tLoss: 0.371\tAcc: 84.45%\n",
      "Step: 23900\tLoss: 0.371\tAcc: 84.45%\n",
      "Step: 24000\tLoss: 0.371\tAcc: 84.45%\n",
      "Step: 24100\tLoss: 0.371\tAcc: 84.45%\n",
      "Step: 24200\tLoss: 0.371\tAcc: 84.45%\n",
      "Step: 24300\tLoss: 0.371\tAcc: 84.45%\n",
      "Step: 24400\tLoss: 0.371\tAcc: 84.45%\n",
      "Step: 24500\tLoss: 0.371\tAcc: 84.45%\n",
      "Step: 24600\tLoss: 0.371\tAcc: 84.45%\n",
      "Step: 24700\tLoss: 0.371\tAcc: 84.45%\n",
      "Step: 24800\tLoss: 0.371\tAcc: 84.45%\n",
      "Step: 24900\tLoss: 0.371\tAcc: 84.45%\n",
      "Step: 25000\tLoss: 0.371\tAcc: 84.45%\n",
      "Step: 25100\tLoss: 0.371\tAcc: 84.45%\n",
      "Step: 25200\tLoss: 0.371\tAcc: 84.45%\n",
      "Step: 25300\tLoss: 0.371\tAcc: 84.45%\n",
      "Step: 25400\tLoss: 0.371\tAcc: 84.45%\n",
      "Step: 25500\tLoss: 0.371\tAcc: 84.45%\n",
      "Step: 25600\tLoss: 0.371\tAcc: 84.45%\n",
      "Step: 25700\tLoss: 0.371\tAcc: 84.45%\n",
      "Step: 25800\tLoss: 0.371\tAcc: 84.45%\n",
      "Step: 25900\tLoss: 0.371\tAcc: 84.45%\n",
      "Step: 26000\tLoss: 0.371\tAcc: 84.45%\n",
      "Step: 26100\tLoss: 0.371\tAcc: 84.45%\n",
      "Step: 26200\tLoss: 0.371\tAcc: 84.45%\n",
      "Step: 26300\tLoss: 0.371\tAcc: 84.45%\n",
      "Step: 26400\tLoss: 0.371\tAcc: 84.45%\n",
      "Step: 26500\tLoss: 0.371\tAcc: 84.45%\n",
      "Step: 26600\tLoss: 0.371\tAcc: 84.45%\n",
      "Step: 26700\tLoss: 0.371\tAcc: 84.45%\n",
      "Step: 26800\tLoss: 0.371\tAcc: 84.45%\n",
      "Step: 26900\tLoss: 0.371\tAcc: 84.45%\n",
      "Step: 27000\tLoss: 0.371\tAcc: 84.45%\n",
      "Step: 27100\tLoss: 0.371\tAcc: 84.45%\n",
      "Step: 27200\tLoss: 0.371\tAcc: 84.45%\n",
      "Step: 27300\tLoss: 0.371\tAcc: 84.45%\n",
      "Step: 27400\tLoss: 0.371\tAcc: 84.45%\n",
      "Step: 27500\tLoss: 0.371\tAcc: 84.45%\n",
      "Step: 27600\tLoss: 0.371\tAcc: 84.45%\n",
      "Step: 27700\tLoss: 0.371\tAcc: 84.45%\n",
      "Step: 27800\tLoss: 0.371\tAcc: 84.45%\n",
      "Step: 27900\tLoss: 0.371\tAcc: 84.45%\n",
      "Step: 28000\tLoss: 0.371\tAcc: 84.45%\n",
      "Step: 28100\tLoss: 0.371\tAcc: 84.45%\n",
      "Step: 28200\tLoss: 0.371\tAcc: 84.45%\n",
      "Step: 28300\tLoss: 0.371\tAcc: 84.45%\n",
      "Step: 28400\tLoss: 0.371\tAcc: 84.45%\n",
      "Step: 28500\tLoss: 0.371\tAcc: 84.45%\n",
      "Step: 28600\tLoss: 0.371\tAcc: 84.45%\n",
      "Step: 28700\tLoss: 0.371\tAcc: 84.45%\n",
      "Step: 28800\tLoss: 0.371\tAcc: 84.45%\n",
      "Step: 28900\tLoss: 0.371\tAcc: 84.45%\n",
      "Step: 29000\tLoss: 0.371\tAcc: 84.45%\n",
      "Step: 29100\tLoss: 0.371\tAcc: 84.45%\n",
      "Step: 29200\tLoss: 0.371\tAcc: 84.45%\n",
      "Step: 29300\tLoss: 0.371\tAcc: 84.45%\n",
      "Step: 29400\tLoss: 0.371\tAcc: 84.45%\n",
      "Step: 29500\tLoss: 0.371\tAcc: 84.45%\n",
      "Step: 29600\tLoss: 0.371\tAcc: 84.45%\n",
      "Step: 29700\tLoss: 0.371\tAcc: 84.45%\n",
      "Step: 29800\tLoss: 0.371\tAcc: 84.45%\n",
      "Step: 29900\tLoss: 0.371\tAcc: 84.45%\n",
      "Step: 30000\tLoss: 0.371\tAcc: 84.45%\n",
      "Step: 30100\tLoss: 0.371\tAcc: 84.45%\n",
      "Step: 30200\tLoss: 0.371\tAcc: 84.45%\n",
      "Step: 30300\tLoss: 0.371\tAcc: 84.45%\n",
      "Step: 30400\tLoss: 0.371\tAcc: 84.45%\n",
      "Step: 30500\tLoss: 0.371\tAcc: 84.45%\n",
      "Step: 30600\tLoss: 0.371\tAcc: 84.45%\n",
      "Step: 30700\tLoss: 0.371\tAcc: 84.45%\n",
      "Step: 30800\tLoss: 0.371\tAcc: 84.45%\n",
      "Step: 30900\tLoss: 0.371\tAcc: 84.45%\n",
      "Step: 31000\tLoss: 0.371\tAcc: 84.45%\n",
      "Step: 31100\tLoss: 0.371\tAcc: 84.45%\n",
      "Step: 31200\tLoss: 0.371\tAcc: 84.45%\n",
      "Step: 31300\tLoss: 0.371\tAcc: 84.45%\n",
      "Step: 31400\tLoss: 0.370\tAcc: 84.45%\n",
      "Step: 31500\tLoss: 0.370\tAcc: 84.45%\n",
      "Step: 31600\tLoss: 0.370\tAcc: 84.45%\n",
      "Step: 31700\tLoss: 0.370\tAcc: 84.45%\n",
      "Step: 31800\tLoss: 0.370\tAcc: 84.45%\n",
      "Step: 31900\tLoss: 0.370\tAcc: 84.45%\n",
      "Step: 32000\tLoss: 0.370\tAcc: 84.45%\n",
      "Step: 32100\tLoss: 0.370\tAcc: 84.45%\n",
      "Step: 32200\tLoss: 0.370\tAcc: 84.45%\n",
      "Step: 32300\tLoss: 0.370\tAcc: 84.45%\n",
      "Step: 32400\tLoss: 0.370\tAcc: 84.45%\n",
      "Step: 32500\tLoss: 0.370\tAcc: 84.45%\n",
      "Step: 32600\tLoss: 0.370\tAcc: 84.45%\n",
      "Step: 32700\tLoss: 0.370\tAcc: 84.45%\n",
      "Step: 32800\tLoss: 0.370\tAcc: 84.45%\n",
      "Step: 32900\tLoss: 0.370\tAcc: 84.45%\n",
      "Step: 33000\tLoss: 0.370\tAcc: 84.45%\n",
      "Step: 33100\tLoss: 0.370\tAcc: 84.45%\n",
      "Step: 33200\tLoss: 0.370\tAcc: 84.45%\n",
      "Step: 33300\tLoss: 0.370\tAcc: 84.45%\n",
      "Step: 33400\tLoss: 0.370\tAcc: 84.45%\n",
      "Step: 33500\tLoss: 0.370\tAcc: 84.45%\n",
      "Step: 33600\tLoss: 0.370\tAcc: 84.45%\n",
      "Step: 33700\tLoss: 0.370\tAcc: 84.45%\n",
      "Step: 33800\tLoss: 0.370\tAcc: 84.45%\n",
      "Step: 33900\tLoss: 0.370\tAcc: 84.45%\n",
      "Step: 34000\tLoss: 0.370\tAcc: 84.45%\n",
      "Step: 34100\tLoss: 0.370\tAcc: 84.45%\n",
      "Step: 34200\tLoss: 0.370\tAcc: 84.45%\n",
      "Step: 34300\tLoss: 0.370\tAcc: 84.45%\n",
      "Step: 34400\tLoss: 0.370\tAcc: 84.45%\n",
      "Step: 34500\tLoss: 0.370\tAcc: 84.45%\n",
      "Step: 34600\tLoss: 0.370\tAcc: 84.45%\n",
      "Step: 34700\tLoss: 0.370\tAcc: 84.45%\n",
      "Step: 34800\tLoss: 0.370\tAcc: 84.45%\n",
      "Step: 34900\tLoss: 0.370\tAcc: 84.45%\n",
      "Step: 35000\tLoss: 0.370\tAcc: 84.45%\n",
      "Step: 35100\tLoss: 0.370\tAcc: 84.45%\n",
      "Step: 35200\tLoss: 0.370\tAcc: 84.45%\n",
      "Step: 35300\tLoss: 0.370\tAcc: 84.45%\n",
      "Step: 35400\tLoss: 0.370\tAcc: 84.45%\n",
      "Step: 35500\tLoss: 0.370\tAcc: 84.45%\n",
      "Step: 35600\tLoss: 0.370\tAcc: 84.45%\n",
      "Step: 35700\tLoss: 0.370\tAcc: 84.45%\n",
      "Step: 35800\tLoss: 0.370\tAcc: 84.45%\n",
      "Step: 35900\tLoss: 0.370\tAcc: 84.45%\n",
      "Step: 36000\tLoss: 0.370\tAcc: 84.45%\n",
      "Step: 36100\tLoss: 0.370\tAcc: 84.45%\n",
      "Step: 36200\tLoss: 0.370\tAcc: 84.45%\n",
      "Step: 36300\tLoss: 0.370\tAcc: 84.45%\n",
      "Step: 36400\tLoss: 0.370\tAcc: 84.45%\n",
      "Step: 36500\tLoss: 0.370\tAcc: 84.45%\n",
      "Step: 36600\tLoss: 0.370\tAcc: 84.45%\n",
      "Step: 36700\tLoss: 0.370\tAcc: 84.45%\n",
      "Step: 36800\tLoss: 0.370\tAcc: 84.45%\n",
      "Step: 36900\tLoss: 0.370\tAcc: 84.45%\n",
      "Step: 37000\tLoss: 0.370\tAcc: 84.45%\n",
      "Step: 37100\tLoss: 0.370\tAcc: 84.45%\n",
      "Step: 37200\tLoss: 0.370\tAcc: 84.45%\n",
      "Step: 37300\tLoss: 0.370\tAcc: 84.45%\n",
      "Step: 37400\tLoss: 0.370\tAcc: 84.45%\n",
      "Step: 37500\tLoss: 0.370\tAcc: 84.45%\n",
      "Step: 37600\tLoss: 0.370\tAcc: 84.45%\n",
      "Step: 37700\tLoss: 0.370\tAcc: 84.45%\n",
      "Step: 37800\tLoss: 0.370\tAcc: 84.45%\n",
      "Step: 37900\tLoss: 0.370\tAcc: 84.45%\n",
      "Step: 38000\tLoss: 0.370\tAcc: 84.45%\n",
      "Step: 38100\tLoss: 0.370\tAcc: 84.45%\n",
      "Step: 38200\tLoss: 0.370\tAcc: 84.45%\n",
      "Step: 38300\tLoss: 0.370\tAcc: 84.45%\n",
      "Step: 38400\tLoss: 0.370\tAcc: 84.45%\n",
      "Step: 38500\tLoss: 0.370\tAcc: 84.45%\n",
      "Step: 38600\tLoss: 0.370\tAcc: 84.45%\n",
      "Step: 38700\tLoss: 0.370\tAcc: 84.45%\n",
      "Step: 38800\tLoss: 0.370\tAcc: 84.45%\n",
      "Step: 38900\tLoss: 0.370\tAcc: 84.45%\n",
      "Step: 39000\tLoss: 0.370\tAcc: 84.45%\n",
      "Step: 39100\tLoss: 0.370\tAcc: 84.45%\n",
      "Step: 39200\tLoss: 0.370\tAcc: 84.45%\n",
      "Step: 39300\tLoss: 0.370\tAcc: 84.45%\n",
      "Step: 39400\tLoss: 0.370\tAcc: 84.45%\n",
      "Step: 39500\tLoss: 0.370\tAcc: 84.45%\n",
      "Step: 39600\tLoss: 0.370\tAcc: 84.45%\n",
      "Step: 39700\tLoss: 0.370\tAcc: 84.45%\n",
      "Step: 39800\tLoss: 0.370\tAcc: 84.45%\n",
      "Step: 39900\tLoss: 0.370\tAcc: 84.45%\n",
      "Step: 40000\tLoss: 0.370\tAcc: 84.45%\n",
      "Step: 40100\tLoss: 0.370\tAcc: 84.45%\n",
      "Step: 40200\tLoss: 0.370\tAcc: 84.45%\n",
      "Step: 40300\tLoss: 0.370\tAcc: 84.45%\n",
      "Step: 40400\tLoss: 0.370\tAcc: 84.45%\n",
      "Step: 40500\tLoss: 0.370\tAcc: 84.45%\n",
      "Step: 40600\tLoss: 0.370\tAcc: 84.45%\n",
      "Step: 40700\tLoss: 0.370\tAcc: 84.45%\n",
      "Step: 40800\tLoss: 0.370\tAcc: 84.45%\n",
      "Step: 40900\tLoss: 0.370\tAcc: 84.45%\n",
      "Step: 41000\tLoss: 0.370\tAcc: 84.45%\n",
      "Step: 41100\tLoss: 0.370\tAcc: 84.45%\n",
      "Step: 41200\tLoss: 0.370\tAcc: 84.45%\n",
      "Step: 41300\tLoss: 0.370\tAcc: 84.45%\n",
      "Step: 41400\tLoss: 0.370\tAcc: 84.45%\n",
      "Step: 41500\tLoss: 0.370\tAcc: 84.45%\n",
      "Step: 41600\tLoss: 0.370\tAcc: 84.45%\n",
      "Step: 41700\tLoss: 0.370\tAcc: 84.45%\n",
      "Step: 41800\tLoss: 0.370\tAcc: 84.45%\n",
      "Step: 41900\tLoss: 0.370\tAcc: 84.45%\n",
      "Step: 42000\tLoss: 0.370\tAcc: 84.45%\n",
      "Step: 42100\tLoss: 0.370\tAcc: 84.45%\n",
      "Step: 42200\tLoss: 0.370\tAcc: 84.45%\n",
      "Step: 42300\tLoss: 0.370\tAcc: 84.45%\n",
      "Step: 42400\tLoss: 0.370\tAcc: 84.45%\n",
      "Step: 42500\tLoss: 0.370\tAcc: 84.45%\n",
      "Step: 42600\tLoss: 0.370\tAcc: 84.45%\n",
      "Step: 42700\tLoss: 0.370\tAcc: 84.45%\n",
      "Step: 42800\tLoss: 0.370\tAcc: 84.45%\n",
      "Step: 42900\tLoss: 0.370\tAcc: 84.45%\n",
      "Step: 43000\tLoss: 0.370\tAcc: 84.45%\n",
      "Step: 43100\tLoss: 0.370\tAcc: 84.45%\n",
      "Step: 43200\tLoss: 0.370\tAcc: 84.45%\n",
      "Step: 43300\tLoss: 0.370\tAcc: 84.45%\n",
      "Step: 43400\tLoss: 0.370\tAcc: 84.45%\n",
      "Step: 43500\tLoss: 0.370\tAcc: 84.45%\n",
      "Step: 43600\tLoss: 0.370\tAcc: 84.45%\n",
      "Step: 43700\tLoss: 0.370\tAcc: 84.45%\n",
      "Step: 43800\tLoss: 0.370\tAcc: 84.45%\n",
      "Step: 43900\tLoss: 0.370\tAcc: 84.45%\n",
      "Step: 44000\tLoss: 0.370\tAcc: 84.45%\n",
      "Step: 44100\tLoss: 0.370\tAcc: 84.45%\n",
      "Step: 44200\tLoss: 0.370\tAcc: 84.45%\n",
      "Step: 44300\tLoss: 0.370\tAcc: 84.45%\n",
      "Step: 44400\tLoss: 0.370\tAcc: 84.45%\n",
      "Step: 44500\tLoss: 0.370\tAcc: 84.45%\n",
      "Step: 44600\tLoss: 0.370\tAcc: 84.45%\n",
      "Step: 44700\tLoss: 0.370\tAcc: 84.45%\n",
      "Step: 44800\tLoss: 0.370\tAcc: 84.45%\n",
      "Step: 44900\tLoss: 0.370\tAcc: 84.45%\n",
      "Step: 45000\tLoss: 0.370\tAcc: 84.45%\n",
      "Step: 45100\tLoss: 0.370\tAcc: 84.45%\n",
      "Step: 45200\tLoss: 0.370\tAcc: 84.45%\n",
      "Step: 45300\tLoss: 0.370\tAcc: 84.45%\n",
      "Step: 45400\tLoss: 0.370\tAcc: 84.45%\n",
      "Step: 45500\tLoss: 0.370\tAcc: 84.45%\n",
      "Step: 45600\tLoss: 0.370\tAcc: 84.45%\n",
      "Step: 45700\tLoss: 0.370\tAcc: 84.45%\n"
     ]
    },
    {
     "name": "stdout",
     "output_type": "stream",
     "text": [
      "Step: 45800\tLoss: 0.370\tAcc: 84.45%\n",
      "Step: 45900\tLoss: 0.370\tAcc: 84.45%\n",
      "Step: 46000\tLoss: 0.370\tAcc: 84.45%\n",
      "Step: 46100\tLoss: 0.370\tAcc: 84.45%\n",
      "Step: 46200\tLoss: 0.370\tAcc: 84.45%\n",
      "Step: 46300\tLoss: 0.370\tAcc: 84.45%\n",
      "Step: 46400\tLoss: 0.370\tAcc: 84.45%\n",
      "Step: 46500\tLoss: 0.370\tAcc: 84.45%\n",
      "Step: 46600\tLoss: 0.370\tAcc: 84.45%\n",
      "Step: 46700\tLoss: 0.370\tAcc: 84.45%\n",
      "Step: 46800\tLoss: 0.370\tAcc: 84.45%\n",
      "Step: 46900\tLoss: 0.370\tAcc: 84.45%\n",
      "Step: 47000\tLoss: 0.370\tAcc: 84.45%\n",
      "Step: 47100\tLoss: 0.370\tAcc: 84.45%\n",
      "Step: 47200\tLoss: 0.370\tAcc: 84.45%\n",
      "Step: 47300\tLoss: 0.370\tAcc: 84.45%\n",
      "Step: 47400\tLoss: 0.370\tAcc: 84.45%\n",
      "Step: 47500\tLoss: 0.370\tAcc: 84.45%\n",
      "Step: 47600\tLoss: 0.370\tAcc: 84.45%\n",
      "Step: 47700\tLoss: 0.370\tAcc: 84.45%\n",
      "Step: 47800\tLoss: 0.370\tAcc: 84.45%\n",
      "Step: 47900\tLoss: 0.370\tAcc: 84.45%\n",
      "Step: 48000\tLoss: 0.370\tAcc: 84.45%\n",
      "Step: 48100\tLoss: 0.370\tAcc: 84.45%\n",
      "Step: 48200\tLoss: 0.370\tAcc: 84.45%\n",
      "Step: 48300\tLoss: 0.370\tAcc: 84.45%\n",
      "Step: 48400\tLoss: 0.370\tAcc: 84.45%\n",
      "Step: 48500\tLoss: 0.370\tAcc: 84.45%\n",
      "Step: 48600\tLoss: 0.370\tAcc: 84.45%\n",
      "Step: 48700\tLoss: 0.370\tAcc: 84.45%\n",
      "Step: 48800\tLoss: 0.370\tAcc: 84.45%\n",
      "Step: 48900\tLoss: 0.370\tAcc: 84.45%\n",
      "Step: 49000\tLoss: 0.370\tAcc: 84.45%\n",
      "Step: 49100\tLoss: 0.370\tAcc: 84.45%\n",
      "Step: 49200\tLoss: 0.370\tAcc: 84.45%\n",
      "Step: 49300\tLoss: 0.370\tAcc: 84.45%\n",
      "Step: 49400\tLoss: 0.370\tAcc: 84.45%\n",
      "Step: 49500\tLoss: 0.370\tAcc: 84.45%\n",
      "Step: 49600\tLoss: 0.370\tAcc: 84.45%\n",
      "Step: 49700\tLoss: 0.370\tAcc: 84.45%\n",
      "Step: 49800\tLoss: 0.370\tAcc: 84.45%\n",
      "Step: 49900\tLoss: 0.370\tAcc: 84.45%\n",
      "Step: 50000\tLoss: 0.370\tAcc: 84.45%\n",
      "Step: 50100\tLoss: 0.370\tAcc: 84.45%\n",
      "Step: 50200\tLoss: 0.370\tAcc: 84.45%\n",
      "Step: 50300\tLoss: 0.370\tAcc: 84.45%\n",
      "Step: 50400\tLoss: 0.370\tAcc: 84.45%\n",
      "Step: 50500\tLoss: 0.370\tAcc: 84.45%\n",
      "Step: 50600\tLoss: 0.370\tAcc: 84.45%\n",
      "Step: 50700\tLoss: 0.370\tAcc: 84.45%\n",
      "Step: 50800\tLoss: 0.370\tAcc: 84.45%\n",
      "Step: 50900\tLoss: 0.370\tAcc: 84.45%\n",
      "Step: 51000\tLoss: 0.370\tAcc: 84.45%\n",
      "Step: 51100\tLoss: 0.370\tAcc: 84.45%\n",
      "Step: 51200\tLoss: 0.370\tAcc: 84.45%\n",
      "Step: 51300\tLoss: 0.370\tAcc: 84.45%\n",
      "Step: 51400\tLoss: 0.370\tAcc: 84.45%\n",
      "Step: 51500\tLoss: 0.370\tAcc: 84.45%\n",
      "Step: 51600\tLoss: 0.370\tAcc: 84.45%\n",
      "Step: 51700\tLoss: 0.370\tAcc: 84.45%\n",
      "Step: 51800\tLoss: 0.370\tAcc: 84.45%\n",
      "Step: 51900\tLoss: 0.370\tAcc: 84.45%\n",
      "Step: 52000\tLoss: 0.370\tAcc: 84.45%\n",
      "Step: 52100\tLoss: 0.370\tAcc: 84.45%\n",
      "Step: 52200\tLoss: 0.370\tAcc: 84.45%\n",
      "Step: 52300\tLoss: 0.370\tAcc: 84.45%\n",
      "Step: 52400\tLoss: 0.370\tAcc: 84.45%\n",
      "Step: 52500\tLoss: 0.370\tAcc: 84.45%\n",
      "Step: 52600\tLoss: 0.370\tAcc: 84.45%\n",
      "Step: 52700\tLoss: 0.370\tAcc: 84.45%\n",
      "Step: 52800\tLoss: 0.370\tAcc: 84.45%\n",
      "Step: 52900\tLoss: 0.370\tAcc: 84.45%\n",
      "Step: 53000\tLoss: 0.370\tAcc: 84.45%\n",
      "Step: 53100\tLoss: 0.370\tAcc: 84.45%\n",
      "Step: 53200\tLoss: 0.370\tAcc: 84.45%\n",
      "Step: 53300\tLoss: 0.370\tAcc: 84.45%\n",
      "Step: 53400\tLoss: 0.370\tAcc: 84.45%\n",
      "Step: 53500\tLoss: 0.370\tAcc: 84.45%\n",
      "Step: 53600\tLoss: 0.370\tAcc: 84.45%\n",
      "Step: 53700\tLoss: 0.370\tAcc: 84.45%\n",
      "Step: 53800\tLoss: 0.370\tAcc: 84.45%\n",
      "Step: 53900\tLoss: 0.370\tAcc: 84.45%\n",
      "Step: 54000\tLoss: 0.370\tAcc: 84.45%\n",
      "Step: 54100\tLoss: 0.370\tAcc: 84.45%\n",
      "Step: 54200\tLoss: 0.370\tAcc: 84.45%\n",
      "Step: 54300\tLoss: 0.370\tAcc: 84.45%\n",
      "Step: 54400\tLoss: 0.370\tAcc: 84.45%\n",
      "Step: 54500\tLoss: 0.370\tAcc: 84.45%\n",
      "Step: 54600\tLoss: 0.370\tAcc: 84.45%\n",
      "Step: 54700\tLoss: 0.370\tAcc: 84.45%\n",
      "Step: 54800\tLoss: 0.370\tAcc: 84.45%\n",
      "Step: 54900\tLoss: 0.370\tAcc: 84.45%\n",
      "Step: 55000\tLoss: 0.370\tAcc: 84.45%\n",
      "Step: 55100\tLoss: 0.370\tAcc: 84.45%\n",
      "Step: 55200\tLoss: 0.370\tAcc: 84.45%\n",
      "Step: 55300\tLoss: 0.370\tAcc: 84.45%\n",
      "Step: 55400\tLoss: 0.370\tAcc: 84.45%\n",
      "Step: 55500\tLoss: 0.370\tAcc: 84.45%\n",
      "Step: 55600\tLoss: 0.370\tAcc: 84.45%\n",
      "Step: 55700\tLoss: 0.370\tAcc: 84.45%\n",
      "Step: 55800\tLoss: 0.370\tAcc: 84.45%\n",
      "Step: 55900\tLoss: 0.370\tAcc: 84.45%\n",
      "Step: 56000\tLoss: 0.370\tAcc: 84.45%\n",
      "Step: 56100\tLoss: 0.370\tAcc: 84.45%\n",
      "Step: 56200\tLoss: 0.370\tAcc: 84.45%\n",
      "Step: 56300\tLoss: 0.370\tAcc: 84.45%\n",
      "Step: 56400\tLoss: 0.370\tAcc: 84.45%\n",
      "Step: 56500\tLoss: 0.370\tAcc: 84.45%\n",
      "Step: 56600\tLoss: 0.370\tAcc: 84.45%\n",
      "Step: 56700\tLoss: 0.370\tAcc: 84.45%\n",
      "Step: 56800\tLoss: 0.370\tAcc: 84.45%\n",
      "Step: 56900\tLoss: 0.370\tAcc: 84.45%\n",
      "Step: 57000\tLoss: 0.370\tAcc: 84.45%\n",
      "Step: 57100\tLoss: 0.370\tAcc: 84.45%\n",
      "Step: 57200\tLoss: 0.370\tAcc: 84.45%\n",
      "Step: 57300\tLoss: 0.370\tAcc: 84.45%\n",
      "Step: 57400\tLoss: 0.370\tAcc: 84.45%\n",
      "Step: 57500\tLoss: 0.370\tAcc: 84.45%\n",
      "Step: 57600\tLoss: 0.370\tAcc: 84.45%\n",
      "Step: 57700\tLoss: 0.370\tAcc: 84.45%\n",
      "Step: 57800\tLoss: 0.370\tAcc: 84.45%\n",
      "Step: 57900\tLoss: 0.370\tAcc: 84.45%\n",
      "Step: 58000\tLoss: 0.370\tAcc: 84.45%\n",
      "Step: 58100\tLoss: 0.370\tAcc: 84.45%\n",
      "Step: 58200\tLoss: 0.370\tAcc: 84.45%\n",
      "Step: 58300\tLoss: 0.370\tAcc: 84.45%\n",
      "Step: 58400\tLoss: 0.370\tAcc: 84.45%\n",
      "Step: 58500\tLoss: 0.370\tAcc: 84.45%\n",
      "Step: 58600\tLoss: 0.370\tAcc: 84.45%\n",
      "Step: 58700\tLoss: 0.370\tAcc: 84.45%\n",
      "Step: 58800\tLoss: 0.370\tAcc: 84.45%\n",
      "Step: 58900\tLoss: 0.370\tAcc: 84.45%\n",
      "Step: 59000\tLoss: 0.370\tAcc: 84.45%\n",
      "Step: 59100\tLoss: 0.370\tAcc: 84.45%\n",
      "Step: 59200\tLoss: 0.370\tAcc: 84.45%\n",
      "Step: 59300\tLoss: 0.370\tAcc: 84.45%\n",
      "Step: 59400\tLoss: 0.370\tAcc: 84.45%\n",
      "Step: 59500\tLoss: 0.370\tAcc: 84.45%\n",
      "Step: 59600\tLoss: 0.370\tAcc: 84.45%\n",
      "Step: 59700\tLoss: 0.370\tAcc: 84.45%\n",
      "Step: 59800\tLoss: 0.370\tAcc: 84.45%\n",
      "Step: 59900\tLoss: 0.370\tAcc: 84.45%\n",
      "Step: 60000\tLoss: 0.370\tAcc: 84.45%\n",
      "Step: 60100\tLoss: 0.370\tAcc: 84.45%\n",
      "Step: 60200\tLoss: 0.370\tAcc: 84.45%\n",
      "Step: 60300\tLoss: 0.370\tAcc: 84.45%\n",
      "Step: 60400\tLoss: 0.370\tAcc: 84.45%\n",
      "Step: 60500\tLoss: 0.370\tAcc: 84.45%\n",
      "Step: 60600\tLoss: 0.370\tAcc: 84.45%\n",
      "Step: 60700\tLoss: 0.370\tAcc: 84.45%\n",
      "Step: 60800\tLoss: 0.370\tAcc: 84.45%\n",
      "Step: 60900\tLoss: 0.370\tAcc: 84.45%\n",
      "Step: 61000\tLoss: 0.370\tAcc: 84.45%\n",
      "Step: 61100\tLoss: 0.370\tAcc: 84.45%\n",
      "Step: 61200\tLoss: 0.370\tAcc: 84.45%\n",
      "Step: 61300\tLoss: 0.370\tAcc: 84.45%\n",
      "Step: 61400\tLoss: 0.370\tAcc: 84.45%\n",
      "Step: 61500\tLoss: 0.370\tAcc: 84.45%\n",
      "Step: 61600\tLoss: 0.370\tAcc: 84.45%\n",
      "Step: 61700\tLoss: 0.370\tAcc: 84.45%\n",
      "Step: 61800\tLoss: 0.370\tAcc: 84.45%\n",
      "Step: 61900\tLoss: 0.370\tAcc: 84.45%\n",
      "Step: 62000\tLoss: 0.370\tAcc: 84.45%\n",
      "Step: 62100\tLoss: 0.370\tAcc: 84.45%\n",
      "Step: 62200\tLoss: 0.370\tAcc: 84.45%\n",
      "Step: 62300\tLoss: 0.370\tAcc: 84.45%\n",
      "Step: 62400\tLoss: 0.370\tAcc: 84.45%\n",
      "Step: 62500\tLoss: 0.370\tAcc: 84.45%\n",
      "Step: 62600\tLoss: 0.370\tAcc: 84.45%\n",
      "Step: 62700\tLoss: 0.370\tAcc: 84.45%\n",
      "Step: 62800\tLoss: 0.370\tAcc: 84.45%\n",
      "Step: 62900\tLoss: 0.370\tAcc: 84.45%\n",
      "Step: 63000\tLoss: 0.370\tAcc: 84.45%\n",
      "Step: 63100\tLoss: 0.370\tAcc: 84.45%\n",
      "Step: 63200\tLoss: 0.370\tAcc: 84.45%\n",
      "Step: 63300\tLoss: 0.370\tAcc: 84.45%\n",
      "Step: 63400\tLoss: 0.370\tAcc: 84.45%\n",
      "Step: 63500\tLoss: 0.370\tAcc: 84.45%\n",
      "Step: 63600\tLoss: 0.370\tAcc: 84.45%\n",
      "Step: 63700\tLoss: 0.370\tAcc: 84.45%\n",
      "Step: 63800\tLoss: 0.370\tAcc: 84.45%\n",
      "Step: 63900\tLoss: 0.370\tAcc: 84.45%\n",
      "Step: 64000\tLoss: 0.370\tAcc: 84.45%\n",
      "Step: 64100\tLoss: 0.370\tAcc: 84.45%\n",
      "Step: 64200\tLoss: 0.370\tAcc: 84.45%\n",
      "Step: 64300\tLoss: 0.370\tAcc: 84.45%\n",
      "Step: 64400\tLoss: 0.370\tAcc: 84.45%\n",
      "Step: 64500\tLoss: 0.370\tAcc: 84.45%\n",
      "Step: 64600\tLoss: 0.370\tAcc: 84.45%\n",
      "Step: 64700\tLoss: 0.370\tAcc: 84.45%\n",
      "Step: 64800\tLoss: 0.370\tAcc: 84.45%\n",
      "Step: 64900\tLoss: 0.369\tAcc: 84.45%\n",
      "Step: 65000\tLoss: 0.369\tAcc: 84.45%\n",
      "Step: 65100\tLoss: 0.369\tAcc: 84.45%\n",
      "Step: 65200\tLoss: 0.369\tAcc: 84.45%\n",
      "Step: 65300\tLoss: 0.369\tAcc: 84.45%\n",
      "Step: 65400\tLoss: 0.369\tAcc: 84.45%\n",
      "Step: 65500\tLoss: 0.369\tAcc: 84.45%\n",
      "Step: 65600\tLoss: 0.369\tAcc: 84.45%\n",
      "Step: 65700\tLoss: 0.369\tAcc: 84.45%\n",
      "Step: 65800\tLoss: 0.369\tAcc: 84.45%\n",
      "Step: 65900\tLoss: 0.369\tAcc: 84.45%\n",
      "Step: 66000\tLoss: 0.369\tAcc: 84.45%\n",
      "Step: 66100\tLoss: 0.369\tAcc: 84.45%\n",
      "Step: 66200\tLoss: 0.369\tAcc: 84.45%\n",
      "Step: 66300\tLoss: 0.369\tAcc: 84.45%\n",
      "Step: 66400\tLoss: 0.369\tAcc: 84.45%\n",
      "Step: 66500\tLoss: 0.369\tAcc: 84.45%\n",
      "Step: 66600\tLoss: 0.369\tAcc: 84.45%\n",
      "Step: 66700\tLoss: 0.369\tAcc: 84.45%\n",
      "Step: 66800\tLoss: 0.369\tAcc: 84.45%\n",
      "Step: 66900\tLoss: 0.369\tAcc: 84.45%\n",
      "Step: 67000\tLoss: 0.369\tAcc: 84.45%\n",
      "Step: 67100\tLoss: 0.369\tAcc: 84.45%\n",
      "Step: 67200\tLoss: 0.369\tAcc: 84.45%\n",
      "Step: 67300\tLoss: 0.369\tAcc: 84.45%\n",
      "Step: 67400\tLoss: 0.369\tAcc: 84.45%\n",
      "Step: 67500\tLoss: 0.369\tAcc: 84.45%\n",
      "Step: 67600\tLoss: 0.369\tAcc: 84.45%\n",
      "Step: 67700\tLoss: 0.369\tAcc: 84.45%\n",
      "Step: 67800\tLoss: 0.369\tAcc: 84.45%\n",
      "Step: 67900\tLoss: 0.369\tAcc: 84.45%\n",
      "Step: 68000\tLoss: 0.369\tAcc: 84.45%\n",
      "Step: 68100\tLoss: 0.369\tAcc: 84.45%\n",
      "Step: 68200\tLoss: 0.369\tAcc: 84.45%\n",
      "Step: 68300\tLoss: 0.369\tAcc: 84.45%\n",
      "Step: 68400\tLoss: 0.369\tAcc: 84.45%\n",
      "Step: 68500\tLoss: 0.369\tAcc: 84.45%\n",
      "Step: 68600\tLoss: 0.369\tAcc: 84.45%\n"
     ]
    },
    {
     "name": "stdout",
     "output_type": "stream",
     "text": [
      "Step: 68700\tLoss: 0.369\tAcc: 84.45%\n",
      "Step: 68800\tLoss: 0.369\tAcc: 84.45%\n",
      "Step: 68900\tLoss: 0.369\tAcc: 84.45%\n",
      "Step: 69000\tLoss: 0.369\tAcc: 84.45%\n",
      "Step: 69100\tLoss: 0.369\tAcc: 84.45%\n",
      "Step: 69200\tLoss: 0.369\tAcc: 84.45%\n",
      "Step: 69300\tLoss: 0.369\tAcc: 84.45%\n",
      "Step: 69400\tLoss: 0.369\tAcc: 84.45%\n",
      "Step: 69500\tLoss: 0.369\tAcc: 84.45%\n",
      "Step: 69600\tLoss: 0.369\tAcc: 84.45%\n",
      "Step: 69700\tLoss: 0.369\tAcc: 84.45%\n",
      "Step: 69800\tLoss: 0.369\tAcc: 84.45%\n",
      "Step: 69900\tLoss: 0.369\tAcc: 84.45%\n",
      "Step: 70000\tLoss: 0.369\tAcc: 84.45%\n",
      "Step: 70100\tLoss: 0.369\tAcc: 84.45%\n",
      "Step: 70200\tLoss: 0.369\tAcc: 84.45%\n",
      "Step: 70300\tLoss: 0.369\tAcc: 84.45%\n",
      "Step: 70400\tLoss: 0.369\tAcc: 84.45%\n",
      "Step: 70500\tLoss: 0.369\tAcc: 84.45%\n",
      "Step: 70600\tLoss: 0.369\tAcc: 84.45%\n",
      "Step: 70700\tLoss: 0.369\tAcc: 84.45%\n",
      "Step: 70800\tLoss: 0.369\tAcc: 84.45%\n",
      "Step: 70900\tLoss: 0.369\tAcc: 84.45%\n",
      "Step: 71000\tLoss: 0.369\tAcc: 84.45%\n",
      "Step: 71100\tLoss: 0.369\tAcc: 84.45%\n",
      "Step: 71200\tLoss: 0.369\tAcc: 84.45%\n",
      "Step: 71300\tLoss: 0.369\tAcc: 84.45%\n",
      "Step: 71400\tLoss: 0.369\tAcc: 84.45%\n",
      "Step: 71500\tLoss: 0.369\tAcc: 84.45%\n",
      "Step: 71600\tLoss: 0.369\tAcc: 84.45%\n",
      "Step: 71700\tLoss: 0.369\tAcc: 84.45%\n",
      "Step: 71800\tLoss: 0.369\tAcc: 84.45%\n",
      "Step: 71900\tLoss: 0.369\tAcc: 84.45%\n",
      "Step: 72000\tLoss: 0.369\tAcc: 84.45%\n",
      "Step: 72100\tLoss: 0.369\tAcc: 84.45%\n",
      "Step: 72200\tLoss: 0.369\tAcc: 84.45%\n",
      "Step: 72300\tLoss: 0.369\tAcc: 84.45%\n",
      "Step: 72400\tLoss: 0.369\tAcc: 84.45%\n",
      "Step: 72500\tLoss: 0.369\tAcc: 84.45%\n",
      "Step: 72600\tLoss: 0.369\tAcc: 84.45%\n",
      "Step: 72700\tLoss: 0.369\tAcc: 84.45%\n",
      "Step: 72800\tLoss: 0.369\tAcc: 84.45%\n",
      "Step: 72900\tLoss: 0.369\tAcc: 84.45%\n",
      "Step: 73000\tLoss: 0.369\tAcc: 84.45%\n",
      "Step: 73100\tLoss: 0.369\tAcc: 84.45%\n",
      "Step: 73200\tLoss: 0.369\tAcc: 84.45%\n",
      "Step: 73300\tLoss: 0.369\tAcc: 84.45%\n",
      "Step: 73400\tLoss: 0.369\tAcc: 84.45%\n",
      "Step: 73500\tLoss: 0.369\tAcc: 84.45%\n",
      "Step: 73600\tLoss: 0.369\tAcc: 84.45%\n",
      "Step: 73700\tLoss: 0.369\tAcc: 84.45%\n",
      "Step: 73800\tLoss: 0.369\tAcc: 84.45%\n",
      "Step: 73900\tLoss: 0.369\tAcc: 84.45%\n",
      "Step: 74000\tLoss: 0.369\tAcc: 84.45%\n",
      "Step: 74100\tLoss: 0.369\tAcc: 84.45%\n",
      "Step: 74200\tLoss: 0.369\tAcc: 84.45%\n",
      "Step: 74300\tLoss: 0.369\tAcc: 84.45%\n",
      "Step: 74400\tLoss: 0.369\tAcc: 84.45%\n",
      "Step: 74500\tLoss: 0.369\tAcc: 84.45%\n",
      "Step: 74600\tLoss: 0.369\tAcc: 84.45%\n",
      "Step: 74700\tLoss: 0.369\tAcc: 84.45%\n",
      "Step: 74800\tLoss: 0.369\tAcc: 84.45%\n",
      "Step: 74900\tLoss: 0.369\tAcc: 84.45%\n",
      "Step: 75000\tLoss: 0.369\tAcc: 84.45%\n",
      "Step: 75100\tLoss: 0.369\tAcc: 84.45%\n",
      "Step: 75200\tLoss: 0.369\tAcc: 84.45%\n",
      "Step: 75300\tLoss: 0.369\tAcc: 84.45%\n",
      "Step: 75400\tLoss: 0.369\tAcc: 84.45%\n",
      "Step: 75500\tLoss: 0.369\tAcc: 84.45%\n",
      "Step: 75600\tLoss: 0.369\tAcc: 84.45%\n",
      "Step: 75700\tLoss: 0.369\tAcc: 84.45%\n",
      "Step: 75800\tLoss: 0.369\tAcc: 84.45%\n",
      "Step: 75900\tLoss: 0.369\tAcc: 84.45%\n",
      "Step: 76000\tLoss: 0.369\tAcc: 84.45%\n",
      "Step: 76100\tLoss: 0.369\tAcc: 84.45%\n",
      "Step: 76200\tLoss: 0.369\tAcc: 84.45%\n",
      "Step: 76300\tLoss: 0.369\tAcc: 84.45%\n",
      "Step: 76400\tLoss: 0.369\tAcc: 84.45%\n",
      "Step: 76500\tLoss: 0.369\tAcc: 84.45%\n",
      "Step: 76600\tLoss: 0.369\tAcc: 84.45%\n",
      "Step: 76700\tLoss: 0.369\tAcc: 84.45%\n",
      "Step: 76800\tLoss: 0.369\tAcc: 84.45%\n",
      "Step: 76900\tLoss: 0.369\tAcc: 84.45%\n",
      "Step: 77000\tLoss: 0.369\tAcc: 84.45%\n",
      "Step: 77100\tLoss: 0.369\tAcc: 84.45%\n",
      "Step: 77200\tLoss: 0.369\tAcc: 84.45%\n",
      "Step: 77300\tLoss: 0.369\tAcc: 84.45%\n",
      "Step: 77400\tLoss: 0.369\tAcc: 84.45%\n",
      "Step: 77500\tLoss: 0.369\tAcc: 84.45%\n",
      "Step: 77600\tLoss: 0.369\tAcc: 84.45%\n",
      "Step: 77700\tLoss: 0.369\tAcc: 84.45%\n",
      "Step: 77800\tLoss: 0.369\tAcc: 84.45%\n",
      "Step: 77900\tLoss: 0.369\tAcc: 84.45%\n",
      "Step: 78000\tLoss: 0.369\tAcc: 84.45%\n",
      "Step: 78100\tLoss: 0.369\tAcc: 84.45%\n",
      "Step: 78200\tLoss: 0.369\tAcc: 84.45%\n",
      "Step: 78300\tLoss: 0.369\tAcc: 84.45%\n",
      "Step: 78400\tLoss: 0.369\tAcc: 84.45%\n",
      "Step: 78500\tLoss: 0.369\tAcc: 84.45%\n",
      "Step: 78600\tLoss: 0.369\tAcc: 84.45%\n",
      "Step: 78700\tLoss: 0.369\tAcc: 84.45%\n",
      "Step: 78800\tLoss: 0.369\tAcc: 84.45%\n",
      "Step: 78900\tLoss: 0.369\tAcc: 84.45%\n",
      "Step: 79000\tLoss: 0.369\tAcc: 84.45%\n",
      "Step: 79100\tLoss: 0.369\tAcc: 84.45%\n",
      "Step: 79200\tLoss: 0.369\tAcc: 84.45%\n",
      "Step: 79300\tLoss: 0.369\tAcc: 84.45%\n",
      "Step: 79400\tLoss: 0.369\tAcc: 84.45%\n",
      "Step: 79500\tLoss: 0.369\tAcc: 84.45%\n",
      "Step: 79600\tLoss: 0.369\tAcc: 84.45%\n",
      "Step: 79700\tLoss: 0.369\tAcc: 84.45%\n",
      "Step: 79800\tLoss: 0.369\tAcc: 84.45%\n",
      "Step: 79900\tLoss: 0.369\tAcc: 84.45%\n",
      "Step: 80000\tLoss: 0.369\tAcc: 84.45%\n",
      "Step: 80100\tLoss: 0.369\tAcc: 84.45%\n",
      "Step: 80200\tLoss: 0.369\tAcc: 84.45%\n",
      "Step: 80300\tLoss: 0.369\tAcc: 84.45%\n",
      "Step: 80400\tLoss: 0.369\tAcc: 84.45%\n",
      "Step: 80500\tLoss: 0.369\tAcc: 84.45%\n",
      "Step: 80600\tLoss: 0.369\tAcc: 84.45%\n",
      "Step: 80700\tLoss: 0.369\tAcc: 84.45%\n",
      "Step: 80800\tLoss: 0.369\tAcc: 84.45%\n",
      "Step: 80900\tLoss: 0.369\tAcc: 84.45%\n",
      "Step: 81000\tLoss: 0.369\tAcc: 84.45%\n",
      "Step: 81100\tLoss: 0.369\tAcc: 84.45%\n",
      "Step: 81200\tLoss: 0.369\tAcc: 84.45%\n",
      "Step: 81300\tLoss: 0.369\tAcc: 84.45%\n",
      "Step: 81400\tLoss: 0.369\tAcc: 84.45%\n",
      "Step: 81500\tLoss: 0.369\tAcc: 84.45%\n",
      "Step: 81600\tLoss: 0.369\tAcc: 84.45%\n",
      "Step: 81700\tLoss: 0.369\tAcc: 84.45%\n",
      "Step: 81800\tLoss: 0.369\tAcc: 84.45%\n",
      "Step: 81900\tLoss: 0.369\tAcc: 84.45%\n",
      "Step: 82000\tLoss: 0.369\tAcc: 84.45%\n",
      "Step: 82100\tLoss: 0.369\tAcc: 84.45%\n",
      "Step: 82200\tLoss: 0.369\tAcc: 84.45%\n",
      "Step: 82300\tLoss: 0.369\tAcc: 84.45%\n",
      "Step: 82400\tLoss: 0.369\tAcc: 84.45%\n",
      "Step: 82500\tLoss: 0.369\tAcc: 84.45%\n",
      "Step: 82600\tLoss: 0.369\tAcc: 84.45%\n",
      "Step: 82700\tLoss: 0.369\tAcc: 84.45%\n",
      "Step: 82800\tLoss: 0.369\tAcc: 84.45%\n",
      "Step: 82900\tLoss: 0.369\tAcc: 84.45%\n",
      "Step: 83000\tLoss: 0.369\tAcc: 84.45%\n",
      "Step: 83100\tLoss: 0.369\tAcc: 84.45%\n",
      "Step: 83200\tLoss: 0.369\tAcc: 84.45%\n",
      "Step: 83300\tLoss: 0.369\tAcc: 84.45%\n",
      "Step: 83400\tLoss: 0.369\tAcc: 84.45%\n",
      "Step: 83500\tLoss: 0.369\tAcc: 84.45%\n",
      "Step: 83600\tLoss: 0.369\tAcc: 84.45%\n",
      "Step: 83700\tLoss: 0.369\tAcc: 84.45%\n",
      "Step: 83800\tLoss: 0.369\tAcc: 84.45%\n",
      "Step: 83900\tLoss: 0.369\tAcc: 84.45%\n",
      "Step: 84000\tLoss: 0.369\tAcc: 84.45%\n",
      "Step: 84100\tLoss: 0.369\tAcc: 84.45%\n",
      "Step: 84200\tLoss: 0.369\tAcc: 84.45%\n",
      "Step: 84300\tLoss: 0.369\tAcc: 84.45%\n",
      "Step: 84400\tLoss: 0.369\tAcc: 84.45%\n",
      "Step: 84500\tLoss: 0.369\tAcc: 84.45%\n",
      "Step: 84600\tLoss: 0.369\tAcc: 84.45%\n",
      "Step: 84700\tLoss: 0.369\tAcc: 84.45%\n",
      "Step: 84800\tLoss: 0.369\tAcc: 84.45%\n",
      "Step: 84900\tLoss: 0.369\tAcc: 84.45%\n",
      "Step: 85000\tLoss: 0.369\tAcc: 84.45%\n",
      "Step: 85100\tLoss: 0.369\tAcc: 84.45%\n",
      "Step: 85200\tLoss: 0.369\tAcc: 84.45%\n",
      "Step: 85300\tLoss: 0.369\tAcc: 84.45%\n",
      "Step: 85400\tLoss: 0.369\tAcc: 84.45%\n",
      "Step: 85500\tLoss: 0.369\tAcc: 84.45%\n",
      "Step: 85600\tLoss: 0.369\tAcc: 84.45%\n",
      "Step: 85700\tLoss: 0.369\tAcc: 84.45%\n",
      "Step: 85800\tLoss: 0.369\tAcc: 84.45%\n",
      "Step: 85900\tLoss: 0.369\tAcc: 84.45%\n",
      "Step: 86000\tLoss: 0.369\tAcc: 84.45%\n",
      "Step: 86100\tLoss: 0.369\tAcc: 84.45%\n",
      "Step: 86200\tLoss: 0.369\tAcc: 84.45%\n",
      "Step: 86300\tLoss: 0.369\tAcc: 84.45%\n",
      "Step: 86400\tLoss: 0.369\tAcc: 84.45%\n",
      "Step: 86500\tLoss: 0.369\tAcc: 84.45%\n",
      "Step: 86600\tLoss: 0.369\tAcc: 84.45%\n",
      "Step: 86700\tLoss: 0.369\tAcc: 84.45%\n",
      "Step: 86800\tLoss: 0.369\tAcc: 84.45%\n",
      "Step: 86900\tLoss: 0.369\tAcc: 84.45%\n",
      "Step: 87000\tLoss: 0.369\tAcc: 84.45%\n",
      "Step: 87100\tLoss: 0.369\tAcc: 84.45%\n",
      "Step: 87200\tLoss: 0.369\tAcc: 84.45%\n",
      "Step: 87300\tLoss: 0.369\tAcc: 84.45%\n",
      "Step: 87400\tLoss: 0.369\tAcc: 84.45%\n",
      "Step: 87500\tLoss: 0.369\tAcc: 84.45%\n",
      "Step: 87600\tLoss: 0.369\tAcc: 84.45%\n",
      "Step: 87700\tLoss: 0.369\tAcc: 84.45%\n",
      "Step: 87800\tLoss: 0.369\tAcc: 84.45%\n",
      "Step: 87900\tLoss: 0.369\tAcc: 84.45%\n",
      "Step: 88000\tLoss: 0.369\tAcc: 84.45%\n",
      "Step: 88100\tLoss: 0.369\tAcc: 84.45%\n",
      "Step: 88200\tLoss: 0.369\tAcc: 84.45%\n",
      "Step: 88300\tLoss: 0.369\tAcc: 84.45%\n",
      "Step: 88400\tLoss: 0.369\tAcc: 84.45%\n",
      "Step: 88500\tLoss: 0.369\tAcc: 84.45%\n",
      "Step: 88600\tLoss: 0.369\tAcc: 84.45%\n",
      "Step: 88700\tLoss: 0.369\tAcc: 84.45%\n",
      "Step: 88800\tLoss: 0.369\tAcc: 84.45%\n",
      "Step: 88900\tLoss: 0.369\tAcc: 84.45%\n",
      "Step: 89000\tLoss: 0.369\tAcc: 84.45%\n",
      "Step: 89100\tLoss: 0.369\tAcc: 84.45%\n",
      "Step: 89200\tLoss: 0.369\tAcc: 84.45%\n",
      "Step: 89300\tLoss: 0.369\tAcc: 84.45%\n",
      "Step: 89400\tLoss: 0.369\tAcc: 84.45%\n",
      "Step: 89500\tLoss: 0.369\tAcc: 84.45%\n",
      "Step: 89600\tLoss: 0.369\tAcc: 84.45%\n",
      "Step: 89700\tLoss: 0.369\tAcc: 84.45%\n",
      "Step: 89800\tLoss: 0.369\tAcc: 84.45%\n",
      "Step: 89900\tLoss: 0.369\tAcc: 84.45%\n",
      "Step: 90000\tLoss: 0.369\tAcc: 84.45%\n",
      "Step: 90100\tLoss: 0.369\tAcc: 84.45%\n",
      "Step: 90200\tLoss: 0.369\tAcc: 84.45%\n",
      "Step: 90300\tLoss: 0.369\tAcc: 84.45%\n",
      "Step: 90400\tLoss: 0.369\tAcc: 84.45%\n",
      "Step: 90500\tLoss: 0.369\tAcc: 84.45%\n",
      "Step: 90600\tLoss: 0.369\tAcc: 84.45%\n",
      "Step: 90700\tLoss: 0.369\tAcc: 84.45%\n",
      "Step: 90800\tLoss: 0.369\tAcc: 84.45%\n",
      "Step: 90900\tLoss: 0.369\tAcc: 84.45%\n",
      "Step: 91000\tLoss: 0.369\tAcc: 84.45%\n",
      "Step: 91100\tLoss: 0.369\tAcc: 84.45%\n",
      "Step: 91200\tLoss: 0.369\tAcc: 84.45%\n",
      "Step: 91300\tLoss: 0.369\tAcc: 84.45%\n",
      "Step: 91400\tLoss: 0.369\tAcc: 84.45%\n",
      "Step: 91500\tLoss: 0.369\tAcc: 84.45%\n",
      "Step: 91600\tLoss: 0.369\tAcc: 84.45%\n"
     ]
    },
    {
     "name": "stdout",
     "output_type": "stream",
     "text": [
      "Step: 91700\tLoss: 0.369\tAcc: 84.45%\n",
      "Step: 91800\tLoss: 0.369\tAcc: 84.45%\n",
      "Step: 91900\tLoss: 0.369\tAcc: 84.45%\n",
      "Step: 92000\tLoss: 0.369\tAcc: 84.45%\n",
      "Step: 92100\tLoss: 0.369\tAcc: 84.45%\n",
      "Step: 92200\tLoss: 0.369\tAcc: 84.45%\n",
      "Step: 92300\tLoss: 0.369\tAcc: 84.45%\n",
      "Step: 92400\tLoss: 0.369\tAcc: 84.45%\n",
      "Step: 92500\tLoss: 0.369\tAcc: 84.45%\n",
      "Step: 92600\tLoss: 0.369\tAcc: 84.45%\n",
      "Step: 92700\tLoss: 0.369\tAcc: 84.45%\n",
      "Step: 92800\tLoss: 0.369\tAcc: 84.45%\n",
      "Step: 92900\tLoss: 0.369\tAcc: 84.45%\n",
      "Step: 93000\tLoss: 0.369\tAcc: 84.45%\n",
      "Step: 93100\tLoss: 0.369\tAcc: 84.45%\n",
      "Step: 93200\tLoss: 0.369\tAcc: 84.45%\n",
      "Step: 93300\tLoss: 0.369\tAcc: 84.45%\n",
      "Step: 93400\tLoss: 0.369\tAcc: 84.45%\n",
      "Step: 93500\tLoss: 0.369\tAcc: 84.45%\n",
      "Step: 93600\tLoss: 0.369\tAcc: 84.45%\n",
      "Step: 93700\tLoss: 0.369\tAcc: 84.45%\n",
      "Step: 93800\tLoss: 0.369\tAcc: 84.45%\n",
      "Step: 93900\tLoss: 0.369\tAcc: 84.45%\n",
      "Step: 94000\tLoss: 0.369\tAcc: 84.45%\n",
      "Step: 94100\tLoss: 0.369\tAcc: 84.45%\n",
      "Step: 94200\tLoss: 0.369\tAcc: 84.45%\n",
      "Step: 94300\tLoss: 0.369\tAcc: 84.45%\n",
      "Step: 94400\tLoss: 0.369\tAcc: 84.45%\n",
      "Step: 94500\tLoss: 0.369\tAcc: 84.45%\n",
      "Step: 94600\tLoss: 0.369\tAcc: 84.45%\n",
      "Step: 94700\tLoss: 0.369\tAcc: 84.45%\n",
      "Step: 94800\tLoss: 0.369\tAcc: 84.45%\n",
      "Step: 94900\tLoss: 0.369\tAcc: 84.45%\n",
      "Step: 95000\tLoss: 0.369\tAcc: 84.45%\n",
      "Step: 95100\tLoss: 0.369\tAcc: 84.45%\n",
      "Step: 95200\tLoss: 0.369\tAcc: 84.45%\n",
      "Step: 95300\tLoss: 0.369\tAcc: 84.45%\n",
      "Step: 95400\tLoss: 0.369\tAcc: 84.45%\n",
      "Step: 95500\tLoss: 0.369\tAcc: 84.45%\n",
      "Step: 95600\tLoss: 0.369\tAcc: 84.45%\n",
      "Step: 95700\tLoss: 0.369\tAcc: 84.45%\n",
      "Step: 95800\tLoss: 0.369\tAcc: 84.45%\n",
      "Step: 95900\tLoss: 0.369\tAcc: 84.45%\n",
      "Step: 96000\tLoss: 0.369\tAcc: 84.45%\n",
      "Step: 96100\tLoss: 0.369\tAcc: 84.45%\n",
      "Step: 96200\tLoss: 0.369\tAcc: 84.45%\n",
      "Step: 96300\tLoss: 0.369\tAcc: 84.45%\n",
      "Step: 96400\tLoss: 0.369\tAcc: 84.45%\n",
      "Step: 96500\tLoss: 0.369\tAcc: 84.45%\n",
      "Step: 96600\tLoss: 0.369\tAcc: 84.45%\n",
      "Step: 96700\tLoss: 0.369\tAcc: 84.45%\n",
      "Step: 96800\tLoss: 0.369\tAcc: 84.45%\n",
      "Step: 96900\tLoss: 0.369\tAcc: 84.45%\n",
      "Step: 97000\tLoss: 0.369\tAcc: 84.45%\n",
      "Step: 97100\tLoss: 0.369\tAcc: 84.45%\n",
      "Step: 97200\tLoss: 0.369\tAcc: 84.45%\n",
      "Step: 97300\tLoss: 0.369\tAcc: 84.45%\n",
      "Step: 97400\tLoss: 0.369\tAcc: 84.45%\n",
      "Step: 97500\tLoss: 0.369\tAcc: 84.45%\n",
      "Step: 97600\tLoss: 0.369\tAcc: 84.45%\n",
      "Step: 97700\tLoss: 0.369\tAcc: 84.45%\n",
      "Step: 97800\tLoss: 0.369\tAcc: 84.45%\n",
      "Step: 97900\tLoss: 0.369\tAcc: 84.45%\n",
      "Step: 98000\tLoss: 0.369\tAcc: 84.45%\n",
      "Step: 98100\tLoss: 0.369\tAcc: 84.45%\n",
      "Step: 98200\tLoss: 0.369\tAcc: 84.45%\n",
      "Step: 98300\tLoss: 0.369\tAcc: 84.45%\n",
      "Step: 98400\tLoss: 0.369\tAcc: 84.45%\n",
      "Step: 98500\tLoss: 0.369\tAcc: 84.45%\n",
      "Step: 98600\tLoss: 0.369\tAcc: 84.45%\n",
      "Step: 98700\tLoss: 0.369\tAcc: 84.45%\n",
      "Step: 98800\tLoss: 0.369\tAcc: 84.45%\n",
      "Step: 98900\tLoss: 0.369\tAcc: 84.45%\n",
      "Step: 99000\tLoss: 0.369\tAcc: 84.45%\n",
      "Step: 99100\tLoss: 0.369\tAcc: 84.45%\n",
      "Step: 99200\tLoss: 0.369\tAcc: 84.45%\n",
      "Step: 99300\tLoss: 0.369\tAcc: 84.45%\n",
      "Step: 99400\tLoss: 0.369\tAcc: 84.45%\n",
      "Step: 99500\tLoss: 0.369\tAcc: 84.45%\n",
      "Step: 99600\tLoss: 0.369\tAcc: 84.45%\n",
      "Step: 99700\tLoss: 0.369\tAcc: 84.45%\n",
      "Step: 99800\tLoss: 0.369\tAcc: 84.45%\n",
      "Step: 99900\tLoss: 0.369\tAcc: 84.45%\n",
      "[True] Prediction: 0 True Y: 0\n",
      "[False] Prediction: 0 True Y: 1\n",
      "[False] Prediction: 0 True Y: 1\n",
      "[False] Prediction: 0 True Y: 1\n",
      "[False] Prediction: 1 True Y: 0\n",
      "[True] Prediction: 0 True Y: 0\n",
      "[False] Prediction: 1 True Y: 0\n",
      "[True] Prediction: 0 True Y: 0\n",
      "[True] Prediction: 1 True Y: 1\n",
      "[False] Prediction: 0 True Y: 1\n",
      "[False] Prediction: 0 True Y: 1\n",
      "[False] Prediction: 0 True Y: 1\n",
      "[False] Prediction: 1 True Y: 0\n",
      "[True] Prediction: 0 True Y: 0\n",
      "[False] Prediction: 1 True Y: 0\n",
      "[True] Prediction: 1 True Y: 1\n",
      "[True] Prediction: 0 True Y: 0\n",
      "[False] Prediction: 0 True Y: 1\n",
      "[True] Prediction: 0 True Y: 0\n",
      "[True] Prediction: 1 True Y: 1\n",
      "[True] Prediction: 0 True Y: 0\n",
      "[True] Prediction: 1 True Y: 1\n",
      "[True] Prediction: 1 True Y: 1\n",
      "[False] Prediction: 0 True Y: 1\n",
      "[False] Prediction: 1 True Y: 0\n",
      "[False] Prediction: 0 True Y: 1\n",
      "[False] Prediction: 1 True Y: 0\n",
      "[False] Prediction: 0 True Y: 1\n",
      "[True] Prediction: 0 True Y: 0\n",
      "[True] Prediction: 0 True Y: 0\n",
      "[False] Prediction: 0 True Y: 1\n",
      "[False] Prediction: 0 True Y: 1\n",
      "[False] Prediction: 1 True Y: 0\n",
      "[True] Prediction: 0 True Y: 0\n",
      "[True] Prediction: 0 True Y: 0\n",
      "[False] Prediction: 0 True Y: 1\n",
      "[False] Prediction: 1 True Y: 0\n",
      "[False] Prediction: 1 True Y: 0\n",
      "[False] Prediction: 0 True Y: 1\n",
      "[True] Prediction: 0 True Y: 0\n",
      "[True] Prediction: 0 True Y: 0\n",
      "[False] Prediction: 1 True Y: 0\n",
      "[False] Prediction: 0 True Y: 1\n",
      "[True] Prediction: 1 True Y: 1\n",
      "[False] Prediction: 1 True Y: 0\n",
      "[True] Prediction: 0 True Y: 0\n",
      "[False] Prediction: 0 True Y: 1\n",
      "[True] Prediction: 0 True Y: 0\n",
      "[False] Prediction: 1 True Y: 0\n",
      "[False] Prediction: 1 True Y: 0\n",
      "[True] Prediction: 0 True Y: 0\n",
      "[False] Prediction: 0 True Y: 1\n",
      "[True] Prediction: 1 True Y: 1\n",
      "[False] Prediction: 1 True Y: 0\n",
      "[False] Prediction: 0 True Y: 1\n",
      "[False] Prediction: 0 True Y: 1\n",
      "[True] Prediction: 0 True Y: 0\n",
      "[False] Prediction: 0 True Y: 1\n",
      "[True] Prediction: 0 True Y: 0\n",
      "[False] Prediction: 1 True Y: 0\n",
      "[False] Prediction: 0 True Y: 1\n",
      "[True] Prediction: 0 True Y: 0\n",
      "[True] Prediction: 0 True Y: 0\n",
      "[False] Prediction: 1 True Y: 0\n",
      "[True] Prediction: 1 True Y: 1\n",
      "[True] Prediction: 1 True Y: 1\n",
      "[False] Prediction: 1 True Y: 0\n",
      "[False] Prediction: 0 True Y: 1\n",
      "[True] Prediction: 0 True Y: 0\n",
      "[True] Prediction: 0 True Y: 0\n",
      "[False] Prediction: 1 True Y: 0\n",
      "[True] Prediction: 0 True Y: 0\n",
      "[False] Prediction: 1 True Y: 0\n",
      "[True] Prediction: 1 True Y: 1\n",
      "[False] Prediction: 1 True Y: 0\n",
      "[False] Prediction: 1 True Y: 0\n",
      "[True] Prediction: 0 True Y: 0\n",
      "[True] Prediction: 1 True Y: 1\n",
      "[False] Prediction: 0 True Y: 1\n",
      "[False] Prediction: 1 True Y: 0\n",
      "[True] Prediction: 1 True Y: 1\n",
      "[False] Prediction: 0 True Y: 1\n",
      "[True] Prediction: 0 True Y: 0\n",
      "[False] Prediction: 0 True Y: 1\n",
      "[False] Prediction: 0 True Y: 1\n",
      "[True] Prediction: 0 True Y: 0\n",
      "[False] Prediction: 1 True Y: 0\n",
      "[True] Prediction: 0 True Y: 0\n",
      "[False] Prediction: 1 True Y: 0\n",
      "[False] Prediction: 1 True Y: 0\n",
      "[False] Prediction: 1 True Y: 0\n",
      "[True] Prediction: 0 True Y: 0\n",
      "[False] Prediction: 1 True Y: 0\n",
      "[True] Prediction: 0 True Y: 0\n",
      "[True] Prediction: 0 True Y: 0\n",
      "[False] Prediction: 0 True Y: 1\n",
      "[True] Prediction: 1 True Y: 1\n",
      "[True] Prediction: 0 True Y: 0\n",
      "[False] Prediction: 1 True Y: 0\n",
      "[True] Prediction: 0 True Y: 0\n",
      "[False] Prediction: 1 True Y: 0\n",
      "[True] Prediction: 0 True Y: 0\n",
      "[True] Prediction: 0 True Y: 0\n",
      "[True] Prediction: 0 True Y: 0\n",
      "[True] Prediction: 1 True Y: 1\n",
      "[False] Prediction: 0 True Y: 1\n",
      "[True] Prediction: 0 True Y: 0\n",
      "[False] Prediction: 0 True Y: 1\n",
      "[True] Prediction: 0 True Y: 0\n",
      "[True] Prediction: 0 True Y: 0\n",
      "[True] Prediction: 0 True Y: 0\n",
      "[False] Prediction: 1 True Y: 0\n",
      "[False] Prediction: 1 True Y: 0\n",
      "[False] Prediction: 1 True Y: 0\n",
      "[False] Prediction: 1 True Y: 0\n",
      "[True] Prediction: 0 True Y: 0\n",
      "[True] Prediction: 0 True Y: 0\n",
      "[False] Prediction: 1 True Y: 0\n",
      "[False] Prediction: 1 True Y: 0\n",
      "[False] Prediction: 1 True Y: 0\n",
      "[False] Prediction: 1 True Y: 0\n",
      "[False] Prediction: 0 True Y: 1\n",
      "[False] Prediction: 1 True Y: 0\n",
      "[False] Prediction: 0 True Y: 1\n",
      "[True] Prediction: 0 True Y: 0\n",
      "[True] Prediction: 1 True Y: 1\n",
      "[False] Prediction: 0 True Y: 1\n",
      "[False] Prediction: 1 True Y: 0\n",
      "[True] Prediction: 0 True Y: 0\n",
      "[True] Prediction: 0 True Y: 0\n",
      "[True] Prediction: 0 True Y: 0\n",
      "[False] Prediction: 0 True Y: 1\n",
      "[True] Prediction: 0 True Y: 0\n",
      "[True] Prediction: 0 True Y: 0\n",
      "[False] Prediction: 0 True Y: 1\n",
      "[True] Prediction: 0 True Y: 0\n",
      "[True] Prediction: 0 True Y: 0\n",
      "[True] Prediction: 0 True Y: 0\n",
      "[False] Prediction: 1 True Y: 0\n",
      "[False] Prediction: 0 True Y: 1\n",
      "[False] Prediction: 0 True Y: 1\n",
      "[False] Prediction: 1 True Y: 0\n",
      "[True] Prediction: 0 True Y: 0\n",
      "[True] Prediction: 0 True Y: 0\n",
      "[False] Prediction: 0 True Y: 1\n",
      "[True] Prediction: 0 True Y: 0\n",
      "[False] Prediction: 1 True Y: 0\n",
      "[True] Prediction: 0 True Y: 0\n",
      "[True] Prediction: 0 True Y: 0\n",
      "[False] Prediction: 0 True Y: 1\n",
      "[False] Prediction: 1 True Y: 0\n",
      "[True] Prediction: 0 True Y: 0\n",
      "[True] Prediction: 0 True Y: 0\n",
      "[False] Prediction: 1 True Y: 0\n",
      "[False] Prediction: 0 True Y: 1\n",
      "[True] Prediction: 0 True Y: 0\n",
      "[False] Prediction: 1 True Y: 0\n",
      "[False] Prediction: 1 True Y: 0\n",
      "[False] Prediction: 0 True Y: 1\n",
      "[False] Prediction: 1 True Y: 0\n",
      "[False] Prediction: 1 True Y: 0\n",
      "[False] Prediction: 1 True Y: 0\n",
      "[True] Prediction: 1 True Y: 1\n",
      "[False] Prediction: 0 True Y: 1\n",
      "[True] Prediction: 0 True Y: 0\n",
      "[False] Prediction: 1 True Y: 0\n",
      "[True] Prediction: 0 True Y: 0\n",
      "[True] Prediction: 0 True Y: 0\n",
      "[False] Prediction: 1 True Y: 0\n",
      "[True] Prediction: 1 True Y: 1\n",
      "[True] Prediction: 0 True Y: 0\n",
      "[True] Prediction: 0 True Y: 0\n",
      "[True] Prediction: 0 True Y: 0\n",
      "[True] Prediction: 0 True Y: 0\n",
      "[True] Prediction: 0 True Y: 0\n",
      "[False] Prediction: 1 True Y: 0\n",
      "[False] Prediction: 1 True Y: 0\n",
      "[True] Prediction: 0 True Y: 0\n",
      "[False] Prediction: 1 True Y: 0\n",
      "[True] Prediction: 1 True Y: 1\n",
      "[False] Prediction: 0 True Y: 1\n",
      "[False] Prediction: 1 True Y: 0\n",
      "[True] Prediction: 1 True Y: 1\n",
      "[False] Prediction: 0 True Y: 1\n",
      "[False] Prediction: 1 True Y: 0\n",
      "[True] Prediction: 0 True Y: 0\n",
      "[False] Prediction: 0 True Y: 1\n",
      "[True] Prediction: 0 True Y: 0\n",
      "[False] Prediction: 0 True Y: 1\n",
      "[False] Prediction: 0 True Y: 1\n",
      "[False] Prediction: 0 True Y: 1\n",
      "[False] Prediction: 0 True Y: 1\n",
      "[False] Prediction: 1 True Y: 0\n",
      "[True] Prediction: 0 True Y: 0\n",
      "[True] Prediction: 1 True Y: 1\n",
      "[True] Prediction: 0 True Y: 0\n",
      "[False] Prediction: 1 True Y: 0\n",
      "[False] Prediction: 1 True Y: 0\n",
      "[True] Prediction: 0 True Y: 0\n",
      "[True] Prediction: 1 True Y: 1\n",
      "[False] Prediction: 1 True Y: 0\n",
      "[False] Prediction: 1 True Y: 0\n",
      "[False] Prediction: 0 True Y: 1\n",
      "[True] Prediction: 1 True Y: 1\n",
      "[False] Prediction: 0 True Y: 1\n",
      "[True] Prediction: 0 True Y: 0\n",
      "[True] Prediction: 1 True Y: 1\n",
      "[True] Prediction: 0 True Y: 0\n",
      "[False] Prediction: 1 True Y: 0\n",
      "[True] Prediction: 0 True Y: 0\n",
      "[False] Prediction: 0 True Y: 1\n",
      "[False] Prediction: 0 True Y: 1\n",
      "[True] Prediction: 0 True Y: 0\n",
      "[True] Prediction: 1 True Y: 1\n",
      "[True] Prediction: 0 True Y: 0\n",
      "[False] Prediction: 0 True Y: 1\n",
      "[False] Prediction: 1 True Y: 0\n",
      "[True] Prediction: 0 True Y: 0\n",
      "[False] Prediction: 1 True Y: 0\n",
      "[False] Prediction: 0 True Y: 1\n",
      "[False] Prediction: 1 True Y: 0\n",
      "[False] Prediction: 0 True Y: 1\n",
      "[False] Prediction: 1 True Y: 0\n",
      "[True] Prediction: 0 True Y: 0\n",
      "[False] Prediction: 1 True Y: 0\n",
      "[True] Prediction: 1 True Y: 1\n",
      "[True] Prediction: 0 True Y: 0\n",
      "[False] Prediction: 1 True Y: 0\n",
      "[False] Prediction: 0 True Y: 1\n",
      "[True] Prediction: 0 True Y: 0\n",
      "[True] Prediction: 0 True Y: 0\n",
      "[False] Prediction: 1 True Y: 0\n",
      "[False] Prediction: 0 True Y: 1\n",
      "[True] Prediction: 0 True Y: 0\n",
      "[True] Prediction: 0 True Y: 0\n",
      "[True] Prediction: 0 True Y: 0\n",
      "[False] Prediction: 0 True Y: 1\n",
      "[True] Prediction: 0 True Y: 0\n",
      "[False] Prediction: 1 True Y: 0\n",
      "[False] Prediction: 1 True Y: 0\n",
      "[False] Prediction: 1 True Y: 0\n",
      "[False] Prediction: 1 True Y: 0\n",
      "[True] Prediction: 1 True Y: 1\n",
      "[False] Prediction: 0 True Y: 1\n",
      "[True] Prediction: 0 True Y: 0\n",
      "[True] Prediction: 0 True Y: 0\n",
      "[False] Prediction: 1 True Y: 0\n",
      "[True] Prediction: 0 True Y: 0\n",
      "[False] Prediction: 1 True Y: 0\n",
      "[False] Prediction: 1 True Y: 0\n",
      "[True] Prediction: 1 True Y: 1\n",
      "[False] Prediction: 0 True Y: 1\n",
      "[True] Prediction: 1 True Y: 1\n",
      "[False] Prediction: 0 True Y: 1\n",
      "[False] Prediction: 0 True Y: 1\n",
      "[True] Prediction: 0 True Y: 0\n",
      "[False] Prediction: 0 True Y: 1\n",
      "[True] Prediction: 0 True Y: 0\n",
      "[False] Prediction: 1 True Y: 0\n",
      "[True] Prediction: 0 True Y: 0\n",
      "[True] Prediction: 0 True Y: 0\n",
      "[True] Prediction: 0 True Y: 0\n",
      "[True] Prediction: 1 True Y: 1\n",
      "[True] Prediction: 1 True Y: 1\n",
      "[False] Prediction: 0 True Y: 1\n",
      "[True] Prediction: 0 True Y: 0\n",
      "[False] Prediction: 0 True Y: 1\n",
      "[False] Prediction: 0 True Y: 1\n",
      "[False] Prediction: 1 True Y: 0\n",
      "[False] Prediction: 0 True Y: 1\n",
      "[False] Prediction: 0 True Y: 1\n",
      "[True] Prediction: 0 True Y: 0\n",
      "[False] Prediction: 1 True Y: 0\n",
      "[False] Prediction: 1 True Y: 0\n",
      "[False] Prediction: 0 True Y: 1\n",
      "[False] Prediction: 1 True Y: 0\n",
      "[True] Prediction: 0 True Y: 0\n",
      "[True] Prediction: 0 True Y: 0\n",
      "[False] Prediction: 0 True Y: 1\n",
      "[True] Prediction: 0 True Y: 0\n",
      "[False] Prediction: 1 True Y: 0\n",
      "[True] Prediction: 1 True Y: 1\n",
      "[False] Prediction: 1 True Y: 0\n",
      "[True] Prediction: 1 True Y: 1\n",
      "[True] Prediction: 1 True Y: 1\n",
      "[False] Prediction: 0 True Y: 1\n",
      "[False] Prediction: 0 True Y: 1\n",
      "[False] Prediction: 1 True Y: 0\n",
      "[True] Prediction: 0 True Y: 0\n",
      "[True] Prediction: 0 True Y: 0\n",
      "[True] Prediction: 0 True Y: 0\n",
      "[False] Prediction: 1 True Y: 0\n",
      "[True] Prediction: 0 True Y: 0\n",
      "[False] Prediction: 0 True Y: 1\n",
      "[False] Prediction: 0 True Y: 1\n",
      "[False] Prediction: 0 True Y: 1\n",
      "[True] Prediction: 1 True Y: 1\n",
      "[True] Prediction: 0 True Y: 0\n",
      "[False] Prediction: 0 True Y: 1\n",
      "[True] Prediction: 0 True Y: 0\n",
      "[False] Prediction: 0 True Y: 1\n",
      "[True] Prediction: 1 True Y: 1\n",
      "[False] Prediction: 0 True Y: 1\n",
      "[True] Prediction: 0 True Y: 0\n",
      "[True] Prediction: 1 True Y: 1\n",
      "[True] Prediction: 1 True Y: 1\n",
      "[False] Prediction: 0 True Y: 1\n",
      "[False] Prediction: 1 True Y: 0\n",
      "[True] Prediction: 0 True Y: 0\n",
      "[True] Prediction: 0 True Y: 0\n",
      "[False] Prediction: 0 True Y: 1\n",
      "[False] Prediction: 0 True Y: 1\n",
      "[True] Prediction: 0 True Y: 0\n",
      "[True] Prediction: 1 True Y: 1\n",
      "[True] Prediction: 1 True Y: 1\n",
      "[False] Prediction: 1 True Y: 0\n",
      "[True] Prediction: 0 True Y: 0\n",
      "[False] Prediction: 0 True Y: 1\n",
      "[False] Prediction: 0 True Y: 1\n",
      "[False] Prediction: 0 True Y: 1\n",
      "[True] Prediction: 0 True Y: 0\n",
      "[False] Prediction: 0 True Y: 1\n",
      "[False] Prediction: 0 True Y: 1\n",
      "[False] Prediction: 0 True Y: 1\n",
      "[True] Prediction: 1 True Y: 1\n",
      "[True] Prediction: 0 True Y: 0\n",
      "[False] Prediction: 1 True Y: 0\n",
      "[True] Prediction: 0 True Y: 0\n",
      "[False] Prediction: 0 True Y: 1\n",
      "[True] Prediction: 0 True Y: 0\n",
      "[False] Prediction: 1 True Y: 0\n",
      "[False] Prediction: 0 True Y: 1\n",
      "[False] Prediction: 0 True Y: 1\n",
      "[False] Prediction: 1 True Y: 0\n",
      "[False] Prediction: 0 True Y: 1\n",
      "[True] Prediction: 0 True Y: 0\n",
      "[True] Prediction: 0 True Y: 0\n",
      "[True] Prediction: 0 True Y: 0\n",
      "[False] Prediction: 0 True Y: 1\n",
      "[True] Prediction: 1 True Y: 1\n",
      "[False] Prediction: 0 True Y: 1\n",
      "[False] Prediction: 0 True Y: 1\n",
      "[True] Prediction: 0 True Y: 0\n",
      "[False] Prediction: 1 True Y: 0\n",
      "[False] Prediction: 1 True Y: 0\n",
      "[False] Prediction: 1 True Y: 0\n",
      "[True] Prediction: 0 True Y: 0\n",
      "[False] Prediction: 1 True Y: 0\n",
      "[True] Prediction: 0 True Y: 0\n",
      "[True] Prediction: 1 True Y: 1\n",
      "[False] Prediction: 1 True Y: 0\n",
      "[False] Prediction: 0 True Y: 1\n",
      "[False] Prediction: 0 True Y: 1\n",
      "[True] Prediction: 0 True Y: 0\n",
      "[False] Prediction: 1 True Y: 0\n",
      "[False] Prediction: 1 True Y: 0\n",
      "[False] Prediction: 1 True Y: 0\n",
      "[True] Prediction: 0 True Y: 0\n",
      "[True] Prediction: 0 True Y: 0\n",
      "[True] Prediction: 1 True Y: 1\n",
      "[False] Prediction: 0 True Y: 1\n",
      "[True] Prediction: 1 True Y: 1\n",
      "[True] Prediction: 1 True Y: 1\n",
      "[False] Prediction: 0 True Y: 1\n",
      "[False] Prediction: 1 True Y: 0\n",
      "[True] Prediction: 0 True Y: 0\n",
      "[True] Prediction: 0 True Y: 0\n",
      "[False] Prediction: 1 True Y: 0\n",
      "[True] Prediction: 1 True Y: 1\n",
      "[False] Prediction: 0 True Y: 1\n",
      "[True] Prediction: 0 True Y: 0\n",
      "[False] Prediction: 1 True Y: 0\n",
      "[True] Prediction: 0 True Y: 0\n",
      "[False] Prediction: 0 True Y: 1\n",
      "[True] Prediction: 1 True Y: 1\n",
      "[False] Prediction: 1 True Y: 0\n",
      "[True] Prediction: 1 True Y: 1\n",
      "[True] Prediction: 0 True Y: 0\n",
      "[True] Prediction: 0 True Y: 0\n",
      "[True] Prediction: 0 True Y: 0\n",
      "[False] Prediction: 0 True Y: 1\n",
      "[True] Prediction: 0 True Y: 0\n",
      "[True] Prediction: 1 True Y: 1\n",
      "[True] Prediction: 1 True Y: 1\n",
      "[False] Prediction: 0 True Y: 1\n",
      "[False] Prediction: 1 True Y: 0\n",
      "[False] Prediction: 0 True Y: 1\n",
      "[False] Prediction: 0 True Y: 1\n",
      "[True] Prediction: 0 True Y: 0\n",
      "[True] Prediction: 0 True Y: 0\n",
      "[False] Prediction: 1 True Y: 0\n",
      "[False] Prediction: 1 True Y: 0\n",
      "[True] Prediction: 1 True Y: 1\n",
      "[False] Prediction: 0 True Y: 1\n",
      "[True] Prediction: 0 True Y: 0\n",
      "[False] Prediction: 1 True Y: 0\n",
      "[True] Prediction: 0 True Y: 0\n",
      "[False] Prediction: 1 True Y: 0\n",
      "[True] Prediction: 0 True Y: 0\n",
      "[True] Prediction: 0 True Y: 0\n",
      "[True] Prediction: 1 True Y: 1\n",
      "[True] Prediction: 0 True Y: 0\n",
      "[False] Prediction: 1 True Y: 0\n",
      "[True] Prediction: 0 True Y: 0\n",
      "[True] Prediction: 0 True Y: 0\n",
      "[True] Prediction: 1 True Y: 1\n",
      "[True] Prediction: 0 True Y: 0\n",
      "[False] Prediction: 0 True Y: 1\n",
      "[False] Prediction: 1 True Y: 0\n",
      "[True] Prediction: 1 True Y: 1\n",
      "[True] Prediction: 1 True Y: 1\n",
      "[False] Prediction: 1 True Y: 0\n",
      "[False] Prediction: 1 True Y: 0\n",
      "[True] Prediction: 0 True Y: 0\n",
      "[False] Prediction: 1 True Y: 0\n",
      "[True] Prediction: 0 True Y: 0\n",
      "[True] Prediction: 0 True Y: 0\n",
      "[False] Prediction: 1 True Y: 0\n"
     ]
    }
   ],
   "source": [
    "# Launch graph\n",
    "with tf.Session() as sess:\n",
    "    sess.run(tf.global_variables_initializer())\n",
    "    loss_list = []\n",
    "    acc_list = []\n",
    "    step_list = []\n",
    "\n",
    "    for step in range(100000):\n",
    "        sess.run(optimizer, feed_dict={X: X_train, Y: y_train})\n",
    "        if step % 100 == 0:\n",
    "            loss, acc = sess.run([cost, accuracy], feed_dict={\n",
    "                                 X: X_train, Y: y_train})\n",
    "            print(\"Step: {:5}\\tLoss: {:.3f}\\tAcc: {:.2%}\".format(\n",
    "                step, loss, acc))\n",
    "            loss_list.append(loss)\n",
    "            acc_list.append(acc)\n",
    "            step_list.append(step)\n",
    "\n",
    "    # Let's see if we can predict\n",
    "    pred = sess.run(prediction, feed_dict={X: X_test})\n",
    "    # y_data: (N,1) = flatten => (N, ) matches pred.shape\n",
    "    for p, y in zip(pred, y_train.flatten()):\n",
    "        print(\"[{}] Prediction: {} True Y: {}\".format(p == int(y), p, int(y)))"
   ]
  },
  {
   "cell_type": "code",
   "execution_count": 78,
   "metadata": {},
   "outputs": [
    {
     "data": {
      "image/png": "[encoded data removed]",
      "text/plain": [
       "<matplotlib.figure.Figure at 0x10e0de860>"
      ]
     },
     "metadata": {},
     "output_type": "display_data"
    }
   ],
   "source": [
    "import matplotlib.pyplot as plt\n",
    "%matplotlib inline\n",
    "plt.plot( step_list,loss_list, \"r--\")\n",
    "plt.show()"
   ]
  },
  {
   "cell_type": "code",
   "execution_count": 79,
   "metadata": {},
   "outputs": [
    {
     "data": {
      "text/plain": [
       "<matplotlib.axes._subplots.AxesSubplot at 0x10e771ef0>"
      ]
     },
     "execution_count": 79,
     "metadata": {},
     "output_type": "execute_result"
    },
    {
     "data": {
      "image/png": "[encoded data removed]",
      "text/plain": [
       "<matplotlib.figure.Figure at 0x10e61ff28>"
      ]
     },
     "metadata": {},
     "output_type": "display_data"
    }
   ],
   "source": [
    "fig,(ax1,ax2)= plt.subplots(ncols=2)\n",
    "fig.set_size_inches(12,5)\n",
    "sns.distplot(y_train,ax=ax1,bins=50)\n",
    "sns.distplot(pred,ax=ax2,bins=50)"
   ]
  },
  {
   "cell_type": "code",
   "execution_count": 80,
   "metadata": {},
   "outputs": [
    {
     "name": "stdout",
     "output_type": "stream",
     "text": [
      "(418, 2)\n"
     ]
    },
    {
     "data": {
      "text/html": [
       "<div>\n",
       "<style scoped>\n",
       "    .dataframe tbody tr th:only-of-type {\n",
       "        vertical-align: middle;\n",
       "    }\n",
       "\n",
       "    .dataframe tbody tr th {\n",
       "        vertical-align: top;\n",
       "    }\n",
       "\n",
       "    .dataframe thead th {\n",
       "        text-align: right;\n",
       "    }\n",
       "</style>\n",
       "<table border=\"1\" class=\"dataframe\">\n",
       "  <thead>\n",
       "    <tr style=\"text-align: right;\">\n",
       "      <th></th>\n",
       "      <th>PassengerId</th>\n",
       "      <th>Survived</th>\n",
       "    </tr>\n",
       "  </thead>\n",
       "  <tbody>\n",
       "    <tr>\n",
       "      <th>0</th>\n",
       "      <td>892</td>\n",
       "      <td>0</td>\n",
       "    </tr>\n",
       "    <tr>\n",
       "      <th>1</th>\n",
       "      <td>893</td>\n",
       "      <td>0</td>\n",
       "    </tr>\n",
       "    <tr>\n",
       "      <th>2</th>\n",
       "      <td>894</td>\n",
       "      <td>0</td>\n",
       "    </tr>\n",
       "    <tr>\n",
       "      <th>3</th>\n",
       "      <td>895</td>\n",
       "      <td>0</td>\n",
       "    </tr>\n",
       "    <tr>\n",
       "      <th>4</th>\n",
       "      <td>896</td>\n",
       "      <td>1</td>\n",
       "    </tr>\n",
       "  </tbody>\n",
       "</table>\n",
       "</div>"
      ],
      "text/plain": [
       "   PassengerId  Survived\n",
       "0          892         0\n",
       "1          893         0\n",
       "2          894         0\n",
       "3          895         0\n",
       "4          896         1"
      ]
     },
     "execution_count": 80,
     "metadata": {},
     "output_type": "execute_result"
    }
   ],
   "source": [
    "submission = pd.read_csv(\"Submit/gender_submission.csv\")\n",
    "submission\n",
    "\n",
    "submission[\"Survived\"] = pred\n",
    "\n",
    "\n",
    "print(submission.shape)\n",
    "submission.head()"
   ]
  },
  {
   "cell_type": "code",
   "execution_count": 81,
   "metadata": {},
   "outputs": [],
   "source": [
    "#csv 파일형식으로 출력\n",
    "submission.to_csv(\"logistics_submission_tensorflow.csv\".format(acc=acc), index=False)"
   ]
  },
  {
   "attachments": {
    "image.png": {
     "image/png": "[encoded data removed]"
    }
   },
   "cell_type": "markdown",
   "metadata": {},
   "source": [
    "### 예상 결과 아래와 같이 이전 모델 대비  1,000위 정도 상승한 결과를 얻었음.\n",
    "score:0.76555\n",
    "  7772 / 10,435 [74.5%]\n",
    "![image.png](attachment:image.png)"
   ]
  },
  {
   "cell_type": "markdown",
   "metadata": {},
   "source": [
    "## 6-3 Decision Tree"
   ]
  },
  {
   "cell_type": "code",
   "execution_count": 82,
   "metadata": {},
   "outputs": [],
   "source": [
    "y_train = train[\"Survived\"]\n",
    "X_train = train.drop(labels = [\"Survived\"],axis = 1)"
   ]
  },
  {
   "cell_type": "code",
   "execution_count": 83,
   "metadata": {},
   "outputs": [],
   "source": [
    "from sklearn.tree import DecisionTreeClassifier\n",
    "tree1 = DecisionTreeClassifier(criterion='entropy', max_depth=15, min_samples_leaf=5).fit(X_train, y_train)"
   ]
  },
  {
   "cell_type": "code",
   "execution_count": 84,
   "metadata": {},
   "outputs": [
    {
     "data": {
      "text/plain": [
       "array([[503,  38],\n",
       "       [ 56, 284]])"
      ]
     },
     "execution_count": 84,
     "metadata": {},
     "output_type": "execute_result"
    }
   ],
   "source": [
    "from sklearn.metrics import *\n",
    "confusion_matrix(y_train, tree1.predict(X_train))"
   ]
  },
  {
   "cell_type": "code",
   "execution_count": 94,
   "metadata": {},
   "outputs": [
    {
     "name": "stdout",
     "output_type": "stream",
     "text": [
      "tree1_accuracy_scroe:0.7843359818388195\n",
      "tree2_accuracy_scroe:0.7866061293984109\n",
      "tree3_accuracy_scroe:0.8297389330306469\n",
      "tree4_accuracy_scroe:0.8354143019296254\n",
      "tree5_accuracy_scroe:0.8535754824063564\n",
      "tree6_accuracy_scroe:0.8535754824063564\n",
      "tree7_accuracy_scroe:0.8558456299659478\n",
      "tree8_accuracy_scroe:0.8671963677639046\n",
      "tree9_accuracy_scroe:0.8740068104426788\n",
      "tree10_accuracy_scroe:0.8808172531214529\n",
      "tree11_accuracy_scroe:0.8830874006810443\n",
      "tree12_accuracy_scroe:0.8898978433598184\n",
      "tree13_accuracy_scroe:0.8898978433598184\n",
      "tree14_accuracy_scroe:0.8933030646992054\n"
     ]
    }
   ],
   "source": [
    "\n",
    "for i in range(1,15):\n",
    "    globals()['tree%s' % i] = DecisionTreeClassifier(criterion='entropy', max_depth=i, min_samples_leaf=5).fit(X_train, y_train)\n",
    "    print('{}_accuracy_scroe:{}'.format('tree%s' % i, accuracy_score(y_train, globals()['tree%s' % i].predict(X_train))))\n",
    "    globals()['pred_tree%s' % i] = globals()['tree%s' % i].predict(X_test)"
   ]
  },
  {
   "cell_type": "code",
   "execution_count": 96,
   "metadata": {},
   "outputs": [],
   "source": [
    "submission[\"Survived\"] = pred_tree14\n",
    "submission.to_csv('decisiontree_submission.csv'.format(acc=acc), index=False)"
   ]
  },
  {
   "attachments": {
    "image.png": {
     "image/png": "[encoded data removed]"
    }
   },
   "cell_type": "markdown",
   "metadata": {},
   "source": [
    "![image.png](attachment:image.png)"
   ]
  },
  {
   "cell_type": "markdown",
   "metadata": {},
   "source": [
    "## 랜덤포레스트"
   ]
  },
  {
   "cell_type": "code",
   "execution_count": 86,
   "metadata": {},
   "outputs": [],
   "source": [
    "from sklearn import clone\n",
    "from sklearn.datasets import load_iris\n",
    "from sklearn.ensemble import RandomForestClassifier, ExtraTreesClassifier\n",
    "from sklearn.tree import DecisionTreeClassifier"
   ]
  },
  {
   "cell_type": "code",
   "execution_count": 100,
   "metadata": {},
   "outputs": [
    {
     "name": "stdout",
     "output_type": "stream",
     "text": [
      "tree1_accuracy_scroe:0.7854710556186152\n",
      "tree2_accuracy_scroe:0.7900113507377979\n",
      "tree3_accuracy_scroe:0.8263337116912599\n",
      "tree4_accuracy_scroe:0.8342792281498297\n",
      "tree5_accuracy_scroe:0.8365493757094211\n",
      "tree6_accuracy_scroe:0.8547105561861521\n",
      "tree7_accuracy_scroe:0.8785471055618616\n",
      "tree8_accuracy_scroe:0.8785471055618616\n",
      "tree9_accuracy_scroe:0.8967082860385925\n"
     ]
    }
   ],
   "source": [
    "for i in range(1,10):\n",
    "    globals()['tree%s' % i] = RandomForestClassifier(criterion='entropy', max_depth=i, n_estimators=10).fit(X_train, y_train)\n",
    "    print('{}_accuracy_scroe:{}'.format('tree%s' % i, accuracy_score(y_train, globals()['tree%s' % i].predict(X_train))))\n",
    "    globals()['pred_tree%s' % i] = globals()['tree%s' % i].predict(X_test)"
   ]
  },
  {
   "cell_type": "code",
   "execution_count": 101,
   "metadata": {},
   "outputs": [],
   "source": [
    "submission[\"Survived\"] = pred_tree9\n",
    "submission.to_csv('random_submission.csv'.format(acc=acc), index=False)"
   ]
  },
  {
   "attachments": {
    "image.png": {
     "image/png": "[encoded data removed]"
    }
   },
   "cell_type": "markdown",
   "metadata": {},
   "source": [
    "![image.png](attachment:image.png)"
   ]
  },
  {
   "cell_type": "markdown",
   "metadata": {},
   "source": [
    "## 교차 검증을 통한 정확도 체크"
   ]
  },
  {
   "cell_type": "code",
   "execution_count": 98,
   "metadata": {},
   "outputs": [],
   "source": [
    "from sklearn.model_selection import train_test_split\n",
    "X_train1, X_test1, y_train1, y_test1 = train_test_split(X_train, y_train)"
   ]
  },
  {
   "cell_type": "code",
   "execution_count": 99,
   "metadata": {},
   "outputs": [
    {
     "name": "stdout",
     "output_type": "stream",
     "text": [
      "tree1_accuracy_scroe:0.6877828054298643\n",
      "tree2_accuracy_scroe:0.7330316742081447\n",
      "tree3_accuracy_scroe:0.755656108597285\n",
      "tree4_accuracy_scroe:0.832579185520362\n",
      "tree5_accuracy_scroe:0.8144796380090498\n",
      "tree6_accuracy_scroe:0.7873303167420814\n",
      "tree7_accuracy_scroe:0.8054298642533937\n",
      "tree8_accuracy_scroe:0.8054298642533937\n",
      "tree9_accuracy_scroe:0.7963800904977375\n"
     ]
    }
   ],
   "source": [
    "\n",
    "for i in range(1,10):\n",
    "    globals()['tree%s' % i] = RandomForestClassifier(criterion='entropy', max_depth=i, n_estimators=10).fit(X_train1, y_train1)\n",
    "    print('{}_accuracy_scroe:{}'.format('tree%s' % i, accuracy_score(y_test1, globals()['tree%s' % i].predict(X_test1))))\n"
   ]
  }
 ],
 "metadata": {
  "kernelspec": {
   "display_name": "Python 3",
   "language": "python",
   "name": "python3"
  },
  "language_info": {
   "codemirror_mode": {
    "name": "ipython",
    "version": 3
   },
   "file_extension": ".py",
   "mimetype": "text/x-python",
   "name": "python",
   "nbconvert_exporter": "python",
   "pygments_lexer": "ipython3",
   "version": "3.6.4"
  }
 },
 "nbformat": 4,
 "nbformat_minor": 2
}
