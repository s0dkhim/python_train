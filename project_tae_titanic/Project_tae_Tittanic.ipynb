{
 "cells": [
  {
   "cell_type": "markdown",
   "metadata": {
    "_cell_guid": "2f790bbf-1719-4d91-977c-c0890ac78192",
    "_uuid": "d078acf4cc246329c1107222b8ba73761a9b42b5"
   },
   "source": [
    "# Project Titanic\n",
    "\n",
    "\n",
    "### Part1 : Indtroduction\n",
    "### Part2 : Load and check data\n",
    "    1) load data\n",
    "\n",
    "    2) Outlier detection\n",
    "\n",
    "    3) joining train and test set\n",
    "\n",
    "    4) check for null and missing values\n",
    "### Part3 : Feature analysis\n",
    "    1) Numerical values\n",
    "\n",
    "    2) Categorical values\n",
    "### Part4 : Filling missing Values\n",
    "    1) Age\n",
    "\n",
    "### Part5 : Feature engineering\n",
    "    1) Name/Title\n",
    "\n",
    "    2) Family Size\n",
    "\n",
    "    3) Cabin\n",
    "\n",
    "    4) Ticket\n",
    "### Part6 : Modeling\n",
    "    1) StatsModels Logistic Regression: 8883/10,435 [85%]\n",
    "    2) TensorFlow: 7772/10435 [74.5%]\n",
    "    "
   ]
  },
  {
   "cell_type": "markdown",
   "metadata": {
    "_cell_guid": "c91b1111-1727-4fb4-97cf-e1f69d470be5",
    "_uuid": "d13b45efd0801651027dec292d097dea37e8da6f"
   },
   "source": [
    "## 1. Introduction\n",
    "분류 문제를 다루기위한 데이터 분석으로 가장 기본적인 타이타닉 생존률 예측 문제를 선택하였음.\n",
    "\n",
    "아래 3개의 Parts를 중심으로 데이터 탐색 및 모델링을 진행\n",
    "* **Feature analysis**\n",
    "* **Feature engineering**\n",
    "* **Modeling**"
   ]
  },
  {
   "cell_type": "code",
   "execution_count": 1,
   "metadata": {
    "_cell_guid": "67300bad-eafb-4a8e-82f6-e955a6ca070a",
    "_execution_state": "idle",
    "_uuid": "01844bfc7df2c62c1057f31e582fc1ebba9ca8f4"
   },
   "outputs": [],
   "source": [
    "import pandas as pd\n",
    "import numpy as np\n",
    "import matplotlib.pyplot as plt\n",
    "import seaborn as sns\n",
    "%matplotlib inline\n",
    "from sklearn.preprocessing import Binarizer\n",
    "\n",
    "from scipy import stats\n",
    "from collections import Counter\n",
    "import tensorflow as tf\n",
    "\n",
    "import warnings\n",
    "warnings.filterwarnings('ignore')\n",
    "\n",
    "sns.set(style='white', context='notebook', palette='deep')\n",
    "import statsmodels.api as sm\n",
    "from sklearn.linear_model import LogisticRegression"
   ]
  },
  {
   "cell_type": "markdown",
   "metadata": {
    "_cell_guid": "1f17e4f5-20f3-4e9c-8a56-adad76047552",
    "_uuid": "8c97f422f7970e77a1aa73e3d868e59db9b0861f"
   },
   "source": [
    "## 2. Load and check data\n",
    "### 2.1 train set 과 test set 불러오기"
   ]
  },
  {
   "cell_type": "code",
   "execution_count": 2,
   "metadata": {
    "_cell_guid": "fd53a1e8-0c79-4d00-823b-0988fd16b635",
    "_execution_state": "idle",
    "_uuid": "fdfaaf9242d609bb64403efe237876b435668c52"
   },
   "outputs": [],
   "source": [
    "# Load train and Test set\n",
    "train = pd.read_csv(\"./data/train.csv\")\n",
    "test = pd.read_csv(\"./data/test.csv\")\n",
    "IDtest = test[\"PassengerId\"]       "
   ]
  },
  {
   "cell_type": "code",
   "execution_count": 3,
   "metadata": {},
   "outputs": [
    {
     "name": "stdout",
     "output_type": "stream",
     "text": [
      "Train data :  (891, 12)\n",
      "Test  data :  (418, 11)\n"
     ]
    }
   ],
   "source": [
    "# Check the data set\n",
    "print(\"Train data : \", train.shape)\n",
    "print(\"Test  data : \", test.shape)"
   ]
  },
  {
   "cell_type": "code",
   "execution_count": 4,
   "metadata": {},
   "outputs": [
    {
     "name": "stdout",
     "output_type": "stream",
     "text": [
      "Train data columns Qty : 12 \n",
      "\n",
      "Train data columns : Index(['PassengerId', 'Survived', 'Pclass', 'Name', 'Sex', 'Age', 'SibSp',\n",
      "       'Parch', 'Ticket', 'Fare', 'Cabin', 'Embarked'],\n",
      "      dtype='object')\n"
     ]
    }
   ],
   "source": [
    "# Check the train data set's columns\n",
    "print(\"Train data columns Qty :\", len(train.columns), \"\\n\")\n",
    "print(\"Train data columns :\", train.columns)"
   ]
  },
  {
   "cell_type": "code",
   "execution_count": 5,
   "metadata": {},
   "outputs": [
    {
     "data": {
      "text/html": [
       "<div>\n",
       "<style scoped>\n",
       "    .dataframe tbody tr th:only-of-type {\n",
       "        vertical-align: middle;\n",
       "    }\n",
       "\n",
       "    .dataframe tbody tr th {\n",
       "        vertical-align: top;\n",
       "    }\n",
       "\n",
       "    .dataframe thead th {\n",
       "        text-align: right;\n",
       "    }\n",
       "</style>\n",
       "<table border=\"1\" class=\"dataframe\">\n",
       "  <thead>\n",
       "    <tr style=\"text-align: right;\">\n",
       "      <th></th>\n",
       "      <th>PassengerId</th>\n",
       "      <th>Survived</th>\n",
       "      <th>Pclass</th>\n",
       "      <th>Age</th>\n",
       "      <th>SibSp</th>\n",
       "      <th>Parch</th>\n",
       "      <th>Fare</th>\n",
       "    </tr>\n",
       "  </thead>\n",
       "  <tbody>\n",
       "    <tr>\n",
       "      <th>count</th>\n",
       "      <td>891.000000</td>\n",
       "      <td>891.000000</td>\n",
       "      <td>891.000000</td>\n",
       "      <td>714.000000</td>\n",
       "      <td>891.000000</td>\n",
       "      <td>891.000000</td>\n",
       "      <td>891.000000</td>\n",
       "    </tr>\n",
       "    <tr>\n",
       "      <th>mean</th>\n",
       "      <td>446.000000</td>\n",
       "      <td>0.383838</td>\n",
       "      <td>2.308642</td>\n",
       "      <td>29.699118</td>\n",
       "      <td>0.523008</td>\n",
       "      <td>0.381594</td>\n",
       "      <td>32.204208</td>\n",
       "    </tr>\n",
       "    <tr>\n",
       "      <th>std</th>\n",
       "      <td>257.353842</td>\n",
       "      <td>0.486592</td>\n",
       "      <td>0.836071</td>\n",
       "      <td>14.526497</td>\n",
       "      <td>1.102743</td>\n",
       "      <td>0.806057</td>\n",
       "      <td>49.693429</td>\n",
       "    </tr>\n",
       "    <tr>\n",
       "      <th>min</th>\n",
       "      <td>1.000000</td>\n",
       "      <td>0.000000</td>\n",
       "      <td>1.000000</td>\n",
       "      <td>0.420000</td>\n",
       "      <td>0.000000</td>\n",
       "      <td>0.000000</td>\n",
       "      <td>0.000000</td>\n",
       "    </tr>\n",
       "    <tr>\n",
       "      <th>25%</th>\n",
       "      <td>223.500000</td>\n",
       "      <td>0.000000</td>\n",
       "      <td>2.000000</td>\n",
       "      <td>20.125000</td>\n",
       "      <td>0.000000</td>\n",
       "      <td>0.000000</td>\n",
       "      <td>7.910400</td>\n",
       "    </tr>\n",
       "    <tr>\n",
       "      <th>50%</th>\n",
       "      <td>446.000000</td>\n",
       "      <td>0.000000</td>\n",
       "      <td>3.000000</td>\n",
       "      <td>28.000000</td>\n",
       "      <td>0.000000</td>\n",
       "      <td>0.000000</td>\n",
       "      <td>14.454200</td>\n",
       "    </tr>\n",
       "    <tr>\n",
       "      <th>75%</th>\n",
       "      <td>668.500000</td>\n",
       "      <td>1.000000</td>\n",
       "      <td>3.000000</td>\n",
       "      <td>38.000000</td>\n",
       "      <td>1.000000</td>\n",
       "      <td>0.000000</td>\n",
       "      <td>31.000000</td>\n",
       "    </tr>\n",
       "    <tr>\n",
       "      <th>max</th>\n",
       "      <td>891.000000</td>\n",
       "      <td>1.000000</td>\n",
       "      <td>3.000000</td>\n",
       "      <td>80.000000</td>\n",
       "      <td>8.000000</td>\n",
       "      <td>6.000000</td>\n",
       "      <td>512.329200</td>\n",
       "    </tr>\n",
       "  </tbody>\n",
       "</table>\n",
       "</div>"
      ],
      "text/plain": [
       "       PassengerId    Survived      Pclass         Age       SibSp  \\\n",
       "count   891.000000  891.000000  891.000000  714.000000  891.000000   \n",
       "mean    446.000000    0.383838    2.308642   29.699118    0.523008   \n",
       "std     257.353842    0.486592    0.836071   14.526497    1.102743   \n",
       "min       1.000000    0.000000    1.000000    0.420000    0.000000   \n",
       "25%     223.500000    0.000000    2.000000   20.125000    0.000000   \n",
       "50%     446.000000    0.000000    3.000000   28.000000    0.000000   \n",
       "75%     668.500000    1.000000    3.000000   38.000000    1.000000   \n",
       "max     891.000000    1.000000    3.000000   80.000000    8.000000   \n",
       "\n",
       "            Parch        Fare  \n",
       "count  891.000000  891.000000  \n",
       "mean     0.381594   32.204208  \n",
       "std      0.806057   49.693429  \n",
       "min      0.000000    0.000000  \n",
       "25%      0.000000    7.910400  \n",
       "50%      0.000000   14.454200  \n",
       "75%      0.000000   31.000000  \n",
       "max      6.000000  512.329200  "
      ]
     },
     "execution_count": 5,
     "metadata": {},
     "output_type": "execute_result"
    }
   ],
   "source": [
    "# states of train data set\n",
    "# describe the train\n",
    "train.describe()"
   ]
  },
  {
   "cell_type": "markdown",
   "metadata": {},
   "source": [
    "### Comments: Data set을 요약하여 살펴보면 Age, Cabin, Embarked에 null값이 존재함을 알 수 있음"
   ]
  },
  {
   "cell_type": "code",
   "execution_count": 6,
   "metadata": {
    "scrolled": true
   },
   "outputs": [
    {
     "data": {
      "text/html": [
       "<div>\n",
       "<style scoped>\n",
       "    .dataframe tbody tr th:only-of-type {\n",
       "        vertical-align: middle;\n",
       "    }\n",
       "\n",
       "    .dataframe tbody tr th {\n",
       "        vertical-align: top;\n",
       "    }\n",
       "\n",
       "    .dataframe thead th {\n",
       "        text-align: right;\n",
       "    }\n",
       "</style>\n",
       "<table border=\"1\" class=\"dataframe\">\n",
       "  <thead>\n",
       "    <tr style=\"text-align: right;\">\n",
       "      <th></th>\n",
       "      <th></th>\n",
       "      <th>actual_value_percent(%)</th>\n",
       "      <th>actual_value_qty</th>\n",
       "      <th>null_qty</th>\n",
       "      <th>unique_values_qty</th>\n",
       "    </tr>\n",
       "    <tr>\n",
       "      <th>dtype</th>\n",
       "      <th>column_name</th>\n",
       "      <th></th>\n",
       "      <th></th>\n",
       "      <th></th>\n",
       "      <th></th>\n",
       "    </tr>\n",
       "  </thead>\n",
       "  <tbody>\n",
       "    <tr>\n",
       "      <th rowspan=\"5\" valign=\"top\">int64</th>\n",
       "      <th>Parch</th>\n",
       "      <td>100.0</td>\n",
       "      <td>891.0</td>\n",
       "      <td>0.0</td>\n",
       "      <td>7.0</td>\n",
       "    </tr>\n",
       "    <tr>\n",
       "      <th>PassengerId</th>\n",
       "      <td>100.0</td>\n",
       "      <td>891.0</td>\n",
       "      <td>0.0</td>\n",
       "      <td>891.0</td>\n",
       "    </tr>\n",
       "    <tr>\n",
       "      <th>Pclass</th>\n",
       "      <td>100.0</td>\n",
       "      <td>891.0</td>\n",
       "      <td>0.0</td>\n",
       "      <td>3.0</td>\n",
       "    </tr>\n",
       "    <tr>\n",
       "      <th>SibSp</th>\n",
       "      <td>100.0</td>\n",
       "      <td>891.0</td>\n",
       "      <td>0.0</td>\n",
       "      <td>7.0</td>\n",
       "    </tr>\n",
       "    <tr>\n",
       "      <th>Survived</th>\n",
       "      <td>100.0</td>\n",
       "      <td>891.0</td>\n",
       "      <td>0.0</td>\n",
       "      <td>2.0</td>\n",
       "    </tr>\n",
       "    <tr>\n",
       "      <th rowspan=\"2\" valign=\"top\">float64</th>\n",
       "      <th>Age</th>\n",
       "      <td>80.1</td>\n",
       "      <td>714.0</td>\n",
       "      <td>177.0</td>\n",
       "      <td>89.0</td>\n",
       "    </tr>\n",
       "    <tr>\n",
       "      <th>Fare</th>\n",
       "      <td>100.0</td>\n",
       "      <td>891.0</td>\n",
       "      <td>0.0</td>\n",
       "      <td>248.0</td>\n",
       "    </tr>\n",
       "    <tr>\n",
       "      <th rowspan=\"5\" valign=\"top\">object</th>\n",
       "      <th>Cabin</th>\n",
       "      <td>22.9</td>\n",
       "      <td>204.0</td>\n",
       "      <td>687.0</td>\n",
       "      <td>148.0</td>\n",
       "    </tr>\n",
       "    <tr>\n",
       "      <th>Embarked</th>\n",
       "      <td>99.8</td>\n",
       "      <td>889.0</td>\n",
       "      <td>2.0</td>\n",
       "      <td>4.0</td>\n",
       "    </tr>\n",
       "    <tr>\n",
       "      <th>Name</th>\n",
       "      <td>100.0</td>\n",
       "      <td>891.0</td>\n",
       "      <td>0.0</td>\n",
       "      <td>891.0</td>\n",
       "    </tr>\n",
       "    <tr>\n",
       "      <th>Sex</th>\n",
       "      <td>100.0</td>\n",
       "      <td>891.0</td>\n",
       "      <td>0.0</td>\n",
       "      <td>2.0</td>\n",
       "    </tr>\n",
       "    <tr>\n",
       "      <th>Ticket</th>\n",
       "      <td>100.0</td>\n",
       "      <td>891.0</td>\n",
       "      <td>0.0</td>\n",
       "      <td>681.0</td>\n",
       "    </tr>\n",
       "  </tbody>\n",
       "</table>\n",
       "</div>"
      ],
      "text/plain": [
       "                     actual_value_percent(%)  actual_value_qty  null_qty  \\\n",
       "dtype   column_name                                                        \n",
       "int64   Parch                          100.0             891.0       0.0   \n",
       "        PassengerId                    100.0             891.0       0.0   \n",
       "        Pclass                         100.0             891.0       0.0   \n",
       "        SibSp                          100.0             891.0       0.0   \n",
       "        Survived                       100.0             891.0       0.0   \n",
       "float64 Age                             80.1             714.0     177.0   \n",
       "        Fare                           100.0             891.0       0.0   \n",
       "object  Cabin                           22.9             204.0     687.0   \n",
       "        Embarked                        99.8             889.0       2.0   \n",
       "        Name                           100.0             891.0       0.0   \n",
       "        Sex                            100.0             891.0       0.0   \n",
       "        Ticket                         100.0             891.0       0.0   \n",
       "\n",
       "                     unique_values_qty  \n",
       "dtype   column_name                     \n",
       "int64   Parch                      7.0  \n",
       "        PassengerId              891.0  \n",
       "        Pclass                     3.0  \n",
       "        SibSp                      7.0  \n",
       "        Survived                   2.0  \n",
       "float64 Age                       89.0  \n",
       "        Fare                     248.0  \n",
       "object  Cabin                    148.0  \n",
       "        Embarked                   4.0  \n",
       "        Name                     891.0  \n",
       "        Sex                        2.0  \n",
       "        Ticket                   681.0  "
      ]
     },
     "execution_count": 6,
     "metadata": {},
     "output_type": "execute_result"
    }
   ],
   "source": [
    "# states of train data set\n",
    "# describe the data by dtype\n",
    "\n",
    "summary_train = pd.DataFrame()\n",
    "for col in train.columns:\n",
    "    \n",
    "    # column's name\n",
    "    column_name = col\n",
    "    \n",
    "    # check column's type\n",
    "    dtype = train[column_name].dtype\n",
    "    \n",
    "    # check the qty of not null data per each column\n",
    "    actual_value_qty = len(train.loc[train[column_name].notnull()])\n",
    " \n",
    "    # length of each columns\n",
    "    rows = len(train[column_name])\n",
    "    \n",
    "    # percent of not null values per columns\n",
    "    actual_value_percent = round((actual_value_qty / rows)*100,1)\n",
    "    \n",
    "    # count the unique values per columns\n",
    "    unique_values = len(train[column_name].unique())\n",
    "    \n",
    "    # sum up the null values per columns\n",
    "    null_qty = train[column_name].isnull().sum()\n",
    "    \n",
    "    # make the dataframe\n",
    "    data = {'column_name' : column_name, 'dtype' : dtype, 'actual_value_qty' : actual_value_qty,'null_qty' : null_qty, \\\n",
    "            'actual_value_percent(%)' : actual_value_percent  ,'unique_values_qty' : unique_values}\n",
    "    \n",
    "    summary_train = summary_train.append(data, ignore_index = True)\n",
    "    \n",
    "\n",
    "summary_train.pivot_table(index = ['dtype', 'column_name'])"
   ]
  },
  {
   "cell_type": "markdown",
   "metadata": {},
   "source": [
    "### 2-2 Analysis the univaiance"
   ]
  },
  {
   "cell_type": "markdown",
   "metadata": {},
   "source": [
    "    1) 정량적 변수와 정성적 변수를 나누어 구분"
   ]
  },
  {
   "cell_type": "code",
   "execution_count": 7,
   "metadata": {},
   "outputs": [],
   "source": [
    "# Pclass의 경우 카테고리 범주이기 때문에 int에서 string으로 데이터 타입을 변경 \n",
    "train[\"Pclass\"] = train[\"Pclass\"].astype(\"str\")\n",
    "test[\"Pclass\"] = test[\"Pclass\"].astype(\"str\")"
   ]
  },
  {
   "cell_type": "code",
   "execution_count": 8,
   "metadata": {},
   "outputs": [],
   "source": [
    "numerical_features = []\n",
    "categorical_features = []\n",
    "for f in train.columns:\n",
    "    if train.dtypes[f] != 'object':\n",
    "        numerical_features.append(f)\n",
    "    else:\n",
    "        categorical_features.append(f)"
   ]
  },
  {
   "cell_type": "code",
   "execution_count": 9,
   "metadata": {},
   "outputs": [
    {
     "name": "stdout",
     "output_type": "stream",
     "text": [
      "Numerical Features Qty : 6 \n",
      "\n",
      "Numerical Features :  ['PassengerId', 'Survived', 'Age', 'SibSp', 'Parch', 'Fare'] \n",
      "\n",
      "Categorical Features Qty : 6 \n",
      "\n",
      "Categorical Features : ['Pclass', 'Name', 'Sex', 'Ticket', 'Cabin', 'Embarked']\n"
     ]
    }
   ],
   "source": [
    "print(\"Numerical Features Qty :\", len(numerical_features),\"\\n\")\n",
    "print(\"Numerical Features : \", numerical_features, \"\\n\")\n",
    "print(\"Categorical Features Qty :\", len(categorical_features),\"\\n\")\n",
    "print(\"Categorical Features :\", categorical_features)"
   ]
  },
  {
   "cell_type": "markdown",
   "metadata": {
    "_cell_guid": "06c79bd7-6180-4c42-baef-8632bd1b27a1",
    "_uuid": "f927619c2c668bb1004aa0cce909a9732b2626fd"
   },
   "source": [
    "### 2.3 Outlier detection"
   ]
  },
  {
   "cell_type": "markdown",
   "metadata": {},
   "source": [
    "    1) box-and-whisker IQR 방법을 통해 아웃라이어를 제거"
   ]
  },
  {
   "cell_type": "code",
   "execution_count": 10,
   "metadata": {
    "_cell_guid": "6fde3971-ffa0-423c-991f-15f8502fe5bb",
    "_execution_state": "idle",
    "_uuid": "85a3c96713afbc48fbe2489d6872917743b220d8"
   },
   "outputs": [],
   "source": [
    "# Outlier detection by Box plot \n",
    "\n",
    "def detect_outliers(data, features):\n",
    "    \n",
    "    outlier_indices = []\n",
    "    # iterate over features(columns)\n",
    "    for feature in features:\n",
    "        # 1st quartile (25%)\n",
    "        Q1 = np.percentile(data[feature], 25)\n",
    "         # 3rd quartile (75%)\n",
    "        Q3 = np.percentile(data[feature], 75)\n",
    "        # Interquartile range (IQR)\n",
    "        IQR = Q3 - Q1\n",
    "        \n",
    "         # outlier step\n",
    "        outlier_step = 1.5 * IQR\n",
    "        \n",
    "        # determine a list of indices of outliers for feature col\n",
    "        outliers = data[(data[feature] < Q1 - outlier_step) | (data[feature] > Q3 + outlier_step )].index\n",
    "        \n",
    "        # append the found outlier indices for col to the list of outlier indices \n",
    "        outlier_indices.extend(outliers)\n",
    "        \n",
    "    outlier_indices = Counter(outlier_indices)\n",
    "    outliers = list( num for num, qty in outlier_indices.items() if qty > 2 )\n",
    "        \n",
    "    return outliers   "
   ]
  },
  {
   "cell_type": "code",
   "execution_count": 11,
   "metadata": {
    "_cell_guid": "6fde3971-ffa0-423c-991f-15f8502fe5bb",
    "_execution_state": "idle",
    "_uuid": "85a3c96713afbc48fbe2489d6872917743b220d8",
    "scrolled": true
   },
   "outputs": [],
   "source": [
    "# detect outliers from Age, SibSp , Parch and Fare\n",
    "Outliers_numerical_features = detect_outliers(train,[\"Age\", \"SibSp\",\"Parch\", \"Fare\"])\n"
   ]
  },
  {
   "cell_type": "markdown",
   "metadata": {},
   "source": [
    "* Comments : 10개의 아웃라이어 제거"
   ]
  },
  {
   "cell_type": "code",
   "execution_count": 12,
   "metadata": {},
   "outputs": [
    {
     "data": {
      "text/html": [
       "<div>\n",
       "<style scoped>\n",
       "    .dataframe tbody tr th:only-of-type {\n",
       "        vertical-align: middle;\n",
       "    }\n",
       "\n",
       "    .dataframe tbody tr th {\n",
       "        vertical-align: top;\n",
       "    }\n",
       "\n",
       "    .dataframe thead th {\n",
       "        text-align: right;\n",
       "    }\n",
       "</style>\n",
       "<table border=\"1\" class=\"dataframe\">\n",
       "  <thead>\n",
       "    <tr style=\"text-align: right;\">\n",
       "      <th></th>\n",
       "      <th>PassengerId</th>\n",
       "      <th>Survived</th>\n",
       "      <th>Pclass</th>\n",
       "      <th>Name</th>\n",
       "      <th>Sex</th>\n",
       "      <th>Age</th>\n",
       "      <th>SibSp</th>\n",
       "      <th>Parch</th>\n",
       "      <th>Ticket</th>\n",
       "      <th>Fare</th>\n",
       "      <th>Cabin</th>\n",
       "      <th>Embarked</th>\n",
       "    </tr>\n",
       "  </thead>\n",
       "  <tbody>\n",
       "    <tr>\n",
       "      <th>27</th>\n",
       "      <td>28</td>\n",
       "      <td>0</td>\n",
       "      <td>1</td>\n",
       "      <td>Fortune, Mr. Charles Alexander</td>\n",
       "      <td>male</td>\n",
       "      <td>19.0</td>\n",
       "      <td>3</td>\n",
       "      <td>2</td>\n",
       "      <td>19950</td>\n",
       "      <td>263.00</td>\n",
       "      <td>C23 C25 C27</td>\n",
       "      <td>S</td>\n",
       "    </tr>\n",
       "    <tr>\n",
       "      <th>88</th>\n",
       "      <td>89</td>\n",
       "      <td>1</td>\n",
       "      <td>1</td>\n",
       "      <td>Fortune, Miss. Mabel Helen</td>\n",
       "      <td>female</td>\n",
       "      <td>23.0</td>\n",
       "      <td>3</td>\n",
       "      <td>2</td>\n",
       "      <td>19950</td>\n",
       "      <td>263.00</td>\n",
       "      <td>C23 C25 C27</td>\n",
       "      <td>S</td>\n",
       "    </tr>\n",
       "    <tr>\n",
       "      <th>159</th>\n",
       "      <td>160</td>\n",
       "      <td>0</td>\n",
       "      <td>3</td>\n",
       "      <td>Sage, Master. Thomas Henry</td>\n",
       "      <td>male</td>\n",
       "      <td>NaN</td>\n",
       "      <td>8</td>\n",
       "      <td>2</td>\n",
       "      <td>CA. 2343</td>\n",
       "      <td>69.55</td>\n",
       "      <td>NaN</td>\n",
       "      <td>S</td>\n",
       "    </tr>\n",
       "    <tr>\n",
       "      <th>180</th>\n",
       "      <td>181</td>\n",
       "      <td>0</td>\n",
       "      <td>3</td>\n",
       "      <td>Sage, Miss. Constance Gladys</td>\n",
       "      <td>female</td>\n",
       "      <td>NaN</td>\n",
       "      <td>8</td>\n",
       "      <td>2</td>\n",
       "      <td>CA. 2343</td>\n",
       "      <td>69.55</td>\n",
       "      <td>NaN</td>\n",
       "      <td>S</td>\n",
       "    </tr>\n",
       "    <tr>\n",
       "      <th>201</th>\n",
       "      <td>202</td>\n",
       "      <td>0</td>\n",
       "      <td>3</td>\n",
       "      <td>Sage, Mr. Frederick</td>\n",
       "      <td>male</td>\n",
       "      <td>NaN</td>\n",
       "      <td>8</td>\n",
       "      <td>2</td>\n",
       "      <td>CA. 2343</td>\n",
       "      <td>69.55</td>\n",
       "      <td>NaN</td>\n",
       "      <td>S</td>\n",
       "    </tr>\n",
       "    <tr>\n",
       "      <th>324</th>\n",
       "      <td>325</td>\n",
       "      <td>0</td>\n",
       "      <td>3</td>\n",
       "      <td>Sage, Mr. George John Jr</td>\n",
       "      <td>male</td>\n",
       "      <td>NaN</td>\n",
       "      <td>8</td>\n",
       "      <td>2</td>\n",
       "      <td>CA. 2343</td>\n",
       "      <td>69.55</td>\n",
       "      <td>NaN</td>\n",
       "      <td>S</td>\n",
       "    </tr>\n",
       "    <tr>\n",
       "      <th>341</th>\n",
       "      <td>342</td>\n",
       "      <td>1</td>\n",
       "      <td>1</td>\n",
       "      <td>Fortune, Miss. Alice Elizabeth</td>\n",
       "      <td>female</td>\n",
       "      <td>24.0</td>\n",
       "      <td>3</td>\n",
       "      <td>2</td>\n",
       "      <td>19950</td>\n",
       "      <td>263.00</td>\n",
       "      <td>C23 C25 C27</td>\n",
       "      <td>S</td>\n",
       "    </tr>\n",
       "    <tr>\n",
       "      <th>792</th>\n",
       "      <td>793</td>\n",
       "      <td>0</td>\n",
       "      <td>3</td>\n",
       "      <td>Sage, Miss. Stella Anna</td>\n",
       "      <td>female</td>\n",
       "      <td>NaN</td>\n",
       "      <td>8</td>\n",
       "      <td>2</td>\n",
       "      <td>CA. 2343</td>\n",
       "      <td>69.55</td>\n",
       "      <td>NaN</td>\n",
       "      <td>S</td>\n",
       "    </tr>\n",
       "    <tr>\n",
       "      <th>846</th>\n",
       "      <td>847</td>\n",
       "      <td>0</td>\n",
       "      <td>3</td>\n",
       "      <td>Sage, Mr. Douglas Bullen</td>\n",
       "      <td>male</td>\n",
       "      <td>NaN</td>\n",
       "      <td>8</td>\n",
       "      <td>2</td>\n",
       "      <td>CA. 2343</td>\n",
       "      <td>69.55</td>\n",
       "      <td>NaN</td>\n",
       "      <td>S</td>\n",
       "    </tr>\n",
       "    <tr>\n",
       "      <th>863</th>\n",
       "      <td>864</td>\n",
       "      <td>0</td>\n",
       "      <td>3</td>\n",
       "      <td>Sage, Miss. Dorothy Edith \"Dolly\"</td>\n",
       "      <td>female</td>\n",
       "      <td>NaN</td>\n",
       "      <td>8</td>\n",
       "      <td>2</td>\n",
       "      <td>CA. 2343</td>\n",
       "      <td>69.55</td>\n",
       "      <td>NaN</td>\n",
       "      <td>S</td>\n",
       "    </tr>\n",
       "  </tbody>\n",
       "</table>\n",
       "</div>"
      ],
      "text/plain": [
       "     PassengerId  Survived Pclass                               Name     Sex  \\\n",
       "27            28         0      1     Fortune, Mr. Charles Alexander    male   \n",
       "88            89         1      1         Fortune, Miss. Mabel Helen  female   \n",
       "159          160         0      3         Sage, Master. Thomas Henry    male   \n",
       "180          181         0      3       Sage, Miss. Constance Gladys  female   \n",
       "201          202         0      3                Sage, Mr. Frederick    male   \n",
       "324          325         0      3           Sage, Mr. George John Jr    male   \n",
       "341          342         1      1     Fortune, Miss. Alice Elizabeth  female   \n",
       "792          793         0      3            Sage, Miss. Stella Anna  female   \n",
       "846          847         0      3           Sage, Mr. Douglas Bullen    male   \n",
       "863          864         0      3  Sage, Miss. Dorothy Edith \"Dolly\"  female   \n",
       "\n",
       "      Age  SibSp  Parch    Ticket    Fare        Cabin Embarked  \n",
       "27   19.0      3      2     19950  263.00  C23 C25 C27        S  \n",
       "88   23.0      3      2     19950  263.00  C23 C25 C27        S  \n",
       "159   NaN      8      2  CA. 2343   69.55          NaN        S  \n",
       "180   NaN      8      2  CA. 2343   69.55          NaN        S  \n",
       "201   NaN      8      2  CA. 2343   69.55          NaN        S  \n",
       "324   NaN      8      2  CA. 2343   69.55          NaN        S  \n",
       "341  24.0      3      2     19950  263.00  C23 C25 C27        S  \n",
       "792   NaN      8      2  CA. 2343   69.55          NaN        S  \n",
       "846   NaN      8      2  CA. 2343   69.55          NaN        S  \n",
       "863   NaN      8      2  CA. 2343   69.55          NaN        S  "
      ]
     },
     "execution_count": 12,
     "metadata": {},
     "output_type": "execute_result"
    }
   ],
   "source": [
    "train.loc[Outliers_numerical_features]"
   ]
  },
  {
   "cell_type": "code",
   "execution_count": 13,
   "metadata": {},
   "outputs": [],
   "source": [
    "# drop outliers\n",
    "train = train.drop(Outliers_numerical_features, axis = 0).reset_index(drop=True)"
   ]
  },
  {
   "cell_type": "markdown",
   "metadata": {},
   "source": [
    "### 2.4 Handle missing data"
   ]
  },
  {
   "cell_type": "markdown",
   "metadata": {},
   "source": [
    "    1) train set과 test set join\n",
    "        : 추후 EDA를 통해 데이터 타입 및 Missing Value 처리시 일관성을 유지하기 위해서임"
   ]
  },
  {
   "cell_type": "code",
   "execution_count": 14,
   "metadata": {},
   "outputs": [],
   "source": [
    "train_len = len(train)\n",
    "all_data =  pd.concat([train, test], axis=0).reset_index(drop=True)"
   ]
  },
  {
   "cell_type": "markdown",
   "metadata": {},
   "source": [
    "    2) null and missing value 확인"
   ]
  },
  {
   "cell_type": "code",
   "execution_count": 15,
   "metadata": {},
   "outputs": [],
   "source": [
    "# Fill empty and NaNs values with NaN\n",
    "all_data = all_data.fillna(np.nan)\n",
    "\n",
    "# Copy all_data\n",
    "all_data_cp = all_data.copy()\n",
    "\n",
    "# check for null values\n",
    "all_data_null = all_data_cp.isnull().sum()\n",
    "all_data_null = all_data_null.drop(all_data_null[all_data_null == 0].index).sort_values(ascending=False)\n",
    "\n",
    "# drop the null values of Survived because Survived missing values correspond to the join testing dataset\n",
    "del all_data_null['Survived']"
   ]
  },
  {
   "cell_type": "markdown",
   "metadata": {},
   "source": [
    "* Misiing Value의 비중을 살펴본 결과 Cabin과 Age가 많은 비중을 차지하고 있음"
   ]
  },
  {
   "cell_type": "code",
   "execution_count": 16,
   "metadata": {},
   "outputs": [
    {
     "name": "stdout",
     "output_type": "stream",
     "text": [
      "Missing Data Features's Qty :  [4]\n",
      "Total Missing Data's Qty :  [1266]\n"
     ]
    },
    {
     "data": {
      "image/png": "[encoded data removed]",
      "text/plain": [
       "<matplotlib.figure.Figure at 0x11c237588>"
      ]
     },
     "metadata": {},
     "output_type": "display_data"
    }
   ],
   "source": [
    "# make missing dataframe\n",
    "all_data_missing = pd.DataFrame({'Missing Numbers' :all_data_null})\n",
    "all_data_null =  all_data_null / len(all_data_cp)*100\n",
    "\n",
    "# draw the graph for missing data \n",
    "f, ax = plt.subplots(figsize=(10, 3))\n",
    "plt.xticks(rotation='90')\n",
    "sns.barplot(x=all_data_null.index, y=all_data_null)\n",
    "plt.xlabel('Features', fontsize=15)\n",
    "plt.ylabel('Percent of missing values', fontsize=15)\n",
    "plt.title('Percent missing data by feature', fontsize=15)\n",
    "\n",
    "print(\"Missing Data Features's Qty : \" , all_data_missing.count().values)\n",
    "print(\"Total Missing Data's Qty : \" , all_data_missing.sum().values)"
   ]
  },
  {
   "cell_type": "markdown",
   "metadata": {
    "_cell_guid": "7ffe56c3-62ea-4b79-8e56-ed11e6d25142",
    "_uuid": "218f6ebf257b55bcf3266f74b958679ccdc9bbf0"
   },
   "source": [
    "## 3. Feature analysis\n",
    "### 3.1 정성적 변수"
   ]
  },
  {
   "cell_type": "markdown",
   "metadata": {},
   "source": [
    "* 아래 heatmap을 통해 살펴본 결과, Fare만이 유의미한 관계를 지니고 있는 것으로 보임.\n",
    "* 하지만 더 정확한 관계를 파악하기 위해 Feature별로 자세히 분석해볼 필요가 있음"
   ]
  },
  {
   "cell_type": "code",
   "execution_count": 17,
   "metadata": {
    "_cell_guid": "fde3ce29-4d9c-4e08-88fa-da5a8b549299",
    "_execution_state": "idle",
    "_uuid": "a5218179856b08c053c2548618b57267eccb4126"
   },
   "outputs": [
    {
     "data": {
      "image/png": "[encoded data removed]",
      "text/plain": [
       "<matplotlib.figure.Figure at 0x11c2ec550>"
      ]
     },
     "metadata": {},
     "output_type": "display_data"
    }
   ],
   "source": [
    "# Correlation matrix between numerical values (SibSp Parch Age and Fare values) and Survived \n",
    "ls_numeric = [\"Survived\",\"SibSp\",\"Parch\",\"Age\",\"Fare\"]\n",
    "corr = train[ls_numeric].corr()\n",
    "mask = np.zeros_like(corr)\n",
    "mask[np.triu_indices_from(mask)] = True\n",
    "with sns.axes_style(\"white\"):\n",
    "    ax = sns.heatmap(corr, mask = mask, annot=True, fmt = \".2f\", cmap = \"YlGnBu\")"
   ]
  },
  {
   "cell_type": "markdown",
   "metadata": {
    "_cell_guid": "11fd0afb-2433-420c-94f8-c2fac051e1a3",
    "_uuid": "e41320df234bfc830faa9352d6211b0253fcb9aa"
   },
   "source": [
    "#### SibSP\n",
    "* 함께 탄 가족(그 중에서도 배우자, 형제자매)이 많을수록 생존률이 낮음을 알 수 있음\n",
    "* 혼자(0) 타거나 가족이 1~2명인 경우 생존률이 높음"
   ]
  },
  {
   "cell_type": "code",
   "execution_count": 18,
   "metadata": {
    "_cell_guid": "c15217da-0db5-4386-aa8a-da06cd0bfc1c",
    "_execution_state": "idle",
    "_uuid": "b4418a9f2447787aca13b17898d52d8c1cd59b1b",
    "scrolled": true
   },
   "outputs": [
    {
     "data": {
      "image/png": "[encoded data removed]",
      "text/plain": [
       "<matplotlib.figure.Figure at 0x11c32c4a8>"
      ]
     },
     "metadata": {},
     "output_type": "display_data"
    }
   ],
   "source": [
    "g = sns.factorplot(x=\"SibSp\",y=\"Survived\",data=train,kind=\"bar\", size = 5 , palette = \"muted\")\n",
    "g.despine(left=True)\n",
    "g = g.set_ylabels(\"survival probability\")"
   ]
  },
  {
   "cell_type": "markdown",
   "metadata": {
    "_cell_guid": "131a75ea-f5a4-436a-9c16-c2ce24348c2b",
    "_uuid": "26ceb23758e2faebf3aac0ba072114a493ebf52c"
   },
   "source": [
    "#### Parch\n",
    "* 부모님이나 자식과 함께 탄 경우 혼자(0)인 경우보다 생존률이 높음"
   ]
  },
  {
   "cell_type": "code",
   "execution_count": 19,
   "metadata": {
    "_cell_guid": "7aac2377-8199-4afb-9cb2-b397c240f6c1",
    "_execution_state": "idle",
    "_uuid": "04b13f92bcdae2fbc4519a1f060d494510d34b87"
   },
   "outputs": [
    {
     "data": {
      "image/png": "[encoded data removed]",
      "text/plain": [
       "<matplotlib.figure.Figure at 0x11c42d0f0>"
      ]
     },
     "metadata": {},
     "output_type": "display_data"
    }
   ],
   "source": [
    "# Explore Parch feature vs Survived\n",
    "g  = sns.factorplot(x=\"Parch\",y=\"Survived\",data=train,kind=\"bar\", size = 5 , palette = \"muted\")\n",
    "g.despine(left=True)\n",
    "g = g.set_ylabels(\"survival probability\")"
   ]
  },
  {
   "cell_type": "markdown",
   "metadata": {
    "_cell_guid": "dd2fe3e5-9e86-4277-9072-1c85cb966018",
    "_uuid": "a8b30fcc2716cd17669ede9420f9d39f5b4d4b80"
   },
   "source": [
    "#### Age\n",
    "* 생존한 경우(Survived = 1), 생존하지 않은 경우(Survived = 0)을 구분해서 분포를 살펴 봤을 때,나이가 어린 사람들이 생존을 많이 했음을 알 수 있음\n",
    "* 두 번째 그래프에서 보시다시피, 생존&생존하지 않은 경우를 포개어 봤을때 그 차이가 명확함"
   ]
  },
  {
   "cell_type": "code",
   "execution_count": 20,
   "metadata": {
    "_cell_guid": "a4309d84-63a9-4e26-a718-6f78d1225963",
    "_execution_state": "idle",
    "_uuid": "ed8b275b34f15bb14b971dbb66a53f72dfff224c"
   },
   "outputs": [
    {
     "data": {
      "image/png": "[encoded data removed]",
      "text/plain": [
       "<matplotlib.figure.Figure at 0x11c2cc198>"
      ]
     },
     "metadata": {},
     "output_type": "display_data"
    }
   ],
   "source": [
    "# Explore Age vs Survived\n",
    "g = sns.FacetGrid(train, col='Survived')\n",
    "g = g.map(sns.distplot, \"Age\")"
   ]
  },
  {
   "cell_type": "code",
   "execution_count": 21,
   "metadata": {
    "_cell_guid": "c379f4eb-ee82-44d8-8e65-06abbc86e9b5",
    "_execution_state": "idle",
    "_uuid": "4a5369826101a978d15c94f93bdedd2b17fd8c1d"
   },
   "outputs": [
    {
     "data": {
      "image/png": "[encoded data removed]",
      "text/plain": [
       "<matplotlib.figure.Figure at 0x11c5d0860>"
      ]
     },
     "metadata": {},
     "output_type": "display_data"
    }
   ],
   "source": [
    "# Explore Age distibution \n",
    "g = sns.kdeplot(train[\"Age\"][(train[\"Survived\"] == 0) & (train[\"Age\"].notnull())], color=\"Red\", shade = True)\n",
    "g = sns.kdeplot(train[\"Age\"][(train[\"Survived\"] == 1) & (train[\"Age\"].notnull())], ax =g, color=\"Blue\", shade= True)\n",
    "g.set_xlabel(\"Age\")\n",
    "g.set_ylabel(\"Frequency\")\n",
    "g = g.legend([\"Not Survived\",\"Survived\"])"
   ]
  },
  {
   "cell_type": "markdown",
   "metadata": {
    "_cell_guid": "760abd84-1f67-4e94-acd1-884565c51f22",
    "_uuid": "a1928defede25526b073cdea62bf22f0889b619e"
   },
   "source": [
    "#### Fare\n",
    "* 하나의 Missing Value가 존재하기 때문에 평균으로 처리 하였음"
   ]
  },
  {
   "cell_type": "code",
   "execution_count": 22,
   "metadata": {
    "_cell_guid": "15f0186d-e558-4699-8870-e9e5f3870c28",
    "_execution_state": "idle",
    "_uuid": "996872cb6ba14f9d05b1cc2cf20db7234d575aa5"
   },
   "outputs": [
    {
     "data": {
      "text/plain": [
       "1"
      ]
     },
     "execution_count": 22,
     "metadata": {},
     "output_type": "execute_result"
    }
   ],
   "source": [
    "# check how many missing values on Fare\n",
    "all_data[\"Fare\"].isnull().sum()"
   ]
  },
  {
   "cell_type": "code",
   "execution_count": 23,
   "metadata": {
    "_cell_guid": "90c3f7d2-c9ee-4946-94b1-201078f09f07",
    "_execution_state": "idle",
    "_uuid": "f5c6d105729429193b02519bfac8596d190aa561"
   },
   "outputs": [],
   "source": [
    "#Fill Fare missing values with the median value\n",
    "all_data[\"Fare\"] = all_data[\"Fare\"].fillna(all_data[\"Fare\"].median())"
   ]
  },
  {
   "cell_type": "markdown",
   "metadata": {},
   "source": [
    "* 아래 그래프에서 보시다시피, 분포가 왼쪽으로 너무 치우쳤기 때문에 log를 통해 정규화를 진행 하였음"
   ]
  },
  {
   "cell_type": "code",
   "execution_count": 24,
   "metadata": {
    "_cell_guid": "1454fa14-9456-4539-a59a-f16cc75cdc69",
    "_execution_state": "idle",
    "_uuid": "2462ac5ccc31009f6cbf40ece06949b192f0a4e9",
    "scrolled": true
   },
   "outputs": [
    {
     "data": {
      "image/png": "[encoded data removed]",
      "text/plain": [
       "<matplotlib.figure.Figure at 0x11c647a90>"
      ]
     },
     "metadata": {},
     "output_type": "display_data"
    },
    {
     "name": "stdout",
     "output_type": "stream",
     "text": [
      "Skewness: 4.511862\n",
      "Kurtosis: 29.183273\n"
     ]
    }
   ],
   "source": [
    "# Explore Fare distribution \n",
    "plt.figure(figsize=(12,5))\n",
    "\n",
    "plt.subplot(131)\n",
    "sns.distplot(all_data[\"Fare\"])\n",
    "\n",
    "plt.subplot(132)\n",
    "stats.probplot(all_data[\"Fare\"], plot=plt)\n",
    "\n",
    "plt.subplot(133)\n",
    "sns.boxplot(all_data[\"Fare\"])\n",
    "plt.tight_layout()\n",
    "plt.show()\n",
    "\n",
    "print(\"Skewness: %f\" % all_data['Fare'].skew())\n",
    "print(\"Kurtosis: %f\" % all_data['Fare'].kurt())"
   ]
  },
  {
   "cell_type": "code",
   "execution_count": 25,
   "metadata": {},
   "outputs": [
    {
     "data": {
      "image/png": "[encoded data removed]",
      "text/plain": [
       "<matplotlib.figure.Figure at 0x11c733d68>"
      ]
     },
     "metadata": {},
     "output_type": "display_data"
    },
    {
     "name": "stdout",
     "output_type": "stream",
     "text": [
      "Skewness: 0.544004\n",
      "Kurtosis: 0.921062\n"
     ]
    }
   ],
   "source": [
    "all_data[\"Fare\"] = np.log1p(all_data[\"Fare\"])\n",
    "\n",
    "# Explore Fare distribution \n",
    "plt.figure(figsize=(12,5))\n",
    "\n",
    "plt.subplot(131)\n",
    "sns.distplot(all_data[\"Fare\"])\n",
    "\n",
    "plt.subplot(132)\n",
    "stats.probplot(all_data[\"Fare\"], plot=plt)\n",
    "\n",
    "plt.subplot(133)\n",
    "sns.boxplot(all_data[\"Fare\"])\n",
    "plt.tight_layout()\n",
    "plt.show()\n",
    "\n",
    "print(\"Skewness: %f\" % all_data['Fare'].skew())\n",
    "print(\"Kurtosis: %f\" % all_data['Fare'].kurt())"
   ]
  },
  {
   "cell_type": "markdown",
   "metadata": {
    "_cell_guid": "2056cac5-8405-432c-8026-f4fb6a895fb9",
    "_uuid": "a6545d5a0816088a56dab37ba10ae93e26375068"
   },
   "source": [
    "### 3.2 Categorical values\n",
    "#### Sex\n",
    "* 남성보다 여성의 생존률이 훨씬 높음"
   ]
  },
  {
   "cell_type": "code",
   "execution_count": 26,
   "metadata": {
    "_cell_guid": "2cf795ef-abad-474e-a75b-e6eaac6c4881",
    "_execution_state": "idle",
    "_uuid": "08798e4e7aec09c85f1c678eea529ef4bbea3335"
   },
   "outputs": [
    {
     "data": {
      "image/png": "[encoded data removed]",
      "text/plain": [
       "<matplotlib.figure.Figure at 0x11c640518>"
      ]
     },
     "metadata": {},
     "output_type": "display_data"
    }
   ],
   "source": [
    "g = sns.barplot(x=\"Sex\",y=\"Survived\",data=train)\n",
    "g = g.set_ylabel(\"Survival Probability\")"
   ]
  },
  {
   "cell_type": "markdown",
   "metadata": {
    "_cell_guid": "fc62793d-b0fe-47f1-8a60-0fc10974d916",
    "_uuid": "25bda5a815d2789c5ea5b6fbd153bc3c4751ea66"
   },
   "source": [
    "#### Pclass\n",
    "* First class가 가장 생존률이 높음을 알 수 있음.\n",
    "* 각 클래스에서도 남성보다 여성이 생존률이 높음."
   ]
  },
  {
   "cell_type": "code",
   "execution_count": 27,
   "metadata": {
    "_cell_guid": "acab5827-4690-4d8a-934c-f8e4bf1a9265",
    "_execution_state": "idle",
    "_uuid": "33cf4a5f3018a7cd955048c57cfd7ff884d31fd4"
   },
   "outputs": [
    {
     "data": {
      "image/png": "[encoded data removed]",
      "text/plain": [
       "<matplotlib.figure.Figure at 0x11c647978>"
      ]
     },
     "metadata": {},
     "output_type": "display_data"
    }
   ],
   "source": [
    "# Explore Pclass vs Survived\n",
    "plt.figure(figsize=(15,6))\n",
    "\n",
    "ax1 = plt.subplot(1,2,1)\n",
    "sns.barplot(x=\"Pclass\",y=\"Survived\",data=train, palette = \"muted\", ax=ax1)\n",
    "\n",
    "\n",
    "# Explore Pclass vs Survived by Sex\n",
    "ax2 = plt.subplot(1,2,2)\n",
    "sns.barplot(x=\"Pclass\", y=\"Survived\", hue=\"Sex\", data=train, palette=\"muted\", ax=ax2)\n",
    "\n",
    "plt.show()"
   ]
  },
  {
   "cell_type": "markdown",
   "metadata": {
    "_cell_guid": "bd9a2e84-de2f-4d22-8a8a-d9b77153914a",
    "_uuid": "c33615408606b88ac50ea2596574030cafe6ca56"
   },
   "source": [
    "#### Embarked\n",
    "- 2개의 Missing Value에 대해 가장 빈도수가 높은 S로 처리하였음.\n",
    "- Cherbourg(C)에서 탑승한 승객이 생존률이 높았으며, first Class가 많은 비중을 차지하였음."
   ]
  },
  {
   "cell_type": "code",
   "execution_count": 28,
   "metadata": {
    "_cell_guid": "25335bd6-f586-4e80-9424-52d5391c7d90",
    "_execution_state": "idle",
    "_uuid": "6c62328f8ed218a94ad20d68179890d2b7e26c54"
   },
   "outputs": [
    {
     "data": {
      "text/plain": [
       "2"
      ]
     },
     "execution_count": 28,
     "metadata": {},
     "output_type": "execute_result"
    }
   ],
   "source": [
    "all_data[\"Embarked\"].isnull().sum()"
   ]
  },
  {
   "cell_type": "code",
   "execution_count": 29,
   "metadata": {},
   "outputs": [
    {
     "data": {
      "text/plain": [
       "S    904\n",
       "C    270\n",
       "Q    123\n",
       "Name: Embarked, dtype: int64"
      ]
     },
     "execution_count": 29,
     "metadata": {},
     "output_type": "execute_result"
    }
   ],
   "source": [
    "all_data.Embarked.value_counts()"
   ]
  },
  {
   "cell_type": "code",
   "execution_count": 30,
   "metadata": {
    "_cell_guid": "369b4640-1f93-464f-9668-c128dee6ce8f",
    "_execution_state": "idle",
    "_uuid": "12606e718a36c7743e313d5b511f824525fa758c"
   },
   "outputs": [],
   "source": [
    "#Fill Embarked nan values of dataset set with 'S' most frequent value\n",
    "all_data[\"Embarked\"] = all_data[\"Embarked\"].fillna(\"S\")"
   ]
  },
  {
   "cell_type": "code",
   "execution_count": 31,
   "metadata": {
    "_cell_guid": "562a0ddb-6dcc-4def-a73d-405e4ccd12e8",
    "_execution_state": "idle",
    "_uuid": "3bbb9f7fcbae67b9c12f021e3a3b71a031b8d882"
   },
   "outputs": [
    {
     "data": {
      "image/png": "[encoded data removed]",
      "text/plain": [
       "<matplotlib.figure.Figure at 0x11c4a4390>"
      ]
     },
     "metadata": {},
     "output_type": "display_data"
    }
   ],
   "source": [
    "# Explore Embarked vs Survived \n",
    "g = sns.barplot(x=\"Embarked\", y=\"Survived\",  data=train)"
   ]
  },
  {
   "cell_type": "code",
   "execution_count": 32,
   "metadata": {
    "_cell_guid": "bff15a05-8876-474b-a727-7b7fe64e379d",
    "_execution_state": "idle",
    "_uuid": "dc440987e63199b551fa5d2d3d7b473cd1e5aaa8"
   },
   "outputs": [
    {
     "data": {
      "image/png": "[encoded data removed]",
      "text/plain": [
       "<matplotlib.figure.Figure at 0x11c4497b8>"
      ]
     },
     "metadata": {},
     "output_type": "display_data"
    }
   ],
   "source": [
    "# Explore Pclass vs Embarked \n",
    "g = sns.factorplot(\"Pclass\", col=\"Embarked\",  data=train,\n",
    "                   size=6, kind=\"count\", palette=\"muted\")\n",
    "g.despine(left=True)\n",
    "g = g.set_ylabels(\"Count\")"
   ]
  },
  {
   "cell_type": "markdown",
   "metadata": {
    "_cell_guid": "9811fd36-b4dd-4f4b-8698-2d9b4b0d5e23",
    "_uuid": "e932c14aaeb9a4acbaecc73e985e50b140d3812e"
   },
   "source": [
    "## 4. Filling Missing Values\n",
    "### 4.1 Age\n",
    "- 256개의 Missing values를 처리하고자 함\n",
    "- 성별의 경우 비슷한 비중을 차지하기 때문에 연령에 영향이 없는 것으로 판단(아래 그래프 참조).\n",
    "- 각 클래스나 가족별로 연령이 달랐던 점을 고려하여, 해당 범주의 평균으로 처리 하였음."
   ]
  },
  {
   "cell_type": "code",
   "execution_count": 33,
   "metadata": {},
   "outputs": [
    {
     "data": {
      "text/plain": [
       "256"
      ]
     },
     "execution_count": 33,
     "metadata": {},
     "output_type": "execute_result"
    }
   ],
   "source": [
    "all_data[\"Age\"].isnull().sum()"
   ]
  },
  {
   "cell_type": "code",
   "execution_count": 34,
   "metadata": {
    "_cell_guid": "bb2ce3ea-7519-40ac-b999-1a027888db27",
    "_execution_state": "idle",
    "_uuid": "785d0f035819eb3ad6c68c6ca19857d2b9affef5"
   },
   "outputs": [
    {
     "data": {
      "image/png": "[encoded data removed]",
      "text/plain": [
       "<matplotlib.figure.Figure at 0x11ce57048>"
      ]
     },
     "metadata": {},
     "output_type": "display_data"
    }
   ],
   "source": [
    "# Explore Age vs Sex, Parch , Pclass and SibSP\n",
    "plt.figure(figsize=(20,10))\n",
    "\n",
    "ax1 = plt.subplot(2,2,1)\n",
    "sns.boxplot(y=\"Age\",x=\"Sex\",data=all_data, ax=ax1)\n",
    "\n",
    "ax2 = plt.subplot(2,2,2)\n",
    "sns.boxplot(y=\"Age\",x=\"Sex\",hue=\"Pclass\", data=all_data, ax=ax2)\n",
    "\n",
    "ax3 = plt.subplot(2,2,3)\n",
    "sns.boxplot(y=\"Age\",x=\"Parch\", data=all_data, ax=ax3)\n",
    "\n",
    "ax4 = plt.subplot(2,2,4)\n",
    "sns.boxplot(y=\"Age\",x=\"SibSp\", data=all_data, ax=ax4)\n",
    "\n",
    "plt.show()"
   ]
  },
  {
   "cell_type": "code",
   "execution_count": 35,
   "metadata": {},
   "outputs": [],
   "source": [
    "# convert Sex into categorical value 0 for male and 1 for female\n",
    "all_data[\"Sex\"] = all_data[\"Sex\"].map({\"male\": 0, \"female\":1})"
   ]
  },
  {
   "cell_type": "markdown",
   "metadata": {},
   "source": [
    "* Pclass 와 SibSp 에서 음의 상관관계를 가짐."
   ]
  },
  {
   "cell_type": "code",
   "execution_count": 36,
   "metadata": {},
   "outputs": [
    {
     "data": {
      "image/png": "[encoded data removed]",
      "text/plain": [
       "<matplotlib.figure.Figure at 0x11ce57b38>"
      ]
     },
     "metadata": {},
     "output_type": "display_data"
    }
   ],
   "source": [
    "numeric = [\"Sex\",\"SibSp\",\"Parch\",\"Pclass\",\"Fare\",\"Age\"]\n",
    "corr = all_data[numeric].corr()\n",
    "mask = np.zeros_like(corr)\n",
    "mask[np.triu_indices_from(mask)] = True\n",
    "with sns.axes_style(\"white\"):\n",
    "    ax = sns.heatmap(corr, mask = mask, annot=True, fmt = \".2f\", cmap = \"YlGnBu\")"
   ]
  },
  {
   "cell_type": "code",
   "execution_count": 37,
   "metadata": {},
   "outputs": [],
   "source": [
    "# fill Age with the median age of similar rows according to Pclass and SibSp\n",
    "\n",
    "age_nan = list(all_data[\"Age\"][all_data[\"Age\"].isnull()].index)\n",
    "\n",
    "for i in age_nan:\n",
    "    age_median = all_data[\"Age\"].median()\n",
    "    age_pred = all_data[\"Age\"][((all_data['SibSp'] == all_data.iloc[i]['SibSp']) & (all_data['Pclass'] == all_data.iloc[i]['Pclass']))].median()\n",
    "    if not np.isnan(age_pred) :\n",
    "        all_data['Age'].iloc[i] = age_pred\n",
    "    else :\n",
    "        all_data['Age'].iloc[i] = age_median"
   ]
  },
  {
   "cell_type": "markdown",
   "metadata": {},
   "source": [
    "## 5. Feature engineering\n",
    "### 5.1 Name/Title\n",
    "- 아래 그래프와 같이 이름의 Title도 생존률에 영향을 미쳤음을 알 수 있음."
   ]
  },
  {
   "cell_type": "code",
   "execution_count": 38,
   "metadata": {
    "scrolled": true
   },
   "outputs": [
    {
     "data": {
      "text/plain": [
       "0                              Braund, Mr. Owen Harris\n",
       "1    Cumings, Mrs. John Bradley (Florence Briggs Th...\n",
       "2                               Heikkinen, Miss. Laina\n",
       "3         Futrelle, Mrs. Jacques Heath (Lily May Peel)\n",
       "4                             Allen, Mr. William Henry\n",
       "Name: Name, dtype: object"
      ]
     },
     "execution_count": 38,
     "metadata": {},
     "output_type": "execute_result"
    }
   ],
   "source": [
    "all_data[\"Name\"].head()"
   ]
  },
  {
   "cell_type": "code",
   "execution_count": 39,
   "metadata": {},
   "outputs": [
    {
     "data": {
      "image/png": "[encoded data removed]",
      "text/plain": [
       "<matplotlib.figure.Figure at 0x11cb23240>"
      ]
     },
     "metadata": {},
     "output_type": "display_data"
    }
   ],
   "source": [
    "# Get Title from Name\n",
    "dataset_title = [i.split(\",\")[1].split(\".\")[0].strip() for i in all_data[\"Name\"]]\n",
    "all_data[\"Title\"] = pd.Series(dataset_title)\n",
    "\n",
    "g = sns.countplot(x=\"Title\",data=all_data)\n",
    "g = plt.setp(g.get_xticklabels(), rotation=40) "
   ]
  },
  {
   "cell_type": "code",
   "execution_count": 40,
   "metadata": {},
   "outputs": [],
   "source": [
    "# Convert to categorical values Title \n",
    "all_data[\"Title\"] = all_data[\"Title\"].replace(['Lady', 'the Countess','Countess','Capt', 'Col','Don', 'Dr', 'Major', 'Rev', 'Sir', 'Jonkheer', 'Dona'], 'Rare')\n",
    "all_data[\"Title\"] = all_data[\"Title\"].map({\"Master\":0, \"Miss\":1, \"Ms\" : 1 , \"Mme\":1, \"Mlle\":1, \"Mrs\":1, \"Mr\":2, \"Rare\":3})\n",
    "all_data[\"Title\"] = all_data[\"Title\"].astype(int)"
   ]
  },
  {
   "cell_type": "code",
   "execution_count": 41,
   "metadata": {},
   "outputs": [
    {
     "data": {
      "image/png": "[encoded data removed]",
      "text/plain": [
       "<matplotlib.figure.Figure at 0x11d7bc470>"
      ]
     },
     "metadata": {},
     "output_type": "display_data"
    }
   ],
   "source": [
    "g = sns.countplot(all_data[\"Title\"])\n",
    "g = g.set_xticklabels([\"Master\",\"Miss/Ms/Mme/Mlle/Mrs\",\"Mr\",\"Rare\"])"
   ]
  },
  {
   "cell_type": "code",
   "execution_count": 42,
   "metadata": {
    "scrolled": true
   },
   "outputs": [
    {
     "data": {
      "image/png": "[encoded data removed]",
      "text/plain": [
       "<matplotlib.figure.Figure at 0x11c4272e8>"
      ]
     },
     "metadata": {},
     "output_type": "display_data"
    }
   ],
   "source": [
    "h = sns.factorplot(x=\"Title\",y=\"Survived\",data=all_data,kind=\"bar\")\n",
    "h.set_xticklabels([\"Master\",\"Miss-Mrs\",\"Mr\",\"Rare\"])\n",
    "h.set_ylabels(\"survival probability\")\n",
    "h.fig.set_size_inches(6,5)"
   ]
  },
  {
   "cell_type": "code",
   "execution_count": 43,
   "metadata": {},
   "outputs": [],
   "source": [
    "# Drop Name variable\n",
    "all_data.drop(labels = [\"Name\"], axis = 1, inplace = True)"
   ]
  },
  {
   "cell_type": "code",
   "execution_count": 44,
   "metadata": {},
   "outputs": [],
   "source": [
    "# convert to indicator values Title \n",
    "all_data = pd.get_dummies(all_data, columns = [\"Title\"], prefix = \"Title\")"
   ]
  },
  {
   "cell_type": "markdown",
   "metadata": {},
   "source": [
    "### 5.2 Family size\n",
    "- Sibsp, parch에 따른 생존률로 살펴보건데, 자신을 포함한 가족의 수(Family size)에 따라 생존률을 살펴보는 것이 의미가 있을 것으로 판단됨.\n",
    "- Sibsp + parch + 1(자기자신)을 통해 Family_size 라는 변수를 생성하였음.\n",
    "- 각 가족 수별 생존률을 기반으로 4개의 카테고리를 형성하였음."
   ]
  },
  {
   "cell_type": "code",
   "execution_count": 45,
   "metadata": {},
   "outputs": [],
   "source": [
    "# Create a family size descriptor from SibSp and Parch\n",
    "all_data[\"Family_size\"] = all_data[\"SibSp\"] + all_data[\"Parch\"] + 1"
   ]
  },
  {
   "cell_type": "code",
   "execution_count": 46,
   "metadata": {},
   "outputs": [
    {
     "data": {
      "image/png": "[encoded data removed]",
      "text/plain": [
       "<matplotlib.figure.Figure at 0x11d7a3b38>"
      ]
     },
     "metadata": {},
     "output_type": "display_data"
    }
   ],
   "source": [
    "g = sns.barplot(x=\"Family_size\",y=\"Survived\",data = all_data)"
   ]
  },
  {
   "cell_type": "code",
   "execution_count": 47,
   "metadata": {},
   "outputs": [],
   "source": [
    "# Create new feature of family size\n",
    "all_data['Single'] = all_data['Family_size'].map(lambda s: 1 if s == 1 else 0)\n",
    "all_data['Small_F'] = all_data['Family_size'].map(lambda s: 1 if  s == 2  else 0)\n",
    "all_data['Med_F'] = all_data['Family_size'].map(lambda s: 1 if 3 <= s <= 4 else 0)\n",
    "all_data['Large_F'] = all_data['Family_size'].map(lambda s: 1 if s >= 5 else 0)\n",
    "\n",
    "# Drop Family_size variable\n",
    "all_data.drop(labels = [\"Family_size\"], axis = 1, inplace = True)"
   ]
  },
  {
   "cell_type": "code",
   "execution_count": 48,
   "metadata": {},
   "outputs": [
    {
     "data": {
      "image/png": "[encoded data removed]",
      "text/plain": [
       "<matplotlib.figure.Figure at 0x11cd1a6d8>"
      ]
     },
     "metadata": {},
     "output_type": "display_data"
    }
   ],
   "source": [
    "plt.figure(figsize=(15,12))\n",
    "\n",
    "ax1 = plt.subplot(2,2,1)\n",
    "sns.barplot(x=\"Single\",y=\"Survived\",data=all_data,ax=ax1)\n",
    "\n",
    "ax2 = plt.subplot(2,2,2)\n",
    "sns.barplot(x=\"Small_F\",y=\"Survived\",data=all_data,ax=ax2)\n",
    "\n",
    "ax3 = plt.subplot(2,2,3)\n",
    "sns.barplot(x=\"Med_F\",y=\"Survived\",data=all_data,ax=ax3)\n",
    "\n",
    "ax4 = plt.subplot(2,2,4)\n",
    "sns.barplot(x=\"Large_F\",y=\"Survived\",data=all_data,ax=ax4)\n",
    "\n",
    "plt.show()"
   ]
  },
  {
   "cell_type": "markdown",
   "metadata": {},
   "source": [
    "### 5.3 Cabin"
   ]
  },
  {
   "cell_type": "code",
   "execution_count": 49,
   "metadata": {
    "scrolled": true
   },
   "outputs": [
    {
     "data": {
      "text/plain": [
       "0     NaN\n",
       "1     C85\n",
       "2     NaN\n",
       "3    C123\n",
       "4     NaN\n",
       "Name: Cabin, dtype: object"
      ]
     },
     "execution_count": 49,
     "metadata": {},
     "output_type": "execute_result"
    }
   ],
   "source": [
    "all_data[\"Cabin\"].head()"
   ]
  },
  {
   "cell_type": "code",
   "execution_count": 50,
   "metadata": {},
   "outputs": [
    {
     "data": {
      "text/plain": [
       "array([nan, 'C85', 'C123', 'E46', 'G6', 'C103', 'D56', 'A6', 'B78', 'D33',\n",
       "       'B30', 'C52', 'B28', 'C83', 'F33', 'F G73', 'E31', 'A5', 'D10 D12',\n",
       "       'D26', 'C110', 'B58 B60', 'E101', 'F E69', 'D47', 'B86', 'F2',\n",
       "       'C2', 'E33', 'B19', 'A7', 'C49', 'F4', 'A32', 'B4', 'B80', 'A31',\n",
       "       'D36', 'D15', 'C93', 'C78', 'D35', 'C87', 'B77', 'E67', 'B94',\n",
       "       'C125', 'C99', 'C118', 'D7', 'A19', 'B49', 'D', 'C22 C26', 'C106',\n",
       "       'C65', 'E36', 'C54', 'B57 B59 B63 B66', 'C7', 'E34', 'C32', 'B18',\n",
       "       'C124', 'C91', 'E40', 'T', 'C128', 'D37', 'B35', 'E50', 'C82',\n",
       "       'B96 B98', 'E10', 'E44', 'C23 C25 C27', 'A34', 'C104', 'C111',\n",
       "       'C92', 'E38', 'D21', 'E12', 'E63', 'A14', 'B37', 'C30', 'D20',\n",
       "       'B79', 'E25', 'D46', 'B73', 'C95', 'B38', 'B39', 'B22', 'C86',\n",
       "       'C70', 'A16', 'C101', 'C68', 'A10', 'E68', 'B41', 'A20', 'D19',\n",
       "       'D50', 'D9', 'A23', 'B50', 'A26', 'D48', 'E58', 'C126', 'B71',\n",
       "       'B51 B53 B55', 'D49', 'B5', 'B20', 'F G63', 'C62 C64', 'E24',\n",
       "       'C90', 'C45', 'E8', 'B101', 'D45', 'C46', 'D30', 'E121', 'D11',\n",
       "       'E77', 'F38', 'B3', 'D6', 'B82 B84', 'D17', 'A36', 'B102', 'B69',\n",
       "       'E49', 'C47', 'D28', 'E17', 'A24', 'C50', 'B42', 'C148', 'B45',\n",
       "       'B36', 'A21', 'D34', 'A9', 'C31', 'B61', 'C53', 'D43', 'C130',\n",
       "       'C132', 'C55 C57', 'C116', 'F', 'A29', 'C6', 'C28', 'C51', 'C97',\n",
       "       'D22', 'B10', 'E45', 'E52', 'A11', 'B11', 'C80', 'C89', 'F E46',\n",
       "       'B26', 'F E57', 'A18', 'E60', 'E39 E41', 'B52 B54 B56', 'C39',\n",
       "       'B24', 'D40', 'D38', 'C105'], dtype=object)"
      ]
     },
     "execution_count": 50,
     "metadata": {},
     "output_type": "execute_result"
    }
   ],
   "source": [
    "all_data.Cabin.unique()"
   ]
  },
  {
   "cell_type": "code",
   "execution_count": 51,
   "metadata": {},
   "outputs": [
    {
     "data": {
      "text/plain": [
       "1007"
      ]
     },
     "execution_count": 51,
     "metadata": {},
     "output_type": "execute_result"
    }
   ],
   "source": [
    "all_data['Cabin'].isnull().sum()"
   ]
  },
  {
   "cell_type": "code",
   "execution_count": 52,
   "metadata": {},
   "outputs": [
    {
     "data": {
      "text/plain": [
       "1      C85\n",
       "3     C123\n",
       "6      E46\n",
       "10      G6\n",
       "11    C103\n",
       "Name: Cabin, dtype: object"
      ]
     },
     "execution_count": 52,
     "metadata": {},
     "output_type": "execute_result"
    }
   ],
   "source": [
    "all_data[\"Cabin\"][all_data[\"Cabin\"].notnull()].head()"
   ]
  },
  {
   "cell_type": "code",
   "execution_count": 53,
   "metadata": {},
   "outputs": [],
   "source": [
    "# Replace the Cabin number by the type of cabin 'X' if not\n",
    "all_data[\"Cabin\"] = pd.Series([i[0] if not pd.isnull(i) else 'X' for i in all_data['Cabin'] ])"
   ]
  },
  {
   "cell_type": "code",
   "execution_count": 54,
   "metadata": {},
   "outputs": [
    {
     "data": {
      "image/png": "[encoded data removed]",
      "text/plain": [
       "<matplotlib.figure.Figure at 0x11cb17c50>"
      ]
     },
     "metadata": {},
     "output_type": "display_data"
    }
   ],
   "source": [
    "g = sns.countplot(all_data[\"Cabin\"],order=['A','B','C','D','E','F','G','T','X'])"
   ]
  },
  {
   "cell_type": "code",
   "execution_count": 55,
   "metadata": {},
   "outputs": [
    {
     "data": {
      "image/png": "[encoded data removed]",
      "text/plain": [
       "<matplotlib.figure.Figure at 0x11c63c5c0>"
      ]
     },
     "metadata": {},
     "output_type": "display_data"
    }
   ],
   "source": [
    "g = sns.factorplot(y=\"Survived\",x=\"Cabin\",data=all_data,kind=\"bar\",order=['A','B','C','D','E','F','G','T','X'])\n",
    "g = g.set_ylabels(\"Survival Probability\")"
   ]
  },
  {
   "cell_type": "code",
   "execution_count": 56,
   "metadata": {},
   "outputs": [],
   "source": [
    "# convert to indicator values Cabin \n",
    "all_data = pd.get_dummies(all_data, columns = [\"Cabin\"],prefix=\"Cabin\")"
   ]
  },
  {
   "cell_type": "markdown",
   "metadata": {},
   "source": [
    "### 5.4 Ticket"
   ]
  },
  {
   "cell_type": "code",
   "execution_count": 57,
   "metadata": {},
   "outputs": [
    {
     "data": {
      "text/plain": [
       "0           A/5 21171\n",
       "1            PC 17599\n",
       "2    STON/O2. 3101282\n",
       "3              113803\n",
       "4              373450\n",
       "Name: Ticket, dtype: object"
      ]
     },
     "execution_count": 57,
     "metadata": {},
     "output_type": "execute_result"
    }
   ],
   "source": [
    "all_data[\"Ticket\"].head()"
   ]
  },
  {
   "cell_type": "code",
   "execution_count": 58,
   "metadata": {},
   "outputs": [
    {
     "data": {
      "text/plain": [
       "0        A5\n",
       "1        PC\n",
       "2    STONO2\n",
       "3         X\n",
       "4         X\n",
       "Name: Ticket, dtype: object"
      ]
     },
     "execution_count": 58,
     "metadata": {},
     "output_type": "execute_result"
    }
   ],
   "source": [
    "Ticket = []\n",
    "\n",
    "for i in list(all_data.Ticket):\n",
    "    if not i.isdigit():\n",
    "        #Take prefix\n",
    "        Ticket.append(i.replace(\".\", \"\").replace(\"/\",\"\").strip().split(' ')[0])\n",
    "    else:\n",
    "        Ticket.append('X')\n",
    "                      \n",
    "all_data['Ticket'] = Ticket\n",
    "all_data['Ticket'].head()\n"
   ]
  },
  {
   "cell_type": "code",
   "execution_count": 59,
   "metadata": {
    "scrolled": true
   },
   "outputs": [],
   "source": [
    "all_data = pd.get_dummies(all_data, columns = [\"Ticket\"], prefix=\"Ticket\")\n",
    "all_data = pd.get_dummies(all_data, columns = [\"Pclass\"],prefix=\"Pclass\")\n",
    "all_data = pd.get_dummies(all_data, columns = [\"Embarked\"],prefix=\"Embarked\")\n",
    "\n",
    "# Drop useless variables \n",
    "all_data.drop(labels = [\"PassengerId\"], axis = 1, inplace = True)"
   ]
  },
  {
   "cell_type": "code",
   "execution_count": 60,
   "metadata": {},
   "outputs": [],
   "source": [
    "numerical_features = []\n",
    "categorical_features = []\n",
    "for f in all_data.columns:\n",
    "    if all_data.dtypes[f] != 'object':\n",
    "        numerical_features.append(f)\n",
    "    else:\n",
    "        categorical_features.append(f)"
   ]
  },
  {
   "cell_type": "code",
   "execution_count": 61,
   "metadata": {},
   "outputs": [
    {
     "data": {
      "text/plain": [
       "[]"
      ]
     },
     "execution_count": 61,
     "metadata": {},
     "output_type": "execute_result"
    }
   ],
   "source": [
    "categorical_features"
   ]
  },
  {
   "cell_type": "markdown",
   "metadata": {},
   "source": [
    "## 6. Modeling\n",
    "- 모델링은 StatModels를 활용한 모델링과 Tensorflow를 활용한 모델을 적용해 보았음."
   ]
  },
  {
   "cell_type": "markdown",
   "metadata": {},
   "source": [
    "### 6-1 StatModels Logistic Regression"
   ]
  },
  {
   "cell_type": "code",
   "execution_count": 62,
   "metadata": {},
   "outputs": [],
   "source": [
    "all_data = all_data.drop(labels=[\"Ticket_SCA3\", \"Ticket_STONOQ\", \"Ticket_AQ4\", \"Ticket_AQ3\", \"Ticket_A\", \"Ticket_LP\"], axis=1)"
   ]
  },
  {
   "cell_type": "markdown",
   "metadata": {},
   "source": [
    "* 모델링에 앞서 정량적 변수인 Age와 Fare를 스케일링 해주었음."
   ]
  },
  {
   "cell_type": "code",
   "execution_count": 63,
   "metadata": {},
   "outputs": [],
   "source": [
    "from sklearn.preprocessing import MinMaxScaler\n",
    "\n",
    "def normalize_age(data):\n",
    "    scaler = MinMaxScaler()\n",
    "    data[\"Age\"] = scaler.fit_transform(data[\"Age\"].values.reshape(-1,1))\n",
    "    return data\n",
    "\n",
    "\n",
    "def normalize_fare(data):\n",
    "    scaler = MinMaxScaler()\n",
    "    data[\"Fare\"] = scaler.fit_transform(data[\"Fare\"].values.reshape(-1,1))\n",
    "    return data\n",
    "\n",
    "all_data = normalize_age(all_data)\n",
    "all_data = normalize_fare(all_data)"
   ]
  },
  {
   "cell_type": "markdown",
   "metadata": {},
   "source": [
    "* train data set 과 test data set을 분리 하였음"
   ]
  },
  {
   "cell_type": "code",
   "execution_count": 64,
   "metadata": {},
   "outputs": [],
   "source": [
    "# Separate train dataset and test dataset\n",
    "train = all_data[:train_len]\n",
    "X_test = all_data[train_len:]\n",
    "X_test.drop(labels=[\"Survived\"],axis = 1,inplace=True)"
   ]
  },
  {
   "cell_type": "code",
   "execution_count": 67,
   "metadata": {},
   "outputs": [
    {
     "data": {
      "text/plain": [
       "((881, 59), (881, 1))"
      ]
     },
     "execution_count": 67,
     "metadata": {},
     "output_type": "execute_result"
    }
   ],
   "source": [
    "y_train = y_train[:,np.newaxis]\n",
    "X_train.shape, y_train.shape"
   ]
  },
  {
   "cell_type": "markdown",
   "metadata": {},
   "source": [
    "* 분석 대상인 Survived 테이블을 y_train으로 별도 생성하고, x 값에서 Survived를 제외한 X_train을 생성하였음."
   ]
  },
  {
   "cell_type": "code",
   "execution_count": 66,
   "metadata": {},
   "outputs": [],
   "source": [
    "# Separate train features and label \n",
    "train[\"Survived\"] = train[\"Survived\"].astype(int)\n",
    "y_train = train[\"Survived\"]\n",
    "X_train = train.drop(labels = [\"Survived\"],axis = 1)\n",
    "# X_train = sm.add_constant(X_train_0)"
   ]
  },
  {
   "cell_type": "markdown",
   "metadata": {},
   "source": [
    "* statsmodels의 logstic regression 모델을 적용 하였음"
   ]
  },
  {
   "cell_type": "code",
   "execution_count": 68,
   "metadata": {
    "scrolled": false
   },
   "outputs": [
    {
     "name": "stderr",
     "output_type": "stream",
     "text": [
      "/usr/local/Cellar/python3/3.6.4_2/Frameworks/Python.framework/Versions/3.6/lib/python3.6/site-packages/statsmodels/base/model.py:496: ConvergenceWarning: Maximum Likelihood optimization failed to converge. Check mle_retvals\n",
      "  \"Check mle_retvals\", ConvergenceWarning)\n"
     ]
    }
   ],
   "source": [
    "logit_mod = sm.Logit(y_train, X_train)\n",
    "logit_res = logit_mod.fit(disp=0)"
   ]
  },
  {
   "cell_type": "code",
   "execution_count": 69,
   "metadata": {},
   "outputs": [
    {
     "data": {
      "text/html": [
       "<table class=\"simpletable\">\n",
       "<tr>\n",
       "        <td>Model:</td>              <td>Logit</td>       <td>No. Iterations:</td>   <td>35.0000</td> \n",
       "</tr>\n",
       "<tr>\n",
       "  <td>Dependent Variable:</td>         <td>y</td>        <td>Pseudo R-squared:</td>   <td>0.447</td>  \n",
       "</tr>\n",
       "<tr>\n",
       "         <td>Date:</td>        <td>2018-03-22 22:23</td>       <td>AIC:</td>        <td>757.5343</td> \n",
       "</tr>\n",
       "<tr>\n",
       "   <td>No. Observations:</td>         <td>881</td>             <td>BIC:</td>        <td>1015.7114</td>\n",
       "</tr>\n",
       "<tr>\n",
       "       <td>Df Model:</td>             <td>53</td>         <td>Log-Likelihood:</td>   <td>-324.77</td> \n",
       "</tr>\n",
       "<tr>\n",
       "     <td>Df Residuals:</td>           <td>827</td>           <td>LL-Null:</td>       <td>-587.53</td> \n",
       "</tr>\n",
       "<tr>\n",
       "      <td>Converged:</td>           <td>0.0000</td>           <td>Scale:</td>        <td>1.0000</td>  \n",
       "</tr>\n",
       "</table>\n",
       "<table class=\"simpletable\">\n",
       "<tr>\n",
       "         <td></td>          <th>Coef.</th>     <th>Std.Err.</th>        <th>z</th>     <th>P>|z|</th>      <th>[0.025</th>            <th>0.975]</th>     \n",
       "</tr>\n",
       "<tr>\n",
       "  <th>Age</th>             <td>-1.9041</td>     <td>0.7930</td>      <td>-2.4010</td> <td>0.0163</td>      <td>-3.4585</td>           <td>-0.3498</td>    \n",
       "</tr>\n",
       "<tr>\n",
       "  <th>Fare</th>            <td>3.6017</td>      <td>1.4137</td>      <td>2.5478</td>  <td>0.0108</td>      <td>0.8310</td>            <td>6.3725</td>     \n",
       "</tr>\n",
       "<tr>\n",
       "  <th>Parch</th>           <td>0.2234</td>      <td>0.4154</td>      <td>0.5377</td>  <td>0.5908</td>      <td>-0.5908</td>           <td>1.0375</td>     \n",
       "</tr>\n",
       "<tr>\n",
       "  <th>Sex</th>             <td>24.8083</td>   <td>148963.0645</td>   <td>0.0002</td>  <td>0.9999</td>   <td>-291937.4331</td>       <td>291987.0497</td>  \n",
       "</tr>\n",
       "<tr>\n",
       "  <th>SibSp</th>           <td>0.0817</td>      <td>0.3933</td>      <td>0.2077</td>  <td>0.8354</td>      <td>-0.6891</td>           <td>0.8525</td>     \n",
       "</tr>\n",
       "<tr>\n",
       "  <th>Title_0</th>         <td>5.4235</td>   <td>9708820.2846</td>   <td>0.0000</td>  <td>1.0000</td>  <td>-19028932.6667</td>     <td>19028943.5136</td> \n",
       "</tr>\n",
       "<tr>\n",
       "  <th>Title_1</th>        <td>-19.7145</td>  <td>9401583.1157</td>   <td>-0.0000</td> <td>1.0000</td>  <td>-18426784.0190</td>     <td>18426744.5900</td> \n",
       "</tr>\n",
       "<tr>\n",
       "  <th>Title_2</th>         <td>1.7434</td>   <td>9368066.3830</td>   <td>0.0000</td>  <td>1.0000</td>  <td>-18361070.9720</td>     <td>18361074.4589</td> \n",
       "</tr>\n",
       "<tr>\n",
       "  <th>Title_3</th>         <td>2.0625</td>   <td>10181179.0694</td>  <td>0.0000</td>  <td>1.0000</td>  <td>-19954742.2337</td>     <td>19954746.3587</td> \n",
       "</tr>\n",
       "<tr>\n",
       "  <th>Single</th>          <td>-1.4826</td>       <td>nan</td>         <td>nan</td>     <td>nan</td>         <td>nan</td>               <td>nan</td>      \n",
       "</tr>\n",
       "<tr>\n",
       "  <th>Small_F</th>         <td>-2.1498</td>       <td>nan</td>         <td>nan</td>     <td>nan</td>         <td>nan</td>               <td>nan</td>      \n",
       "</tr>\n",
       "<tr>\n",
       "  <th>Med_F</th>           <td>-2.2844</td>       <td>nan</td>         <td>nan</td>     <td>nan</td>         <td>nan</td>               <td>nan</td>      \n",
       "</tr>\n",
       "<tr>\n",
       "  <th>Large_F</th>         <td>-5.7260</td>       <td>nan</td>         <td>nan</td>     <td>nan</td>         <td>nan</td>               <td>nan</td>      \n",
       "</tr>\n",
       "<tr>\n",
       "  <th>Cabin_A</th>         <td>0.9623</td>   <td>8917833.7273</td>   <td>0.0000</td>  <td>1.0000</td>  <td>-17478631.9634</td>     <td>17478633.8879</td> \n",
       "</tr>\n",
       "<tr>\n",
       "  <th>Cabin_B</th>         <td>1.1687</td>   <td>11073633.3750</td>  <td>0.0000</td>  <td>1.0000</td>  <td>-21703921.4244</td>     <td>21703923.7618</td> \n",
       "</tr>\n",
       "<tr>\n",
       "  <th>Cabin_C</th>         <td>0.3599</td>   <td>10312188.1475</td>  <td>0.0000</td>  <td>1.0000</td>  <td>-20211517.0111</td>     <td>20211517.7309</td> \n",
       "</tr>\n",
       "<tr>\n",
       "  <th>Cabin_D</th>         <td>1.4860</td>   <td>9685082.5911</td>   <td>0.0000</td>  <td>1.0000</td>  <td>-18982411.5798</td>     <td>18982414.5518</td> \n",
       "</tr>\n",
       "<tr>\n",
       "  <th>Cabin_E</th>         <td>2.2458</td>   <td>11150361.1062</td>  <td>0.0000</td>  <td>1.0000</td>  <td>-21854303.9370</td>     <td>21854308.4286</td> \n",
       "</tr>\n",
       "<tr>\n",
       "  <th>Cabin_F</th>         <td>0.6525</td>   <td>10863381.0871</td>  <td>0.0000</td>  <td>1.0000</td>  <td>-21291835.0285</td>     <td>21291836.3336</td> \n",
       "</tr>\n",
       "<tr>\n",
       "  <th>Cabin_G</th>         <td>-1.7166</td>  <td>10712666.1849</td>  <td>-0.0000</td> <td>1.0000</td>  <td>-20996441.6173</td>     <td>20996438.1841</td> \n",
       "</tr>\n",
       "<tr>\n",
       "  <th>Cabin_T</th>        <td>-16.7290</td>  <td>11745243.7951</td>  <td>-0.0000</td> <td>1.0000</td>  <td>-23020271.5571</td>     <td>23020238.0991</td> \n",
       "</tr>\n",
       "<tr>\n",
       "  <th>Cabin_X</th>         <td>0.1123</td>   <td>10548366.0349</td>  <td>0.0000</td>  <td>1.0000</td>  <td>-20674417.4118</td>     <td>20674417.6364</td> \n",
       "</tr>\n",
       "<tr>\n",
       "  <th>Ticket_A4</th>      <td>-16.5855</td>  <td>14766768.0054</td>  <td>-0.0000</td> <td>1.0000</td>  <td>-28942350.0441</td>     <td>28942316.8730</td> \n",
       "</tr>\n",
       "<tr>\n",
       "  <th>Ticket_A5</th>       <td>5.9081</td>   <td>14397780.0297</td>  <td>0.0000</td>  <td>1.0000</td>  <td>-28219124.4073</td>     <td>28219136.2236</td> \n",
       "</tr>\n",
       "<tr>\n",
       "  <th>Ticket_AS</th>      <td>-14.6666</td>  <td>13937658.0190</td>  <td>-0.0000</td> <td>1.0000</td>  <td>-27317322.4126</td>     <td>27317293.0794</td> \n",
       "</tr>\n",
       "<tr>\n",
       "  <th>Ticket_C</th>        <td>7.7569</td>   <td>13854270.2931</td>  <td>0.0000</td>  <td>1.0000</td>  <td>-27153863.0496</td>     <td>27153878.5635</td> \n",
       "</tr>\n",
       "<tr>\n",
       "  <th>Ticket_CA</th>       <td>5.8819</td>   <td>14740318.5739</td>  <td>0.0000</td>  <td>1.0000</td>  <td>-28890487.6437</td>     <td>28890499.4074</td> \n",
       "</tr>\n",
       "<tr>\n",
       "  <th>Ticket_CASOTON</th> <td>-15.6115</td>  <td>14210370.5038</td>  <td>-0.0000</td> <td>1.0000</td>  <td>-27851830.0059</td>     <td>27851798.7829</td> \n",
       "</tr>\n",
       "<tr>\n",
       "  <th>Ticket_FC</th>      <td>-16.8262</td>  <td>12848346.2797</td>  <td>-0.0000</td> <td>1.0000</td>  <td>-25182312.7954</td>     <td>25182279.1429</td> \n",
       "</tr>\n",
       "<tr>\n",
       "  <th>Ticket_FCC</th>      <td>7.0451</td>   <td>13992127.1243</td>  <td>0.0000</td>  <td>1.0000</td>  <td>-27424058.1856</td>     <td>27424072.2757</td> \n",
       "</tr>\n",
       "<tr>\n",
       "  <th>Ticket_Fa</th>      <td>-14.6112</td>  <td>13910198.9618</td>  <td>-0.0000</td> <td>1.0000</td>  <td>-27263503.5941</td>     <td>27263474.3717</td> \n",
       "</tr>\n",
       "<tr>\n",
       "  <th>Ticket_LINE</th>     <td>9.0379</td>   <td>13909576.9812</td>  <td>0.0000</td>  <td>1.0000</td>  <td>-27262260.8855</td>     <td>27262278.9613</td> \n",
       "</tr>\n",
       "<tr>\n",
       "  <th>Ticket_PC</th>       <td>5.3761</td>   <td>13964664.6304</td>  <td>0.0000</td>  <td>1.0000</td>  <td>-27370234.3557</td>     <td>27370245.1079</td> \n",
       "</tr>\n",
       "<tr>\n",
       "  <th>Ticket_PP</th>       <td>8.2737</td>   <td>13055398.6976</td>  <td>0.0000</td>  <td>1.0000</td>  <td>-25588102.9775</td>     <td>25588119.5249</td> \n",
       "</tr>\n",
       "<tr>\n",
       "  <th>Ticket_PPP</th>      <td>5.6575</td>   <td>13288549.2408</td>  <td>0.0000</td>  <td>1.0000</td>  <td>-26045072.2613</td>     <td>26045083.5763</td> \n",
       "</tr>\n",
       "<tr>\n",
       "  <th>Ticket_SC</th>       <td>19.7741</td>  <td>13201600.7333</td>  <td>0.0000</td>  <td>1.0000</td>  <td>-25874642.2015</td>     <td>25874681.7497</td> \n",
       "</tr>\n",
       "<tr>\n",
       "  <th>Ticket_SCA4</th>    <td>-14.6677</td>  <td>13631321.6981</td>  <td>-0.0000</td> <td>1.0000</td>  <td>-26716914.2578</td>     <td>26716884.9223</td> \n",
       "</tr>\n",
       "<tr>\n",
       "  <th>Ticket_SCAH</th>     <td>6.4131</td>   <td>14209916.5104</td>  <td>0.0000</td>  <td>1.0000</td>  <td>-27850918.1706</td>     <td>27850930.9968</td> \n",
       "</tr>\n",
       "<tr>\n",
       "  <th>Ticket_SCOW</th>    <td>-15.5679</td>  <td>13143802.1545</td>  <td>-0.0000</td> <td>1.0000</td>  <td>-25761394.4106</td>     <td>25761363.2749</td> \n",
       "</tr>\n",
       "<tr>\n",
       "  <th>Ticket_SCPARIS</th>  <td>5.8803</td>   <td>13374932.9191</td>  <td>0.0000</td>  <td>1.0000</td>  <td>-26214380.9367</td>     <td>26214392.6974</td> \n",
       "</tr>\n",
       "<tr>\n",
       "  <th>Ticket_SCParis</th>  <td>4.5952</td>   <td>14556876.3514</td>  <td>0.0000</td>  <td>1.0000</td>  <td>-28530948.7810</td>     <td>28530957.9714</td> \n",
       "</tr>\n",
       "<tr>\n",
       "  <th>Ticket_SOC</th>      <td>4.3948</td>   <td>12818008.0115</td>  <td>0.0000</td>  <td>1.0000</td>  <td>-25122829.6613</td>     <td>25122838.4509</td> \n",
       "</tr>\n",
       "<tr>\n",
       "  <th>Ticket_SOP</th>     <td>-15.4109</td>  <td>13260085.6802</td>  <td>-0.0000</td> <td>1.0000</td>  <td>-25989305.7760</td>     <td>25989274.9543</td> \n",
       "</tr>\n",
       "<tr>\n",
       "  <th>Ticket_SOPP</th>    <td>-42.8783</td> <td>8563459667.8525</td> <td>-0.0000</td> <td>1.0000</td> <td>-16784072574.9306</td> <td>16784072489.1741</td>\n",
       "</tr>\n",
       "<tr>\n",
       "  <th>Ticket_SOTONO2</th> <td>-14.4844</td>  <td>13937389.6402</td>  <td>-0.0000</td> <td>1.0000</td>  <td>-27316796.2178</td>     <td>27316767.2489</td> \n",
       "</tr>\n",
       "<tr>\n",
       "  <th>Ticket_SOTONOQ</th>  <td>6.2007</td>   <td>13937148.0231</td>  <td>0.0000</td>  <td>1.0000</td>  <td>-27316301.9718</td>     <td>27316314.3733</td> \n",
       "</tr>\n",
       "<tr>\n",
       "  <th>Ticket_SP</th>      <td>-14.8291</td>  <td>13937664.4132</td>  <td>-0.0000</td> <td>1.0000</td>  <td>-27317335.1076</td>     <td>27317305.4494</td> \n",
       "</tr>\n",
       "<tr>\n",
       "  <th>Ticket_STONO</th>    <td>8.5330</td>   <td>13937148.0231</td>  <td>0.0000</td>  <td>1.0000</td>  <td>-27316299.6395</td>     <td>27316316.7055</td> \n",
       "</tr>\n",
       "<tr>\n",
       "  <th>Ticket_STONO2</th>   <td>5.9031</td>   <td>13881951.1804</td>  <td>0.0000</td>  <td>1.0000</td>  <td>-27208118.4457</td>     <td>27208130.2518</td> \n",
       "</tr>\n",
       "<tr>\n",
       "  <th>Ticket_SWPP</th>     <td>13.1938</td>  <td>14128638.9142</td>  <td>0.0000</td>  <td>1.0000</td>  <td>-27691610.2286</td>     <td>27691636.6163</td> \n",
       "</tr>\n",
       "<tr>\n",
       "  <th>Ticket_WC</th>       <td>4.1851</td>   <td>14609523.4540</td>  <td>0.0000</td>  <td>1.0000</td>  <td>-28634135.6161</td>     <td>28634143.9863</td> \n",
       "</tr>\n",
       "<tr>\n",
       "  <th>Ticket_WEP</th>      <td>3.8727</td>   <td>13489250.6640</td>  <td>0.0000</td>  <td>1.0000</td>  <td>-26438441.6071</td>     <td>26438449.3526</td> \n",
       "</tr>\n",
       "<tr>\n",
       "  <th>Ticket_X</th>        <td>5.9624</td>   <td>14290731.8531</td>  <td>0.0000</td>  <td>1.0000</td>  <td>-28009313.7824</td>     <td>28009325.7072</td> \n",
       "</tr>\n",
       "<tr>\n",
       "  <th>Pclass_1</th>        <td>-4.0069</td>       <td>nan</td>         <td>nan</td>     <td>nan</td>         <td>nan</td>               <td>nan</td>      \n",
       "</tr>\n",
       "<tr>\n",
       "  <th>Pclass_2</th>        <td>-4.1083</td>       <td>nan</td>         <td>nan</td>     <td>nan</td>         <td>nan</td>               <td>nan</td>      \n",
       "</tr>\n",
       "<tr>\n",
       "  <th>Pclass_3</th>        <td>-5.0833</td>       <td>nan</td>         <td>nan</td>     <td>nan</td>         <td>nan</td>               <td>nan</td>      \n",
       "</tr>\n",
       "<tr>\n",
       "  <th>Embarked_C</th>      <td>-4.1821</td>  <td>14378912.3083</td>  <td>-0.0000</td> <td>1.0000</td>  <td>-28182154.4431</td>     <td>28182146.0790</td> \n",
       "</tr>\n",
       "<tr>\n",
       "  <th>Embarked_Q</th>      <td>-4.3371</td>  <td>14378912.3083</td>  <td>-0.0000</td> <td>1.0000</td>  <td>-28182154.5982</td>     <td>28182145.9239</td> \n",
       "</tr>\n",
       "<tr>\n",
       "  <th>Embarked_S</th>      <td>-4.6798</td>  <td>14378912.3083</td>  <td>-0.0000</td> <td>1.0000</td>  <td>-28182154.9409</td>     <td>28182145.5813</td> \n",
       "</tr>\n",
       "</table>"
      ],
      "text/plain": [
       "<class 'statsmodels.iolib.summary2.Summary'>\n",
       "\"\"\"\n",
       "                                     Results: Logit\n",
       "=========================================================================================\n",
       "Model:                       Logit                    No. Iterations:           35.0000  \n",
       "Dependent Variable:          y                        Pseudo R-squared:         0.447    \n",
       "Date:                        2018-03-22 22:23         AIC:                      757.5343 \n",
       "No. Observations:            881                      BIC:                      1015.7114\n",
       "Df Model:                    53                       Log-Likelihood:           -324.77  \n",
       "Df Residuals:                827                      LL-Null:                  -587.53  \n",
       "Converged:                   0.0000                   Scale:                    1.0000   \n",
       "-----------------------------------------------------------------------------------------\n",
       "                Coef.       Std.Err.       z    P>|z|        [0.025           0.975]     \n",
       "-----------------------------------------------------------------------------------------\n",
       "Age             -1.9041          0.7930 -2.4010 0.0163           -3.4585          -0.3498\n",
       "Fare             3.6017          1.4137  2.5478 0.0108            0.8310           6.3725\n",
       "Parch            0.2234          0.4154  0.5377 0.5908           -0.5908           1.0375\n",
       "Sex             24.8083     148963.0645  0.0002 0.9999      -291937.4331      291987.0497\n",
       "SibSp            0.0817          0.3933  0.2077 0.8354           -0.6891           0.8525\n",
       "Title_0          5.4235    9708820.2846  0.0000 1.0000    -19028932.6667    19028943.5136\n",
       "Title_1        -19.7145    9401583.1157 -0.0000 1.0000    -18426784.0190    18426744.5900\n",
       "Title_2          1.7434    9368066.3830  0.0000 1.0000    -18361070.9720    18361074.4589\n",
       "Title_3          2.0625   10181179.0694  0.0000 1.0000    -19954742.2337    19954746.3587\n",
       "Single          -1.4826             nan     nan    nan               nan              nan\n",
       "Small_F         -2.1498             nan     nan    nan               nan              nan\n",
       "Med_F           -2.2844             nan     nan    nan               nan              nan\n",
       "Large_F         -5.7260             nan     nan    nan               nan              nan\n",
       "Cabin_A          0.9623    8917833.7273  0.0000 1.0000    -17478631.9634    17478633.8879\n",
       "Cabin_B          1.1687   11073633.3750  0.0000 1.0000    -21703921.4244    21703923.7618\n",
       "Cabin_C          0.3599   10312188.1475  0.0000 1.0000    -20211517.0111    20211517.7309\n",
       "Cabin_D          1.4860    9685082.5911  0.0000 1.0000    -18982411.5798    18982414.5518\n",
       "Cabin_E          2.2458   11150361.1062  0.0000 1.0000    -21854303.9370    21854308.4286\n",
       "Cabin_F          0.6525   10863381.0871  0.0000 1.0000    -21291835.0285    21291836.3336\n",
       "Cabin_G         -1.7166   10712666.1849 -0.0000 1.0000    -20996441.6173    20996438.1841\n",
       "Cabin_T        -16.7290   11745243.7951 -0.0000 1.0000    -23020271.5571    23020238.0991\n",
       "Cabin_X          0.1123   10548366.0349  0.0000 1.0000    -20674417.4118    20674417.6364\n",
       "Ticket_A4      -16.5855   14766768.0054 -0.0000 1.0000    -28942350.0441    28942316.8730\n",
       "Ticket_A5        5.9081   14397780.0297  0.0000 1.0000    -28219124.4073    28219136.2236\n",
       "Ticket_AS      -14.6666   13937658.0190 -0.0000 1.0000    -27317322.4126    27317293.0794\n",
       "Ticket_C         7.7569   13854270.2931  0.0000 1.0000    -27153863.0496    27153878.5635\n",
       "Ticket_CA        5.8819   14740318.5739  0.0000 1.0000    -28890487.6437    28890499.4074\n",
       "Ticket_CASOTON -15.6115   14210370.5038 -0.0000 1.0000    -27851830.0059    27851798.7829\n",
       "Ticket_FC      -16.8262   12848346.2797 -0.0000 1.0000    -25182312.7954    25182279.1429\n",
       "Ticket_FCC       7.0451   13992127.1243  0.0000 1.0000    -27424058.1856    27424072.2757\n",
       "Ticket_Fa      -14.6112   13910198.9618 -0.0000 1.0000    -27263503.5941    27263474.3717\n",
       "Ticket_LINE      9.0379   13909576.9812  0.0000 1.0000    -27262260.8855    27262278.9613\n",
       "Ticket_PC        5.3761   13964664.6304  0.0000 1.0000    -27370234.3557    27370245.1079\n",
       "Ticket_PP        8.2737   13055398.6976  0.0000 1.0000    -25588102.9775    25588119.5249\n",
       "Ticket_PPP       5.6575   13288549.2408  0.0000 1.0000    -26045072.2613    26045083.5763\n",
       "Ticket_SC       19.7741   13201600.7333  0.0000 1.0000    -25874642.2015    25874681.7497\n",
       "Ticket_SCA4    -14.6677   13631321.6981 -0.0000 1.0000    -26716914.2578    26716884.9223\n",
       "Ticket_SCAH      6.4131   14209916.5104  0.0000 1.0000    -27850918.1706    27850930.9968\n",
       "Ticket_SCOW    -15.5679   13143802.1545 -0.0000 1.0000    -25761394.4106    25761363.2749\n",
       "Ticket_SCPARIS   5.8803   13374932.9191  0.0000 1.0000    -26214380.9367    26214392.6974\n",
       "Ticket_SCParis   4.5952   14556876.3514  0.0000 1.0000    -28530948.7810    28530957.9714\n",
       "Ticket_SOC       4.3948   12818008.0115  0.0000 1.0000    -25122829.6613    25122838.4509\n",
       "Ticket_SOP     -15.4109   13260085.6802 -0.0000 1.0000    -25989305.7760    25989274.9543\n",
       "Ticket_SOPP    -42.8783 8563459667.8525 -0.0000 1.0000 -16784072574.9306 16784072489.1741\n",
       "Ticket_SOTONO2 -14.4844   13937389.6402 -0.0000 1.0000    -27316796.2178    27316767.2489\n",
       "Ticket_SOTONOQ   6.2007   13937148.0231  0.0000 1.0000    -27316301.9718    27316314.3733\n",
       "Ticket_SP      -14.8291   13937664.4132 -0.0000 1.0000    -27317335.1076    27317305.4494\n",
       "Ticket_STONO     8.5330   13937148.0231  0.0000 1.0000    -27316299.6395    27316316.7055\n",
       "Ticket_STONO2    5.9031   13881951.1804  0.0000 1.0000    -27208118.4457    27208130.2518\n",
       "Ticket_SWPP     13.1938   14128638.9142  0.0000 1.0000    -27691610.2286    27691636.6163\n",
       "Ticket_WC        4.1851   14609523.4540  0.0000 1.0000    -28634135.6161    28634143.9863\n",
       "Ticket_WEP       3.8727   13489250.6640  0.0000 1.0000    -26438441.6071    26438449.3526\n",
       "Ticket_X         5.9624   14290731.8531  0.0000 1.0000    -28009313.7824    28009325.7072\n",
       "Pclass_1        -4.0069             nan     nan    nan               nan              nan\n",
       "Pclass_2        -4.1083             nan     nan    nan               nan              nan\n",
       "Pclass_3        -5.0833             nan     nan    nan               nan              nan\n",
       "Embarked_C      -4.1821   14378912.3083 -0.0000 1.0000    -28182154.4431    28182146.0790\n",
       "Embarked_Q      -4.3371   14378912.3083 -0.0000 1.0000    -28182154.5982    28182145.9239\n",
       "Embarked_S      -4.6798   14378912.3083 -0.0000 1.0000    -28182154.9409    28182145.5813\n",
       "=========================================================================================\n",
       "\n",
       "\"\"\""
      ]
     },
     "execution_count": 69,
     "metadata": {},
     "output_type": "execute_result"
    }
   ],
   "source": [
    "logit_res.summary2()"
   ]
  },
  {
   "cell_type": "code",
   "execution_count": 70,
   "metadata": {},
   "outputs": [],
   "source": [
    "predTest_l = logit_res.predict(X_test)\n",
    "predTest_ll = np.array(predTest_l)\n",
    "binarizer = Binarizer(0.5)\n",
    "predTest_ll = predTest_ll[:,np.newaxis]\n",
    "predTest_b = binarizer.fit_transform(predTest_ll)\n",
    "predTest = predTest_b.astype(np.int32)"
   ]
  },
  {
   "cell_type": "code",
   "execution_count": 71,
   "metadata": {},
   "outputs": [
    {
     "data": {
      "text/plain": [
       "<matplotlib.axes._subplots.AxesSubplot at 0x11d2a5828>"
      ]
     },
     "execution_count": 71,
     "metadata": {},
     "output_type": "execute_result"
    },
    {
     "data": {
      "image/png": "[encoded data removed]",
      "text/plain": [
       "<matplotlib.figure.Figure at 0x11c4c3668>"
      ]
     },
     "metadata": {},
     "output_type": "display_data"
    }
   ],
   "source": [
    "fig,(ax1,ax2)= plt.subplots(ncols=2)\n",
    "fig.set_size_inches(12,5)\n",
    "sns.distplot(y_train,ax=ax1,bins=50)\n",
    "sns.distplot(predTest,ax=ax2,bins=50)"
   ]
  },
  {
   "cell_type": "code",
   "execution_count": 72,
   "metadata": {},
   "outputs": [
    {
     "name": "stdout",
     "output_type": "stream",
     "text": [
      "(418, 2)\n"
     ]
    },
    {
     "data": {
      "text/html": [
       "<div>\n",
       "<style scoped>\n",
       "    .dataframe tbody tr th:only-of-type {\n",
       "        vertical-align: middle;\n",
       "    }\n",
       "\n",
       "    .dataframe tbody tr th {\n",
       "        vertical-align: top;\n",
       "    }\n",
       "\n",
       "    .dataframe thead th {\n",
       "        text-align: right;\n",
       "    }\n",
       "</style>\n",
       "<table border=\"1\" class=\"dataframe\">\n",
       "  <thead>\n",
       "    <tr style=\"text-align: right;\">\n",
       "      <th></th>\n",
       "      <th>PassengerId</th>\n",
       "      <th>Survived</th>\n",
       "    </tr>\n",
       "  </thead>\n",
       "  <tbody>\n",
       "    <tr>\n",
       "      <th>0</th>\n",
       "      <td>892</td>\n",
       "      <td>0</td>\n",
       "    </tr>\n",
       "    <tr>\n",
       "      <th>1</th>\n",
       "      <td>893</td>\n",
       "      <td>0</td>\n",
       "    </tr>\n",
       "    <tr>\n",
       "      <th>2</th>\n",
       "      <td>894</td>\n",
       "      <td>0</td>\n",
       "    </tr>\n",
       "    <tr>\n",
       "      <th>3</th>\n",
       "      <td>895</td>\n",
       "      <td>0</td>\n",
       "    </tr>\n",
       "    <tr>\n",
       "      <th>4</th>\n",
       "      <td>896</td>\n",
       "      <td>1</td>\n",
       "    </tr>\n",
       "  </tbody>\n",
       "</table>\n",
       "</div>"
      ],
      "text/plain": [
       "   PassengerId  Survived\n",
       "0          892         0\n",
       "1          893         0\n",
       "2          894         0\n",
       "3          895         0\n",
       "4          896         1"
      ]
     },
     "execution_count": 72,
     "metadata": {},
     "output_type": "execute_result"
    }
   ],
   "source": [
    "submission = pd.read_csv(\"Submit/gender_submission.csv\")\n",
    "submission\n",
    "\n",
    "submission[\"Survived\"] = predTest\n",
    "\n",
    "\n",
    "print(submission.shape)\n",
    "submission.head()"
   ]
  },
  {
   "cell_type": "code",
   "execution_count": 73,
   "metadata": {},
   "outputs": [],
   "source": [
    "submission.to_csv(\"logistics_submission_1.csv\", index=False)"
   ]
  },
  {
   "attachments": {
    "image.png": {
     "image/png": "[encoded data removed]"
    }
   },
   "cell_type": "markdown",
   "metadata": {},
   "source": [
    "### 예상 결과 아래와 같이 총 10,435 명중 8,883 수준의 결과를 얻었음.\n",
    "score: 0.75119  8883/10,435 [85%]\n",
    "![image.png](attachment:image.png)"
   ]
  },
  {
   "cell_type": "markdown",
   "metadata": {},
   "source": [
    "### 6-2 Tensorflow: StatsModel 보다 정확(상향)한 모델을 도출 하였음."
   ]
  },
  {
   "cell_type": "code",
   "execution_count": 74,
   "metadata": {},
   "outputs": [
    {
     "name": "stdout",
     "output_type": "stream",
     "text": [
      "one_hot Tensor(\"one_hot:0\", shape=(?, 1, 2), dtype=float32)\n",
      "reshape Tensor(\"Reshape:0\", shape=(?, 2), dtype=float32)\n"
     ]
    }
   ],
   "source": [
    "nb_classes = 2  # 0 ~ 1\n",
    "\n",
    "X = tf.placeholder(tf.float32, [None, X_train.shape[1]])\n",
    "Y = tf.placeholder(tf.int32, [None, 1])  # 0 ~ 1\n",
    "Y_one_hot = tf.one_hot(Y, nb_classes)  # one hot\n",
    "print(\"one_hot\", Y_one_hot)\n",
    "Y_one_hot = tf.reshape(Y_one_hot, [-1, nb_classes])\n",
    "print(\"reshape\", Y_one_hot)"
   ]
  },
  {
   "cell_type": "code",
   "execution_count": 75,
   "metadata": {},
   "outputs": [
    {
     "name": "stdout",
     "output_type": "stream",
     "text": [
      "WARNING:tensorflow:From <ipython-input-75-b5e8634dbc36>:11: softmax_cross_entropy_with_logits (from tensorflow.python.ops.nn_ops) is deprecated and will be removed in a future version.\n",
      "Instructions for updating:\n",
      "\n",
      "Future major versions of TensorFlow will allow gradients to flow\n",
      "into the labels input on backprop by default.\n",
      "\n",
      "See tf.nn.softmax_cross_entropy_with_logits_v2.\n",
      "\n"
     ]
    }
   ],
   "source": [
    "W = tf.Variable(tf.random_normal([X_train.shape[1], nb_classes]), name='weight')\n",
    "b = tf.Variable(tf.random_normal([nb_classes]), name='bias')\n",
    "\n",
    "# tf.nn.softmax computes softmax activations\n",
    "# softmax = exp(logits) / reduce_sum(exp(logits), dim)\n",
    "logits = tf.matmul(X, W) + b\n",
    "hypothesis = tf.nn.softmax(logits)\n",
    "\n",
    "# Cross entropy cost/loss\n",
    "cost_i = tf.nn.softmax_cross_entropy_with_logits(logits=logits,\n",
    "                                                 labels=Y_one_hot)\n",
    "cost = tf.reduce_mean(cost_i)\n",
    "optimizer = tf.train.GradientDescentOptimizer(learning_rate=0.1).minimize(cost)\n",
    "\n",
    "prediction = tf.argmax(hypothesis, 1)\n",
    "correct_prediction = tf.equal(prediction, tf.argmax(Y_one_hot, 1))\n",
    "accuracy = tf.reduce_mean(tf.cast(correct_prediction, tf.float32))"
   ]
  },
  {
   "cell_type": "code",
   "execution_count": 76,
   "metadata": {},
   "outputs": [],
   "source": [
    "import statsmodels.api as sm\n",
    "from sklearn.linear_model import LogisticRegression\n",
    "import tensorflow as tf\n",
    "from sklearn.model_selection import train_test_split"
   ]
  },
  {
   "cell_type": "markdown",
   "metadata": {},
   "source": [
    "* 총 3만번의 학습을 통해 예상 모델을 도출\n",
    "* 스텝이 증가함에 따라 정확도(ACC)가 상승하는 것을 볼 수 있음(아래 Output 및 그래프 참조)"
   ]
  },
  {
   "cell_type": "code",
   "execution_count": 77,
   "metadata": {},
   "outputs": [
    {
     "name": "stdout",
     "output_type": "stream",
     "text": [
      "Step:     0\tLoss: 1.565\tAcc: 59.59%\n",
      "Step:   100\tLoss: 0.611\tAcc: 76.50%\n",
      "Step:   200\tLoss: 0.528\tAcc: 79.00%\n",
      "Step:   300\tLoss: 0.491\tAcc: 80.02%\n",
      "Step:   400\tLoss: 0.470\tAcc: 81.16%\n",
      "Step:   500\tLoss: 0.457\tAcc: 81.38%\n",
      "Step:   600\tLoss: 0.447\tAcc: 82.18%\n",
      "Step:   700\tLoss: 0.439\tAcc: 82.63%\n",
      "Step:   800\tLoss: 0.433\tAcc: 82.63%\n",
      "Step:   900\tLoss: 0.428\tAcc: 82.52%\n",
      "Step:  1000\tLoss: 0.423\tAcc: 82.41%\n",
      "Step:  1100\tLoss: 0.420\tAcc: 82.29%\n",
      "Step:  1200\tLoss: 0.417\tAcc: 82.41%\n",
      "Step:  1300\tLoss: 0.414\tAcc: 82.52%\n",
      "Step:  1400\tLoss: 0.412\tAcc: 82.52%\n",
      "Step:  1500\tLoss: 0.410\tAcc: 82.52%\n",
      "Step:  1600\tLoss: 0.408\tAcc: 82.41%\n",
      "Step:  1700\tLoss: 0.406\tAcc: 82.52%\n",
      "Step:  1800\tLoss: 0.405\tAcc: 82.52%\n",
      "Step:  1900\tLoss: 0.403\tAcc: 82.52%\n",
      "Step:  2000\tLoss: 0.402\tAcc: 82.63%\n",
      "Step:  2100\tLoss: 0.401\tAcc: 82.97%\n",
      "Step:  2200\tLoss: 0.400\tAcc: 82.75%\n",
      "Step:  2300\tLoss: 0.399\tAcc: 82.52%\n",
      "Step:  2400\tLoss: 0.398\tAcc: 82.75%\n",
      "Step:  2500\tLoss: 0.397\tAcc: 82.75%\n",
      "Step:  2600\tLoss: 0.396\tAcc: 82.86%\n",
      "Step:  2700\tLoss: 0.395\tAcc: 82.97%\n",
      "Step:  2800\tLoss: 0.395\tAcc: 83.09%\n",
      "Step:  2900\tLoss: 0.394\tAcc: 83.20%\n",
      "Step:  3000\tLoss: 0.393\tAcc: 83.20%\n",
      "Step:  3100\tLoss: 0.393\tAcc: 83.20%\n",
      "Step:  3200\tLoss: 0.392\tAcc: 83.31%\n",
      "Step:  3300\tLoss: 0.392\tAcc: 83.31%\n",
      "Step:  3400\tLoss: 0.391\tAcc: 83.20%\n",
      "Step:  3500\tLoss: 0.391\tAcc: 83.20%\n",
      "Step:  3600\tLoss: 0.390\tAcc: 83.20%\n",
      "Step:  3700\tLoss: 0.390\tAcc: 83.20%\n",
      "Step:  3800\tLoss: 0.389\tAcc: 83.20%\n",
      "Step:  3900\tLoss: 0.389\tAcc: 83.20%\n",
      "Step:  4000\tLoss: 0.388\tAcc: 83.31%\n",
      "Step:  4100\tLoss: 0.388\tAcc: 83.31%\n",
      "Step:  4200\tLoss: 0.388\tAcc: 83.31%\n",
      "Step:  4300\tLoss: 0.387\tAcc: 83.31%\n",
      "Step:  4400\tLoss: 0.387\tAcc: 83.31%\n",
      "Step:  4500\tLoss: 0.386\tAcc: 83.54%\n",
      "Step:  4600\tLoss: 0.386\tAcc: 83.65%\n",
      "Step:  4700\tLoss: 0.386\tAcc: 83.65%\n",
      "Step:  4800\tLoss: 0.386\tAcc: 83.65%\n",
      "Step:  4900\tLoss: 0.385\tAcc: 83.65%\n",
      "Step:  5000\tLoss: 0.385\tAcc: 83.54%\n",
      "Step:  5100\tLoss: 0.385\tAcc: 83.54%\n",
      "Step:  5200\tLoss: 0.384\tAcc: 83.54%\n",
      "Step:  5300\tLoss: 0.384\tAcc: 83.54%\n",
      "Step:  5400\tLoss: 0.384\tAcc: 83.54%\n",
      "Step:  5500\tLoss: 0.384\tAcc: 83.54%\n",
      "Step:  5600\tLoss: 0.383\tAcc: 83.54%\n",
      "Step:  5700\tLoss: 0.383\tAcc: 83.65%\n",
      "Step:  5800\tLoss: 0.383\tAcc: 83.65%\n",
      "Step:  5900\tLoss: 0.383\tAcc: 83.65%\n",
      "Step:  6000\tLoss: 0.382\tAcc: 83.65%\n",
      "Step:  6100\tLoss: 0.382\tAcc: 83.65%\n",
      "Step:  6200\tLoss: 0.382\tAcc: 83.65%\n",
      "Step:  6300\tLoss: 0.382\tAcc: 83.65%\n",
      "Step:  6400\tLoss: 0.382\tAcc: 83.65%\n",
      "Step:  6500\tLoss: 0.381\tAcc: 83.77%\n",
      "Step:  6600\tLoss: 0.381\tAcc: 83.77%\n",
      "Step:  6700\tLoss: 0.381\tAcc: 83.88%\n",
      "Step:  6800\tLoss: 0.381\tAcc: 83.88%\n",
      "Step:  6900\tLoss: 0.381\tAcc: 83.88%\n",
      "Step:  7000\tLoss: 0.381\tAcc: 84.00%\n",
      "Step:  7100\tLoss: 0.380\tAcc: 84.00%\n",
      "Step:  7200\tLoss: 0.380\tAcc: 84.11%\n",
      "Step:  7300\tLoss: 0.380\tAcc: 84.11%\n",
      "Step:  7400\tLoss: 0.380\tAcc: 84.11%\n",
      "Step:  7500\tLoss: 0.380\tAcc: 84.11%\n",
      "Step:  7600\tLoss: 0.380\tAcc: 84.11%\n",
      "Step:  7700\tLoss: 0.380\tAcc: 84.11%\n",
      "Step:  7800\tLoss: 0.379\tAcc: 84.11%\n",
      "Step:  7900\tLoss: 0.379\tAcc: 84.11%\n",
      "Step:  8000\tLoss: 0.379\tAcc: 84.11%\n",
      "Step:  8100\tLoss: 0.379\tAcc: 84.22%\n",
      "Step:  8200\tLoss: 0.379\tAcc: 84.34%\n",
      "Step:  8300\tLoss: 0.379\tAcc: 84.34%\n",
      "Step:  8400\tLoss: 0.379\tAcc: 84.34%\n",
      "Step:  8500\tLoss: 0.378\tAcc: 84.34%\n",
      "Step:  8600\tLoss: 0.378\tAcc: 84.34%\n",
      "Step:  8700\tLoss: 0.378\tAcc: 84.34%\n",
      "Step:  8800\tLoss: 0.378\tAcc: 84.34%\n",
      "Step:  8900\tLoss: 0.378\tAcc: 84.34%\n",
      "Step:  9000\tLoss: 0.378\tAcc: 84.34%\n",
      "Step:  9100\tLoss: 0.378\tAcc: 84.34%\n",
      "Step:  9200\tLoss: 0.378\tAcc: 84.34%\n",
      "Step:  9300\tLoss: 0.378\tAcc: 84.34%\n",
      "Step:  9400\tLoss: 0.377\tAcc: 84.34%\n",
      "Step:  9500\tLoss: 0.377\tAcc: 84.34%\n",
      "Step:  9600\tLoss: 0.377\tAcc: 84.34%\n",
      "Step:  9700\tLoss: 0.377\tAcc: 84.34%\n",
      "Step:  9800\tLoss: 0.377\tAcc: 84.34%\n",
      "Step:  9900\tLoss: 0.377\tAcc: 84.34%\n",
      "Step: 10000\tLoss: 0.377\tAcc: 84.34%\n",
      "Step: 10100\tLoss: 0.377\tAcc: 84.34%\n",
      "Step: 10200\tLoss: 0.377\tAcc: 84.34%\n",
      "Step: 10300\tLoss: 0.377\tAcc: 84.34%\n",
      "Step: 10400\tLoss: 0.377\tAcc: 84.22%\n",
      "Step: 10500\tLoss: 0.376\tAcc: 84.22%\n",
      "Step: 10600\tLoss: 0.376\tAcc: 84.22%\n",
      "Step: 10700\tLoss: 0.376\tAcc: 84.22%\n",
      "Step: 10800\tLoss: 0.376\tAcc: 84.22%\n",
      "Step: 10900\tLoss: 0.376\tAcc: 84.22%\n",
      "Step: 11000\tLoss: 0.376\tAcc: 84.22%\n",
      "Step: 11100\tLoss: 0.376\tAcc: 84.22%\n",
      "Step: 11200\tLoss: 0.376\tAcc: 84.22%\n",
      "Step: 11300\tLoss: 0.376\tAcc: 84.22%\n",
      "Step: 11400\tLoss: 0.376\tAcc: 84.34%\n",
      "Step: 11500\tLoss: 0.376\tAcc: 84.34%\n",
      "Step: 11600\tLoss: 0.376\tAcc: 84.34%\n",
      "Step: 11700\tLoss: 0.376\tAcc: 84.34%\n",
      "Step: 11800\tLoss: 0.375\tAcc: 84.34%\n",
      "Step: 11900\tLoss: 0.375\tAcc: 84.34%\n",
      "Step: 12000\tLoss: 0.375\tAcc: 84.34%\n",
      "Step: 12100\tLoss: 0.375\tAcc: 84.34%\n",
      "Step: 12200\tLoss: 0.375\tAcc: 84.34%\n",
      "Step: 12300\tLoss: 0.375\tAcc: 84.34%\n",
      "Step: 12400\tLoss: 0.375\tAcc: 84.34%\n",
      "Step: 12500\tLoss: 0.375\tAcc: 84.34%\n",
      "Step: 12600\tLoss: 0.375\tAcc: 84.34%\n",
      "Step: 12700\tLoss: 0.375\tAcc: 84.34%\n",
      "Step: 12800\tLoss: 0.375\tAcc: 84.34%\n",
      "Step: 12900\tLoss: 0.375\tAcc: 84.34%\n",
      "Step: 13000\tLoss: 0.375\tAcc: 84.34%\n",
      "Step: 13100\tLoss: 0.375\tAcc: 84.34%\n",
      "Step: 13200\tLoss: 0.375\tAcc: 84.34%\n",
      "Step: 13300\tLoss: 0.375\tAcc: 84.34%\n",
      "Step: 13400\tLoss: 0.374\tAcc: 84.34%\n",
      "Step: 13500\tLoss: 0.374\tAcc: 84.34%\n",
      "Step: 13600\tLoss: 0.374\tAcc: 84.34%\n",
      "Step: 13700\tLoss: 0.374\tAcc: 84.34%\n",
      "Step: 13800\tLoss: 0.374\tAcc: 84.34%\n",
      "Step: 13900\tLoss: 0.374\tAcc: 84.34%\n",
      "Step: 14000\tLoss: 0.374\tAcc: 84.34%\n",
      "Step: 14100\tLoss: 0.374\tAcc: 84.34%\n",
      "Step: 14200\tLoss: 0.374\tAcc: 84.45%\n",
      "Step: 14300\tLoss: 0.374\tAcc: 84.45%\n",
      "Step: 14400\tLoss: 0.374\tAcc: 84.45%\n",
      "Step: 14500\tLoss: 0.374\tAcc: 84.45%\n",
      "Step: 14600\tLoss: 0.374\tAcc: 84.45%\n",
      "Step: 14700\tLoss: 0.374\tAcc: 84.45%\n",
      "Step: 14800\tLoss: 0.374\tAcc: 84.45%\n",
      "Step: 14900\tLoss: 0.374\tAcc: 84.45%\n",
      "Step: 15000\tLoss: 0.374\tAcc: 84.45%\n",
      "Step: 15100\tLoss: 0.374\tAcc: 84.45%\n",
      "Step: 15200\tLoss: 0.374\tAcc: 84.45%\n",
      "Step: 15300\tLoss: 0.374\tAcc: 84.45%\n",
      "Step: 15400\tLoss: 0.374\tAcc: 84.45%\n",
      "Step: 15500\tLoss: 0.373\tAcc: 84.45%\n",
      "Step: 15600\tLoss: 0.373\tAcc: 84.45%\n",
      "Step: 15700\tLoss: 0.373\tAcc: 84.45%\n",
      "Step: 15800\tLoss: 0.373\tAcc: 84.45%\n",
      "Step: 15900\tLoss: 0.373\tAcc: 84.45%\n",
      "Step: 16000\tLoss: 0.373\tAcc: 84.45%\n",
      "Step: 16100\tLoss: 0.373\tAcc: 84.45%\n",
      "Step: 16200\tLoss: 0.373\tAcc: 84.45%\n",
      "Step: 16300\tLoss: 0.373\tAcc: 84.45%\n",
      "Step: 16400\tLoss: 0.373\tAcc: 84.45%\n",
      "Step: 16500\tLoss: 0.373\tAcc: 84.45%\n",
      "Step: 16600\tLoss: 0.373\tAcc: 84.45%\n",
      "Step: 16700\tLoss: 0.373\tAcc: 84.45%\n",
      "Step: 16800\tLoss: 0.373\tAcc: 84.45%\n",
      "Step: 16900\tLoss: 0.373\tAcc: 84.45%\n",
      "Step: 17000\tLoss: 0.373\tAcc: 84.45%\n",
      "Step: 17100\tLoss: 0.373\tAcc: 84.45%\n",
      "Step: 17200\tLoss: 0.373\tAcc: 84.45%\n",
      "Step: 17300\tLoss: 0.373\tAcc: 84.45%\n",
      "Step: 17400\tLoss: 0.373\tAcc: 84.45%\n",
      "Step: 17500\tLoss: 0.373\tAcc: 84.45%\n",
      "Step: 17600\tLoss: 0.373\tAcc: 84.45%\n",
      "Step: 17700\tLoss: 0.373\tAcc: 84.45%\n",
      "Step: 17800\tLoss: 0.373\tAcc: 84.45%\n",
      "Step: 17900\tLoss: 0.373\tAcc: 84.34%\n",
      "Step: 18000\tLoss: 0.373\tAcc: 84.45%\n",
      "Step: 18100\tLoss: 0.373\tAcc: 84.45%\n",
      "Step: 18200\tLoss: 0.373\tAcc: 84.45%\n",
      "Step: 18300\tLoss: 0.373\tAcc: 84.45%\n",
      "Step: 18400\tLoss: 0.373\tAcc: 84.45%\n",
      "Step: 18500\tLoss: 0.372\tAcc: 84.45%\n",
      "Step: 18600\tLoss: 0.372\tAcc: 84.45%\n",
      "Step: 18700\tLoss: 0.372\tAcc: 84.45%\n",
      "Step: 18800\tLoss: 0.372\tAcc: 84.45%\n",
      "Step: 18900\tLoss: 0.372\tAcc: 84.45%\n",
      "Step: 19000\tLoss: 0.372\tAcc: 84.45%\n",
      "Step: 19100\tLoss: 0.372\tAcc: 84.45%\n",
      "Step: 19200\tLoss: 0.372\tAcc: 84.45%\n",
      "Step: 19300\tLoss: 0.372\tAcc: 84.45%\n",
      "Step: 19400\tLoss: 0.372\tAcc: 84.45%\n",
      "Step: 19500\tLoss: 0.372\tAcc: 84.45%\n",
      "Step: 19600\tLoss: 0.372\tAcc: 84.45%\n",
      "Step: 19700\tLoss: 0.372\tAcc: 84.45%\n",
      "Step: 19800\tLoss: 0.372\tAcc: 84.45%\n",
      "Step: 19900\tLoss: 0.372\tAcc: 84.45%\n",
      "Step: 20000\tLoss: 0.372\tAcc: 84.45%\n",
      "Step: 20100\tLoss: 0.372\tAcc: 84.45%\n",
      "Step: 20200\tLoss: 0.372\tAcc: 84.45%\n",
      "Step: 20300\tLoss: 0.372\tAcc: 84.45%\n",
      "Step: 20400\tLoss: 0.372\tAcc: 84.56%\n",
      "Step: 20500\tLoss: 0.372\tAcc: 84.56%\n",
      "Step: 20600\tLoss: 0.372\tAcc: 84.56%\n",
      "Step: 20700\tLoss: 0.372\tAcc: 84.56%\n",
      "Step: 20800\tLoss: 0.372\tAcc: 84.56%\n",
      "Step: 20900\tLoss: 0.372\tAcc: 84.56%\n",
      "Step: 21000\tLoss: 0.372\tAcc: 84.56%\n",
      "Step: 21100\tLoss: 0.372\tAcc: 84.56%\n",
      "Step: 21200\tLoss: 0.372\tAcc: 84.56%\n",
      "Step: 21300\tLoss: 0.372\tAcc: 84.56%\n",
      "Step: 21400\tLoss: 0.372\tAcc: 84.56%\n",
      "Step: 21500\tLoss: 0.372\tAcc: 84.56%\n",
      "Step: 21600\tLoss: 0.372\tAcc: 84.56%\n",
      "Step: 21700\tLoss: 0.372\tAcc: 84.56%\n",
      "Step: 21800\tLoss: 0.372\tAcc: 84.56%\n",
      "Step: 21900\tLoss: 0.372\tAcc: 84.56%\n",
      "Step: 22000\tLoss: 0.372\tAcc: 84.68%\n",
      "Step: 22100\tLoss: 0.372\tAcc: 84.68%\n",
      "Step: 22200\tLoss: 0.372\tAcc: 84.68%\n",
      "Step: 22300\tLoss: 0.372\tAcc: 84.68%\n",
      "Step: 22400\tLoss: 0.372\tAcc: 84.68%\n",
      "Step: 22500\tLoss: 0.372\tAcc: 84.68%\n",
      "Step: 22600\tLoss: 0.372\tAcc: 84.68%\n",
      "Step: 22700\tLoss: 0.372\tAcc: 84.68%\n"
     ]
    },
    {
     "name": "stdout",
     "output_type": "stream",
     "text": [
      "Step: 22800\tLoss: 0.372\tAcc: 84.68%\n",
      "Step: 22900\tLoss: 0.372\tAcc: 84.68%\n",
      "Step: 23000\tLoss: 0.372\tAcc: 84.68%\n",
      "Step: 23100\tLoss: 0.372\tAcc: 84.68%\n",
      "Step: 23200\tLoss: 0.371\tAcc: 84.68%\n",
      "Step: 23300\tLoss: 0.371\tAcc: 84.68%\n",
      "Step: 23400\tLoss: 0.371\tAcc: 84.68%\n",
      "Step: 23500\tLoss: 0.371\tAcc: 84.68%\n",
      "Step: 23600\tLoss: 0.371\tAcc: 84.68%\n",
      "Step: 23700\tLoss: 0.371\tAcc: 84.68%\n",
      "Step: 23800\tLoss: 0.371\tAcc: 84.68%\n",
      "Step: 23900\tLoss: 0.371\tAcc: 84.68%\n",
      "Step: 24000\tLoss: 0.371\tAcc: 84.68%\n",
      "Step: 24100\tLoss: 0.371\tAcc: 84.68%\n",
      "Step: 24200\tLoss: 0.371\tAcc: 84.68%\n",
      "Step: 24300\tLoss: 0.371\tAcc: 84.68%\n",
      "Step: 24400\tLoss: 0.371\tAcc: 84.68%\n",
      "Step: 24500\tLoss: 0.371\tAcc: 84.68%\n",
      "Step: 24600\tLoss: 0.371\tAcc: 84.68%\n",
      "Step: 24700\tLoss: 0.371\tAcc: 84.68%\n",
      "Step: 24800\tLoss: 0.371\tAcc: 84.68%\n",
      "Step: 24900\tLoss: 0.371\tAcc: 84.68%\n",
      "Step: 25000\tLoss: 0.371\tAcc: 84.68%\n",
      "Step: 25100\tLoss: 0.371\tAcc: 84.68%\n",
      "Step: 25200\tLoss: 0.371\tAcc: 84.68%\n",
      "Step: 25300\tLoss: 0.371\tAcc: 84.68%\n",
      "Step: 25400\tLoss: 0.371\tAcc: 84.68%\n",
      "Step: 25500\tLoss: 0.371\tAcc: 84.68%\n",
      "Step: 25600\tLoss: 0.371\tAcc: 84.68%\n",
      "Step: 25700\tLoss: 0.371\tAcc: 84.68%\n",
      "Step: 25800\tLoss: 0.371\tAcc: 84.68%\n",
      "Step: 25900\tLoss: 0.371\tAcc: 84.68%\n",
      "Step: 26000\tLoss: 0.371\tAcc: 84.68%\n",
      "Step: 26100\tLoss: 0.371\tAcc: 84.68%\n",
      "Step: 26200\tLoss: 0.371\tAcc: 84.68%\n",
      "Step: 26300\tLoss: 0.371\tAcc: 84.68%\n",
      "Step: 26400\tLoss: 0.371\tAcc: 84.68%\n",
      "Step: 26500\tLoss: 0.371\tAcc: 84.68%\n",
      "Step: 26600\tLoss: 0.371\tAcc: 84.68%\n",
      "Step: 26700\tLoss: 0.371\tAcc: 84.68%\n",
      "Step: 26800\tLoss: 0.371\tAcc: 84.68%\n",
      "Step: 26900\tLoss: 0.371\tAcc: 84.56%\n",
      "Step: 27000\tLoss: 0.371\tAcc: 84.56%\n",
      "Step: 27100\tLoss: 0.371\tAcc: 84.56%\n",
      "Step: 27200\tLoss: 0.371\tAcc: 84.56%\n",
      "Step: 27300\tLoss: 0.371\tAcc: 84.56%\n",
      "Step: 27400\tLoss: 0.371\tAcc: 84.56%\n",
      "Step: 27500\tLoss: 0.371\tAcc: 84.56%\n",
      "Step: 27600\tLoss: 0.371\tAcc: 84.56%\n",
      "Step: 27700\tLoss: 0.371\tAcc: 84.56%\n",
      "Step: 27800\tLoss: 0.371\tAcc: 84.56%\n",
      "Step: 27900\tLoss: 0.371\tAcc: 84.56%\n",
      "Step: 28000\tLoss: 0.371\tAcc: 84.56%\n",
      "Step: 28100\tLoss: 0.371\tAcc: 84.56%\n",
      "Step: 28200\tLoss: 0.371\tAcc: 84.56%\n",
      "Step: 28300\tLoss: 0.371\tAcc: 84.56%\n",
      "Step: 28400\tLoss: 0.371\tAcc: 84.56%\n",
      "Step: 28500\tLoss: 0.371\tAcc: 84.56%\n",
      "Step: 28600\tLoss: 0.371\tAcc: 84.56%\n",
      "Step: 28700\tLoss: 0.371\tAcc: 84.56%\n",
      "Step: 28800\tLoss: 0.371\tAcc: 84.56%\n",
      "Step: 28900\tLoss: 0.371\tAcc: 84.56%\n",
      "Step: 29000\tLoss: 0.371\tAcc: 84.56%\n",
      "Step: 29100\tLoss: 0.371\tAcc: 84.56%\n",
      "Step: 29200\tLoss: 0.371\tAcc: 84.56%\n",
      "Step: 29300\tLoss: 0.371\tAcc: 84.56%\n",
      "Step: 29400\tLoss: 0.371\tAcc: 84.56%\n",
      "Step: 29500\tLoss: 0.371\tAcc: 84.56%\n",
      "Step: 29600\tLoss: 0.371\tAcc: 84.56%\n",
      "Step: 29700\tLoss: 0.371\tAcc: 84.56%\n",
      "Step: 29800\tLoss: 0.371\tAcc: 84.56%\n",
      "Step: 29900\tLoss: 0.371\tAcc: 84.56%\n",
      "[True] Prediction: 0 True Y: 0\n",
      "[False] Prediction: 0 True Y: 1\n",
      "[False] Prediction: 0 True Y: 1\n",
      "[False] Prediction: 0 True Y: 1\n",
      "[False] Prediction: 1 True Y: 0\n",
      "[True] Prediction: 0 True Y: 0\n",
      "[False] Prediction: 1 True Y: 0\n",
      "[True] Prediction: 0 True Y: 0\n",
      "[True] Prediction: 1 True Y: 1\n",
      "[False] Prediction: 0 True Y: 1\n",
      "[False] Prediction: 0 True Y: 1\n",
      "[False] Prediction: 0 True Y: 1\n",
      "[False] Prediction: 1 True Y: 0\n",
      "[True] Prediction: 0 True Y: 0\n",
      "[False] Prediction: 1 True Y: 0\n",
      "[True] Prediction: 1 True Y: 1\n",
      "[True] Prediction: 0 True Y: 0\n",
      "[False] Prediction: 0 True Y: 1\n",
      "[True] Prediction: 0 True Y: 0\n",
      "[True] Prediction: 1 True Y: 1\n",
      "[True] Prediction: 0 True Y: 0\n",
      "[True] Prediction: 1 True Y: 1\n",
      "[True] Prediction: 1 True Y: 1\n",
      "[False] Prediction: 0 True Y: 1\n",
      "[False] Prediction: 1 True Y: 0\n",
      "[False] Prediction: 0 True Y: 1\n",
      "[False] Prediction: 1 True Y: 0\n",
      "[False] Prediction: 0 True Y: 1\n",
      "[True] Prediction: 0 True Y: 0\n",
      "[True] Prediction: 0 True Y: 0\n",
      "[False] Prediction: 0 True Y: 1\n",
      "[False] Prediction: 0 True Y: 1\n",
      "[False] Prediction: 1 True Y: 0\n",
      "[True] Prediction: 0 True Y: 0\n",
      "[True] Prediction: 0 True Y: 0\n",
      "[False] Prediction: 0 True Y: 1\n",
      "[False] Prediction: 1 True Y: 0\n",
      "[False] Prediction: 1 True Y: 0\n",
      "[False] Prediction: 0 True Y: 1\n",
      "[True] Prediction: 0 True Y: 0\n",
      "[True] Prediction: 0 True Y: 0\n",
      "[False] Prediction: 1 True Y: 0\n",
      "[False] Prediction: 0 True Y: 1\n",
      "[True] Prediction: 1 True Y: 1\n",
      "[False] Prediction: 1 True Y: 0\n",
      "[True] Prediction: 0 True Y: 0\n",
      "[False] Prediction: 0 True Y: 1\n",
      "[True] Prediction: 0 True Y: 0\n",
      "[False] Prediction: 1 True Y: 0\n",
      "[False] Prediction: 1 True Y: 0\n",
      "[True] Prediction: 0 True Y: 0\n",
      "[False] Prediction: 0 True Y: 1\n",
      "[True] Prediction: 1 True Y: 1\n",
      "[False] Prediction: 1 True Y: 0\n",
      "[False] Prediction: 0 True Y: 1\n",
      "[False] Prediction: 0 True Y: 1\n",
      "[True] Prediction: 0 True Y: 0\n",
      "[False] Prediction: 0 True Y: 1\n",
      "[True] Prediction: 0 True Y: 0\n",
      "[False] Prediction: 1 True Y: 0\n",
      "[False] Prediction: 0 True Y: 1\n",
      "[True] Prediction: 0 True Y: 0\n",
      "[True] Prediction: 0 True Y: 0\n",
      "[False] Prediction: 1 True Y: 0\n",
      "[True] Prediction: 1 True Y: 1\n",
      "[True] Prediction: 1 True Y: 1\n",
      "[False] Prediction: 1 True Y: 0\n",
      "[False] Prediction: 0 True Y: 1\n",
      "[True] Prediction: 0 True Y: 0\n",
      "[True] Prediction: 0 True Y: 0\n",
      "[False] Prediction: 1 True Y: 0\n",
      "[True] Prediction: 0 True Y: 0\n",
      "[False] Prediction: 1 True Y: 0\n",
      "[True] Prediction: 1 True Y: 1\n",
      "[False] Prediction: 1 True Y: 0\n",
      "[False] Prediction: 1 True Y: 0\n",
      "[True] Prediction: 0 True Y: 0\n",
      "[True] Prediction: 1 True Y: 1\n",
      "[False] Prediction: 0 True Y: 1\n",
      "[False] Prediction: 1 True Y: 0\n",
      "[True] Prediction: 1 True Y: 1\n",
      "[False] Prediction: 0 True Y: 1\n",
      "[True] Prediction: 0 True Y: 0\n",
      "[False] Prediction: 0 True Y: 1\n",
      "[False] Prediction: 0 True Y: 1\n",
      "[True] Prediction: 0 True Y: 0\n",
      "[False] Prediction: 1 True Y: 0\n",
      "[True] Prediction: 0 True Y: 0\n",
      "[False] Prediction: 1 True Y: 0\n",
      "[False] Prediction: 1 True Y: 0\n",
      "[False] Prediction: 1 True Y: 0\n",
      "[True] Prediction: 0 True Y: 0\n",
      "[False] Prediction: 1 True Y: 0\n",
      "[True] Prediction: 0 True Y: 0\n",
      "[True] Prediction: 0 True Y: 0\n",
      "[False] Prediction: 0 True Y: 1\n",
      "[True] Prediction: 1 True Y: 1\n",
      "[True] Prediction: 0 True Y: 0\n",
      "[False] Prediction: 1 True Y: 0\n",
      "[True] Prediction: 0 True Y: 0\n",
      "[False] Prediction: 1 True Y: 0\n",
      "[True] Prediction: 0 True Y: 0\n",
      "[True] Prediction: 0 True Y: 0\n",
      "[True] Prediction: 0 True Y: 0\n",
      "[True] Prediction: 1 True Y: 1\n",
      "[False] Prediction: 0 True Y: 1\n",
      "[True] Prediction: 0 True Y: 0\n",
      "[False] Prediction: 0 True Y: 1\n",
      "[True] Prediction: 0 True Y: 0\n",
      "[True] Prediction: 0 True Y: 0\n",
      "[True] Prediction: 0 True Y: 0\n",
      "[False] Prediction: 1 True Y: 0\n",
      "[False] Prediction: 1 True Y: 0\n",
      "[False] Prediction: 1 True Y: 0\n",
      "[False] Prediction: 1 True Y: 0\n",
      "[True] Prediction: 0 True Y: 0\n",
      "[True] Prediction: 0 True Y: 0\n",
      "[False] Prediction: 1 True Y: 0\n",
      "[False] Prediction: 1 True Y: 0\n",
      "[False] Prediction: 1 True Y: 0\n",
      "[False] Prediction: 1 True Y: 0\n",
      "[False] Prediction: 0 True Y: 1\n",
      "[False] Prediction: 1 True Y: 0\n",
      "[False] Prediction: 0 True Y: 1\n",
      "[True] Prediction: 0 True Y: 0\n",
      "[True] Prediction: 1 True Y: 1\n",
      "[False] Prediction: 0 True Y: 1\n",
      "[False] Prediction: 1 True Y: 0\n",
      "[True] Prediction: 0 True Y: 0\n",
      "[True] Prediction: 0 True Y: 0\n",
      "[True] Prediction: 0 True Y: 0\n",
      "[False] Prediction: 0 True Y: 1\n",
      "[True] Prediction: 0 True Y: 0\n",
      "[True] Prediction: 0 True Y: 0\n",
      "[False] Prediction: 0 True Y: 1\n",
      "[True] Prediction: 0 True Y: 0\n",
      "[True] Prediction: 0 True Y: 0\n",
      "[True] Prediction: 0 True Y: 0\n",
      "[False] Prediction: 1 True Y: 0\n",
      "[False] Prediction: 0 True Y: 1\n",
      "[False] Prediction: 0 True Y: 1\n",
      "[False] Prediction: 1 True Y: 0\n",
      "[True] Prediction: 0 True Y: 0\n",
      "[True] Prediction: 0 True Y: 0\n",
      "[False] Prediction: 0 True Y: 1\n",
      "[True] Prediction: 0 True Y: 0\n",
      "[False] Prediction: 1 True Y: 0\n",
      "[True] Prediction: 0 True Y: 0\n",
      "[True] Prediction: 0 True Y: 0\n",
      "[False] Prediction: 0 True Y: 1\n",
      "[False] Prediction: 1 True Y: 0\n",
      "[True] Prediction: 0 True Y: 0\n",
      "[True] Prediction: 0 True Y: 0\n",
      "[False] Prediction: 1 True Y: 0\n",
      "[False] Prediction: 0 True Y: 1\n",
      "[True] Prediction: 0 True Y: 0\n",
      "[False] Prediction: 1 True Y: 0\n",
      "[False] Prediction: 1 True Y: 0\n",
      "[False] Prediction: 0 True Y: 1\n",
      "[False] Prediction: 1 True Y: 0\n",
      "[False] Prediction: 1 True Y: 0\n",
      "[False] Prediction: 1 True Y: 0\n",
      "[True] Prediction: 1 True Y: 1\n",
      "[False] Prediction: 0 True Y: 1\n",
      "[True] Prediction: 0 True Y: 0\n",
      "[False] Prediction: 1 True Y: 0\n",
      "[True] Prediction: 0 True Y: 0\n",
      "[True] Prediction: 0 True Y: 0\n",
      "[False] Prediction: 1 True Y: 0\n",
      "[True] Prediction: 1 True Y: 1\n",
      "[True] Prediction: 0 True Y: 0\n",
      "[True] Prediction: 0 True Y: 0\n",
      "[True] Prediction: 0 True Y: 0\n",
      "[True] Prediction: 0 True Y: 0\n",
      "[True] Prediction: 0 True Y: 0\n",
      "[False] Prediction: 1 True Y: 0\n",
      "[False] Prediction: 1 True Y: 0\n",
      "[True] Prediction: 0 True Y: 0\n",
      "[False] Prediction: 1 True Y: 0\n",
      "[True] Prediction: 1 True Y: 1\n",
      "[False] Prediction: 0 True Y: 1\n",
      "[False] Prediction: 1 True Y: 0\n",
      "[True] Prediction: 1 True Y: 1\n",
      "[False] Prediction: 0 True Y: 1\n",
      "[False] Prediction: 1 True Y: 0\n",
      "[True] Prediction: 0 True Y: 0\n",
      "[False] Prediction: 0 True Y: 1\n",
      "[True] Prediction: 0 True Y: 0\n",
      "[False] Prediction: 0 True Y: 1\n",
      "[False] Prediction: 0 True Y: 1\n",
      "[False] Prediction: 0 True Y: 1\n",
      "[False] Prediction: 0 True Y: 1\n",
      "[False] Prediction: 1 True Y: 0\n",
      "[True] Prediction: 0 True Y: 0\n",
      "[True] Prediction: 1 True Y: 1\n",
      "[True] Prediction: 0 True Y: 0\n",
      "[False] Prediction: 1 True Y: 0\n",
      "[False] Prediction: 1 True Y: 0\n",
      "[True] Prediction: 0 True Y: 0\n",
      "[True] Prediction: 1 True Y: 1\n",
      "[False] Prediction: 1 True Y: 0\n",
      "[False] Prediction: 1 True Y: 0\n",
      "[False] Prediction: 0 True Y: 1\n",
      "[True] Prediction: 1 True Y: 1\n",
      "[False] Prediction: 0 True Y: 1\n",
      "[True] Prediction: 0 True Y: 0\n",
      "[True] Prediction: 1 True Y: 1\n",
      "[True] Prediction: 0 True Y: 0\n",
      "[False] Prediction: 1 True Y: 0\n",
      "[True] Prediction: 0 True Y: 0\n",
      "[False] Prediction: 0 True Y: 1\n",
      "[False] Prediction: 0 True Y: 1\n",
      "[True] Prediction: 0 True Y: 0\n",
      "[True] Prediction: 1 True Y: 1\n",
      "[True] Prediction: 0 True Y: 0\n",
      "[False] Prediction: 0 True Y: 1\n",
      "[False] Prediction: 1 True Y: 0\n",
      "[True] Prediction: 0 True Y: 0\n",
      "[False] Prediction: 1 True Y: 0\n",
      "[False] Prediction: 0 True Y: 1\n",
      "[False] Prediction: 1 True Y: 0\n",
      "[False] Prediction: 0 True Y: 1\n",
      "[False] Prediction: 1 True Y: 0\n",
      "[True] Prediction: 0 True Y: 0\n",
      "[False] Prediction: 1 True Y: 0\n",
      "[True] Prediction: 1 True Y: 1\n",
      "[True] Prediction: 0 True Y: 0\n",
      "[False] Prediction: 1 True Y: 0\n",
      "[False] Prediction: 0 True Y: 1\n",
      "[True] Prediction: 0 True Y: 0\n",
      "[True] Prediction: 0 True Y: 0\n",
      "[False] Prediction: 1 True Y: 0\n",
      "[False] Prediction: 0 True Y: 1\n",
      "[True] Prediction: 0 True Y: 0\n",
      "[True] Prediction: 0 True Y: 0\n",
      "[True] Prediction: 0 True Y: 0\n",
      "[False] Prediction: 0 True Y: 1\n",
      "[True] Prediction: 0 True Y: 0\n",
      "[False] Prediction: 1 True Y: 0\n",
      "[False] Prediction: 1 True Y: 0\n",
      "[False] Prediction: 1 True Y: 0\n",
      "[False] Prediction: 1 True Y: 0\n",
      "[True] Prediction: 1 True Y: 1\n",
      "[False] Prediction: 0 True Y: 1\n",
      "[True] Prediction: 0 True Y: 0\n",
      "[True] Prediction: 0 True Y: 0\n",
      "[False] Prediction: 1 True Y: 0\n",
      "[True] Prediction: 0 True Y: 0\n",
      "[False] Prediction: 1 True Y: 0\n",
      "[False] Prediction: 1 True Y: 0\n",
      "[True] Prediction: 1 True Y: 1\n",
      "[False] Prediction: 0 True Y: 1\n",
      "[False] Prediction: 0 True Y: 1\n",
      "[False] Prediction: 0 True Y: 1\n",
      "[False] Prediction: 0 True Y: 1\n",
      "[True] Prediction: 0 True Y: 0\n",
      "[False] Prediction: 0 True Y: 1\n",
      "[True] Prediction: 0 True Y: 0\n",
      "[False] Prediction: 1 True Y: 0\n",
      "[True] Prediction: 0 True Y: 0\n",
      "[True] Prediction: 0 True Y: 0\n",
      "[True] Prediction: 0 True Y: 0\n",
      "[True] Prediction: 1 True Y: 1\n",
      "[True] Prediction: 1 True Y: 1\n",
      "[False] Prediction: 0 True Y: 1\n",
      "[True] Prediction: 0 True Y: 0\n",
      "[False] Prediction: 0 True Y: 1\n",
      "[False] Prediction: 0 True Y: 1\n",
      "[False] Prediction: 1 True Y: 0\n",
      "[False] Prediction: 0 True Y: 1\n",
      "[False] Prediction: 0 True Y: 1\n",
      "[True] Prediction: 0 True Y: 0\n",
      "[False] Prediction: 1 True Y: 0\n",
      "[False] Prediction: 1 True Y: 0\n",
      "[False] Prediction: 0 True Y: 1\n",
      "[False] Prediction: 1 True Y: 0\n",
      "[True] Prediction: 0 True Y: 0\n",
      "[True] Prediction: 0 True Y: 0\n",
      "[False] Prediction: 0 True Y: 1\n",
      "[True] Prediction: 0 True Y: 0\n",
      "[False] Prediction: 1 True Y: 0\n",
      "[True] Prediction: 1 True Y: 1\n",
      "[False] Prediction: 1 True Y: 0\n",
      "[True] Prediction: 1 True Y: 1\n",
      "[True] Prediction: 1 True Y: 1\n",
      "[False] Prediction: 0 True Y: 1\n",
      "[False] Prediction: 0 True Y: 1\n",
      "[False] Prediction: 1 True Y: 0\n",
      "[True] Prediction: 0 True Y: 0\n",
      "[True] Prediction: 0 True Y: 0\n",
      "[True] Prediction: 0 True Y: 0\n",
      "[False] Prediction: 1 True Y: 0\n",
      "[True] Prediction: 0 True Y: 0\n",
      "[False] Prediction: 0 True Y: 1\n",
      "[False] Prediction: 0 True Y: 1\n",
      "[False] Prediction: 0 True Y: 1\n",
      "[True] Prediction: 1 True Y: 1\n",
      "[True] Prediction: 0 True Y: 0\n",
      "[False] Prediction: 0 True Y: 1\n",
      "[True] Prediction: 0 True Y: 0\n",
      "[False] Prediction: 0 True Y: 1\n",
      "[True] Prediction: 1 True Y: 1\n",
      "[False] Prediction: 0 True Y: 1\n",
      "[True] Prediction: 0 True Y: 0\n",
      "[True] Prediction: 1 True Y: 1\n",
      "[True] Prediction: 1 True Y: 1\n",
      "[False] Prediction: 0 True Y: 1\n",
      "[False] Prediction: 1 True Y: 0\n",
      "[True] Prediction: 0 True Y: 0\n",
      "[True] Prediction: 0 True Y: 0\n",
      "[False] Prediction: 0 True Y: 1\n",
      "[False] Prediction: 0 True Y: 1\n",
      "[True] Prediction: 0 True Y: 0\n",
      "[True] Prediction: 1 True Y: 1\n",
      "[True] Prediction: 1 True Y: 1\n",
      "[False] Prediction: 1 True Y: 0\n",
      "[True] Prediction: 0 True Y: 0\n",
      "[False] Prediction: 0 True Y: 1\n",
      "[False] Prediction: 0 True Y: 1\n",
      "[False] Prediction: 0 True Y: 1\n",
      "[True] Prediction: 0 True Y: 0\n",
      "[False] Prediction: 0 True Y: 1\n",
      "[False] Prediction: 0 True Y: 1\n",
      "[False] Prediction: 0 True Y: 1\n",
      "[True] Prediction: 1 True Y: 1\n",
      "[True] Prediction: 0 True Y: 0\n",
      "[False] Prediction: 1 True Y: 0\n",
      "[True] Prediction: 0 True Y: 0\n",
      "[False] Prediction: 0 True Y: 1\n",
      "[True] Prediction: 0 True Y: 0\n",
      "[False] Prediction: 1 True Y: 0\n",
      "[False] Prediction: 0 True Y: 1\n",
      "[False] Prediction: 0 True Y: 1\n",
      "[False] Prediction: 1 True Y: 0\n",
      "[False] Prediction: 0 True Y: 1\n",
      "[True] Prediction: 0 True Y: 0\n",
      "[True] Prediction: 0 True Y: 0\n",
      "[True] Prediction: 0 True Y: 0\n",
      "[False] Prediction: 0 True Y: 1\n",
      "[True] Prediction: 1 True Y: 1\n",
      "[False] Prediction: 0 True Y: 1\n",
      "[False] Prediction: 0 True Y: 1\n",
      "[True] Prediction: 0 True Y: 0\n",
      "[False] Prediction: 1 True Y: 0\n",
      "[False] Prediction: 1 True Y: 0\n",
      "[False] Prediction: 1 True Y: 0\n",
      "[True] Prediction: 0 True Y: 0\n",
      "[False] Prediction: 1 True Y: 0\n",
      "[True] Prediction: 0 True Y: 0\n",
      "[True] Prediction: 1 True Y: 1\n",
      "[False] Prediction: 1 True Y: 0\n",
      "[False] Prediction: 0 True Y: 1\n",
      "[False] Prediction: 0 True Y: 1\n",
      "[True] Prediction: 0 True Y: 0\n",
      "[False] Prediction: 1 True Y: 0\n",
      "[False] Prediction: 1 True Y: 0\n",
      "[False] Prediction: 1 True Y: 0\n",
      "[True] Prediction: 0 True Y: 0\n",
      "[True] Prediction: 0 True Y: 0\n",
      "[True] Prediction: 1 True Y: 1\n",
      "[False] Prediction: 0 True Y: 1\n",
      "[True] Prediction: 1 True Y: 1\n",
      "[True] Prediction: 1 True Y: 1\n",
      "[False] Prediction: 0 True Y: 1\n",
      "[False] Prediction: 1 True Y: 0\n",
      "[True] Prediction: 0 True Y: 0\n",
      "[True] Prediction: 0 True Y: 0\n",
      "[False] Prediction: 1 True Y: 0\n",
      "[True] Prediction: 1 True Y: 1\n",
      "[False] Prediction: 0 True Y: 1\n",
      "[True] Prediction: 0 True Y: 0\n",
      "[False] Prediction: 1 True Y: 0\n",
      "[True] Prediction: 0 True Y: 0\n",
      "[False] Prediction: 0 True Y: 1\n",
      "[True] Prediction: 1 True Y: 1\n",
      "[False] Prediction: 1 True Y: 0\n",
      "[True] Prediction: 1 True Y: 1\n",
      "[True] Prediction: 0 True Y: 0\n",
      "[True] Prediction: 0 True Y: 0\n",
      "[True] Prediction: 0 True Y: 0\n",
      "[False] Prediction: 0 True Y: 1\n",
      "[True] Prediction: 0 True Y: 0\n",
      "[True] Prediction: 1 True Y: 1\n",
      "[True] Prediction: 1 True Y: 1\n",
      "[False] Prediction: 0 True Y: 1\n",
      "[False] Prediction: 1 True Y: 0\n",
      "[False] Prediction: 0 True Y: 1\n",
      "[False] Prediction: 0 True Y: 1\n",
      "[True] Prediction: 0 True Y: 0\n",
      "[True] Prediction: 0 True Y: 0\n",
      "[False] Prediction: 1 True Y: 0\n",
      "[False] Prediction: 1 True Y: 0\n",
      "[True] Prediction: 1 True Y: 1\n",
      "[False] Prediction: 0 True Y: 1\n",
      "[True] Prediction: 0 True Y: 0\n",
      "[False] Prediction: 1 True Y: 0\n",
      "[True] Prediction: 0 True Y: 0\n",
      "[False] Prediction: 1 True Y: 0\n",
      "[True] Prediction: 0 True Y: 0\n",
      "[True] Prediction: 0 True Y: 0\n",
      "[True] Prediction: 1 True Y: 1\n",
      "[True] Prediction: 0 True Y: 0\n",
      "[False] Prediction: 1 True Y: 0\n",
      "[True] Prediction: 0 True Y: 0\n",
      "[True] Prediction: 0 True Y: 0\n",
      "[True] Prediction: 1 True Y: 1\n",
      "[True] Prediction: 0 True Y: 0\n",
      "[False] Prediction: 0 True Y: 1\n",
      "[False] Prediction: 1 True Y: 0\n",
      "[True] Prediction: 1 True Y: 1\n",
      "[True] Prediction: 1 True Y: 1\n",
      "[False] Prediction: 1 True Y: 0\n",
      "[False] Prediction: 1 True Y: 0\n",
      "[True] Prediction: 0 True Y: 0\n",
      "[False] Prediction: 1 True Y: 0\n",
      "[True] Prediction: 0 True Y: 0\n",
      "[True] Prediction: 0 True Y: 0\n",
      "[False] Prediction: 1 True Y: 0\n"
     ]
    }
   ],
   "source": [
    "# Launch graph\n",
    "with tf.Session() as sess:\n",
    "    sess.run(tf.global_variables_initializer())\n",
    "    loss_list = []\n",
    "    acc_list = []\n",
    "    step_list = []\n",
    "\n",
    "    for step in range(30000):\n",
    "        sess.run(optimizer, feed_dict={X: X_train, Y: y_train})\n",
    "        if step % 100 == 0:\n",
    "            loss, acc = sess.run([cost, accuracy], feed_dict={\n",
    "                                 X: X_train, Y: y_train})\n",
    "            print(\"Step: {:5}\\tLoss: {:.3f}\\tAcc: {:.2%}\".format(\n",
    "                step, loss, acc))\n",
    "            loss_list.append(loss)\n",
    "            acc_list.append(acc)\n",
    "            step_list.append(step)\n",
    "\n",
    "    # Let's see if we can predict\n",
    "    pred = sess.run(prediction, feed_dict={X: X_test})\n",
    "    # y_data: (N,1) = flatten => (N, ) matches pred.shape\n",
    "    for p, y in zip(pred, y_train.flatten()):\n",
    "        print(\"[{}] Prediction: {} True Y: {}\".format(p == int(y), p, int(y)))"
   ]
  },
  {
   "cell_type": "code",
   "execution_count": 78,
   "metadata": {},
   "outputs": [
    {
     "data": {
      "image/png": "[encoded data removed]",
      "text/plain": [
       "<matplotlib.figure.Figure at 0x11c4c3588>"
      ]
     },
     "metadata": {},
     "output_type": "display_data"
    }
   ],
   "source": [
    "import matplotlib.pyplot as plt\n",
    "%matplotlib inline\n",
    "plt.plot( step_list,loss_list, \"r--\")\n",
    "plt.show()"
   ]
  },
  {
   "cell_type": "code",
   "execution_count": 79,
   "metadata": {},
   "outputs": [
    {
     "data": {
      "text/plain": [
       "<matplotlib.axes._subplots.AxesSubplot at 0x11c576438>"
      ]
     },
     "execution_count": 79,
     "metadata": {},
     "output_type": "execute_result"
    },
    {
     "data": {
      "image/png": "[encoded data removed]",
      "text/plain": [
       "<matplotlib.figure.Figure at 0x11cdd6a58>"
      ]
     },
     "metadata": {},
     "output_type": "display_data"
    }
   ],
   "source": [
    "fig,(ax1,ax2)= plt.subplots(ncols=2)\n",
    "fig.set_size_inches(12,5)\n",
    "sns.distplot(y_train,ax=ax1,bins=50)\n",
    "sns.distplot(pred,ax=ax2,bins=50)"
   ]
  },
  {
   "cell_type": "code",
   "execution_count": 80,
   "metadata": {},
   "outputs": [
    {
     "name": "stdout",
     "output_type": "stream",
     "text": [
      "(418, 2)\n"
     ]
    },
    {
     "data": {
      "text/html": [
       "<div>\n",
       "<style scoped>\n",
       "    .dataframe tbody tr th:only-of-type {\n",
       "        vertical-align: middle;\n",
       "    }\n",
       "\n",
       "    .dataframe tbody tr th {\n",
       "        vertical-align: top;\n",
       "    }\n",
       "\n",
       "    .dataframe thead th {\n",
       "        text-align: right;\n",
       "    }\n",
       "</style>\n",
       "<table border=\"1\" class=\"dataframe\">\n",
       "  <thead>\n",
       "    <tr style=\"text-align: right;\">\n",
       "      <th></th>\n",
       "      <th>PassengerId</th>\n",
       "      <th>Survived</th>\n",
       "    </tr>\n",
       "  </thead>\n",
       "  <tbody>\n",
       "    <tr>\n",
       "      <th>0</th>\n",
       "      <td>892</td>\n",
       "      <td>0</td>\n",
       "    </tr>\n",
       "    <tr>\n",
       "      <th>1</th>\n",
       "      <td>893</td>\n",
       "      <td>0</td>\n",
       "    </tr>\n",
       "    <tr>\n",
       "      <th>2</th>\n",
       "      <td>894</td>\n",
       "      <td>0</td>\n",
       "    </tr>\n",
       "    <tr>\n",
       "      <th>3</th>\n",
       "      <td>895</td>\n",
       "      <td>0</td>\n",
       "    </tr>\n",
       "    <tr>\n",
       "      <th>4</th>\n",
       "      <td>896</td>\n",
       "      <td>1</td>\n",
       "    </tr>\n",
       "  </tbody>\n",
       "</table>\n",
       "</div>"
      ],
      "text/plain": [
       "   PassengerId  Survived\n",
       "0          892         0\n",
       "1          893         0\n",
       "2          894         0\n",
       "3          895         0\n",
       "4          896         1"
      ]
     },
     "execution_count": 80,
     "metadata": {},
     "output_type": "execute_result"
    }
   ],
   "source": [
    "submission = pd.read_csv(\"Submit/gender_submission.csv\")\n",
    "submission\n",
    "\n",
    "submission[\"Survived\"] = pred\n",
    "\n",
    "\n",
    "print(submission.shape)\n",
    "submission.head()"
   ]
  },
  {
   "cell_type": "code",
   "execution_count": 82,
   "metadata": {},
   "outputs": [],
   "source": [
    "#csv 파일형식으로 출력\n",
    "submission.to_csv(\"logistics_submission_tensorflow.csv\".format(acc=acc), index=False)"
   ]
  },
  {
   "attachments": {
    "image.png": {
     "image/png": "[encoded data removed]"
    }
   },
   "cell_type": "markdown",
   "metadata": {},
   "source": [
    "### 예상 결과 아래와 같이 이전 모델 대비  1,000위 정도 상승한 결과를 얻었음.\n",
    "score:0.76555\n",
    "  7772 / 10,435 [74.5%]\n",
    "![image.png](attachment:image.png)"
   ]
  }
 ],
 "metadata": {
  "kernelspec": {
   "display_name": "Python 3",
   "language": "python",
   "name": "python3"
  },
  "language_info": {
   "codemirror_mode": {
    "name": "ipython",
    "version": 3
   },
   "file_extension": ".py",
   "mimetype": "text/x-python",
   "name": "python",
   "nbconvert_exporter": "python",
   "pygments_lexer": "ipython3",
   "version": "3.6.4"
  }
 },
 "nbformat": 4,
 "nbformat_minor": 2
}
