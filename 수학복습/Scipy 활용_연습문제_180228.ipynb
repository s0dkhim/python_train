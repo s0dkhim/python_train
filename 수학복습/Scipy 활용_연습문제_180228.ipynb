{
 "cells": [
  {
   "cell_type": "markdown",
   "metadata": {},
   "source": [
    "# SciPy를 사용한 기초적인 검정\n",
    "https://datascienceschool.net/view-notebook/14bde0cc05514b2cae2088805ef9ed52/"
   ]
  },
  {
   "cell_type": "code",
   "execution_count": 47,
   "metadata": {},
   "outputs": [],
   "source": [
    "import numpy as np\n",
    "import scipy as sp\n",
    "from scipy import stats\n",
    "import seaborn as sns\n",
    "import matplotlib as mpl\n",
    "import matplotlib.pylab as plt"
   ]
  },
  {
   "cell_type": "markdown",
   "metadata": {},
   "source": [
    "## 연습 문제 1\n",
    "- N = 10이고 유의 수준이 10%라면 앞면이 나온 횟수가 몇 번이어야지 동전이 fair하지 않다고 이야기 할 수 있을까?"
   ]
  },
  {
   "cell_type": "code",
   "execution_count": 12,
   "metadata": {},
   "outputs": [
    {
     "data": {
      "text/plain": [
       "0.10937500000000003"
      ]
     },
     "execution_count": 12,
     "metadata": {},
     "output_type": "execute_result"
    }
   ],
   "source": [
    "N = 10\n",
    "theta_0 = 0.5\n",
    "\n",
    "np.random.seed(1)\n",
    "\n",
    "x = sp.stats.bernoulli(theta_0).rvs(N)\n",
    "\n",
    "n = np.count_nonzero(x)\n",
    "\n",
    "sp.stats.binom_test(n, N)\n"
   ]
  },
  {
   "cell_type": "markdown",
   "metadata": {},
   "source": [
    "## 연습 문제 2\n",
    "- N = 100이고 유의 수준이 1%라면 앞면이 나온 횟수가 몇 번이어야지 동전이 fair하지 않다고 이야기 할 수 있을까?"
   ]
  },
  {
   "cell_type": "code",
   "execution_count": 18,
   "metadata": {},
   "outputs": [
    {
     "data": {
      "text/plain": [
       "0.9204107626128206"
      ]
     },
     "execution_count": 18,
     "metadata": {},
     "output_type": "execute_result"
    }
   ],
   "source": [
    "N = 100\n",
    "theta_0 = 0.5\n",
    "\n",
    "np.random.seed(0)\n",
    "\n",
    "x = sp.stats.bernoulli(theta_0).rvs(N)\n",
    "\n",
    "n = np.count_nonzero(x)\n",
    "\n",
    "sp.stats.binom_test(n, N)"
   ]
  },
  {
   "cell_type": "markdown",
   "metadata": {},
   "source": [
    "## 연습 문제 3\n",
    "- N = 100이고 앞면이 나온 횟수는 40번이다. 유의 수준이 1%라면 앞면이 나온 횟수가 몇 번이어야지  θ=0.4 라고 이야기 할 수 있을까?"
   ]
  },
  {
   "cell_type": "markdown",
   "metadata": {},
   "source": [
    "## 연습문제 4번\n",
    "- 4-1) 만약 10번 모두 같은 면이 나왔다면 유의 확률은 얼마인가?\n",
    "- 4-2) 만약 9번이 같은 면이 나왔다면 유의 확률은 얼마인가?\n",
    "- 4-3) 만약 8번이 같은 면이 나오고 다른 면이 2번 나왔다면 유의 확률은 얼마인가?\n",
    "- 4-4) 만약 8번이 같은 면이 나오고 다른 두 면이 각각 1번씩 나왔다면 유의 확률은 얼마인가?\n",
    "- 4-5) 만약 7번이 같은 면이 나오고 다른 세 면이 각각 1번씩 나왔다면 유의 확률은 얼마인가?"
   ]
  },
  {
   "cell_type": "code",
   "execution_count": 57,
   "metadata": {},
   "outputs": [
    {
     "name": "stdout",
     "output_type": "stream",
     "text": [
      "10번 모두 같은면: Power_divergenceResult(statistic=30.0, pvalue=1.3800570312932553e-06)\n",
      "9번이 같은 면 p=value =Power_divergenceResult(statistic=22.799999999999997, pvalue=4.445073647060652e-05)\n",
      "8번이 같은 면, 다른 면 2번 p=value =Power_divergenceResult(statistic=17.2, pvalue=0.0006428602522538975)\n",
      "8번이 같은 면, 다른 두면 각 1번 p=value =Power_divergenceResult(statistic=16.4, pvalue=0.0009387420550450413)\n",
      "9번이 같은 면 p=value =Power_divergenceResult(statistic=22.799999999999997, pvalue=4.445073647060652e-05)\n"
     ]
    }
   ],
   "source": [
    "# 4-1) 10번 모두 같은 면이 나왔을 경우 유의 확률\n",
    "\n",
    "n10 = [10, 0, 0 ,0]\n",
    "print(\"10번 모두 같은면: {}\".format(sp.stats.chisquare(n10)))\n",
    "\n",
    "# 4-2) 9번이 같은 면\n",
    "n9 = [9, 1, 0, 0]\n",
    "print(\"9번이 같은 면 p=value ={}\".format(sp.stats.chisquare(n9)))\n",
    "\n",
    "      \n",
    "# 4-3) 8번 같은 면, 다른 면 2번\n",
    "      \n",
    "n8 = [8, 2, 0, 0]\n",
    "print(\"8번이 같은 면, 다른 면 2번 p=value ={}\".format(sp.stats.chisquare(n8)))\n",
    "\n",
    "\n",
    "#4-4) 8번 같은 면, 다른 두면 각 1번\n",
    "n8_1 = [8, 1, 1, 0]\n",
    "print(\"8번이 같은 면, 다른 두면 각 1번 p=value ={}\".format(sp.stats.chisquare(n8_1)))\n",
    "\n",
    "\n",
    "#4-5) 7번 같은 면, 다른 세면 각 1번\n",
    "n7 = [7, 1, 1, 1]\n",
    "print(\"9번이 같은 면 p=value ={}\".format(sp.stats.chisquare(n9)))"
   ]
  },
  {
   "cell_type": "markdown",
   "metadata": {},
   "source": [
    "## 연습 문제 5\n",
    "1반과 2반 학생 들의 성적이 각각 다음과 같다고 가정하자.\n",
    "\n",
    "- 1반 : 80점, 75점, 85점, 50점, 60점, 75점, 45점, 70점, 90점, 95점, 85점, 80점,\n",
    "- 2반 : 80점, 85점, 70점, 80점, 35점, 55점, 80점\n",
    "\n",
    "1반의 실력이 2반보다 좋다고 이야기 할 수 있는가?\n",
    "\n",
    "* 유의수준이 매우 높으므로 귀무가설을 기각할 수 없기 때문에 1반의 실력이 2번보다 좋다고 얘기할 수 없다.\n",
    "  하지만 실제 평균이 5점이나 차이가 나는 것으로 미루어 볼때, 표본이 적음으로 발생한 오차라고 판단된다."
   ]
  },
  {
   "cell_type": "code",
   "execution_count": 60,
   "metadata": {},
   "outputs": [
    {
     "name": "stdout",
     "output_type": "stream",
     "text": [
      "1반 평균: 74.16666666666667\n",
      "2반 평균: 69.28571428571429\n"
     ]
    },
    {
     "data": {
      "image/png": "[encoded data removed]",
      "text/plain": [
       "<matplotlib.figure.Figure at 0x10eb35588>"
      ]
     },
     "metadata": {},
     "output_type": "display_data"
    },
    {
     "data": {
      "text/plain": [
       "Ttest_indResult(statistic=0.596519621317167, pvalue=0.562790180213766)"
      ]
     },
     "execution_count": 60,
     "metadata": {},
     "output_type": "execute_result"
    }
   ],
   "source": [
    "class_1 = np.array([80, 75, 85, 50, 60, 75, 45, 70, 90, 95, 85, 80])\n",
    "class_2 = np.array([80, 85, 70, 80, 35, 55, 80])\n",
    "\n",
    "mu_1 = np.mean(class_1) ; N_1 = 12 ; sigma_1 = np.std(class_1)\n",
    "mu_2 = np.mean(class_2) ; N_2 = 7 ; sigma_2 = np.std(class_2)\n",
    "\n",
    "print('1반 평균: {}'.format(mu_1))\n",
    "print('2반 평균: {}'.format(mu_2))\n",
    "\n",
    "## random \n",
    "np.random.seed(0)\n",
    "\n",
    "x1 = sp.stats.norm(mu_1, sigma_1).rvs(N_1)\n",
    "x2 = sp.stats.norm(mu_2, sigma_2).rvs(N_2)\n",
    "\n",
    "sns.distplot(x1, kde=False, fit=sp.stats.norm)\n",
    "sns.distplot(x2, kde=False, fit=sp.stats.norm)\n",
    "\n",
    "plt.show()\n",
    "## random\n",
    "\n",
    "sp.stats.ttest_ind(class_1, class_2, equal_var=False)"
   ]
  },
  {
   "cell_type": "markdown",
   "metadata": {},
   "source": [
    "\n",
    "## 연습 문제 6\n",
    "어느 학급의 9월달 성적과 10월달 성적이 다음과 같다. 점수는 학생 번호 순으로 배열되어 있다.\n",
    "\n",
    "- 9월 : 80점, 75점, 85점, 50점, 60점, 75점, 45점, 70점, 90점, 95점, 85점, 80점\n",
    "- 10월: 90점, 70점, 90점, 65점, 80점, 85점, 65점, 75점, 80점, 90점, 95점, 95점\n",
    "\n",
    "이 학급의 실력은 더 향상되었다고 이야기 할 수 있는가?\n",
    "\n",
    "* 유의수준이 1%라고 했을 때, 귀무가설을 기각할 수 있으므로 학급의 실력이 향상되었다고 할 수 있다.\n"
   ]
  },
  {
   "cell_type": "code",
   "execution_count": 63,
   "metadata": {},
   "outputs": [
    {
     "data": {
      "image/png": "[encoded data removed]",
      "text/plain": [
       "<matplotlib.figure.Figure at 0x10edbd9e8>"
      ]
     },
     "metadata": {},
     "output_type": "display_data"
    },
    {
     "name": "stdout",
     "output_type": "stream",
     "text": [
      "9월의 평균: 74.16666666666667\n",
      "10월의 평균: 81.66666666666667\n"
     ]
    },
    {
     "data": {
      "text/plain": [
       "Ttest_relResult(statistic=-2.6281127723493993, pvalue=0.023486192540203194)"
      ]
     },
     "execution_count": 63,
     "metadata": {},
     "output_type": "execute_result"
    }
   ],
   "source": [
    "month_9 = np.array([80, 75, 85, 50, 60, 75, 45, 70, 90, 95, 85, 80])\n",
    "month_10 = np.array([90, 70, 90, 65, 80, 85, 65, 75, 80, 90, 95, 95])\n",
    "\n",
    "#random\n",
    "N = 12\n",
    "mu_9 = np.mean(month_9) ; sigma_9 = np.std(month_9)\n",
    "mu_10 = np.mean(month_10) ; sigma_10 = np.std(month_10)\n",
    "\n",
    "np.random.seed(1)\n",
    "\n",
    "x1 = sp.stats.norm(mu_9).rvs(N)\n",
    "x2 = sp.stats.norm(mu_10).rvs(N)\n",
    "\n",
    "sns.distplot(x1, kde=False, fit=sp.stats.norm)\n",
    "sns.distplot(x2, kde=False, fit=sp.stats.norm)\n",
    "\n",
    "plt.show()\n",
    "#random\n",
    "\n",
    "print('9월의 평균: {}'.format(mu_9))\n",
    "print('10월의 평균: {}'.format(mu_10))\n",
    "\n",
    "sp.stats.ttest_rel(month_9, month_10)"
   ]
  }
 ],
 "metadata": {
  "kernelspec": {
   "display_name": "Python 3",
   "language": "python",
   "name": "python3"
  },
  "language_info": {
   "codemirror_mode": {
    "name": "ipython",
    "version": 3
   },
   "file_extension": ".py",
   "mimetype": "text/x-python",
   "name": "python",
   "nbconvert_exporter": "python",
   "pygments_lexer": "ipython3",
   "version": "3.6.4"
  }
 },
 "nbformat": 4,
 "nbformat_minor": 2
}
